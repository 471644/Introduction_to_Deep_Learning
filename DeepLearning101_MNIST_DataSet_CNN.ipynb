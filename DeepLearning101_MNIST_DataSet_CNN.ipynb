{
  "nbformat": 4,
  "nbformat_minor": 0,
  "metadata": {
    "colab": {
      "name": "DeepLearning101.ipynb",
      "provenance": []
    },
    "kernelspec": {
      "name": "python3",
      "display_name": "Python 3"
    },
    "accelerator": "GPU"
  },
  "cells": [
    {
      "cell_type": "markdown",
      "metadata": {
        "id": "Tpz7LVJb1LxC"
      },
      "source": [
        "  This Notebook consists of my work to understand deep learning model buing using Keras "
      ]
    },
    {
      "cell_type": "markdown",
      "metadata": {
        "id": "Bh9FINd74xlF"
      },
      "source": [
        "# Import Libraries"
      ]
    },
    {
      "cell_type": "code",
      "metadata": {
        "id": "hGe6unsS0nZn"
      },
      "source": [
        "import pandas as pd\r\n",
        "import numpy as np \r\n",
        "import matplotlib\r\n",
        "from matplotlib import pyplot\r\n",
        "from sklearn.model_selection import KFold "
      ],
      "execution_count": 12,
      "outputs": []
    },
    {
      "cell_type": "markdown",
      "metadata": {
        "id": "xJ_iJGYb42zS"
      },
      "source": [
        "#### Check GPU Connection "
      ]
    },
    {
      "cell_type": "code",
      "metadata": {
        "colab": {
          "base_uri": "https://localhost:8080/",
          "height": 35
        },
        "id": "NWVgGWBY1dj1",
        "outputId": "c5bd54e6-2728-4f81-df38-5f6bb7c6999f"
      },
      "source": [
        "import tensorflow as tf\r\n",
        "tf.test.gpu_device_name()"
      ],
      "execution_count": 13,
      "outputs": [
        {
          "output_type": "execute_result",
          "data": {
            "application/vnd.google.colaboratory.intrinsic+json": {
              "type": "string"
            },
            "text/plain": [
              "'/device:GPU:0'"
            ]
          },
          "metadata": {
            "tags": []
          },
          "execution_count": 13
        }
      ]
    },
    {
      "cell_type": "markdown",
      "metadata": {
        "id": "WtCnAbYWBSbX"
      },
      "source": [
        "### Load Keras Modules "
      ]
    },
    {
      "cell_type": "code",
      "metadata": {
        "id": "5zdZn9SD20m9"
      },
      "source": [
        "import keras\r\n",
        "from keras import metrics\r\n",
        "from __future__ import print_function # to bring the print function from Python 3 into Python 2.6+\r\n",
        "from keras.models import Sequential\r\n",
        "from keras.layers import Dense,Dropout,Flatten\r\n",
        "from keras.layers import Conv2D,MaxPooling2D\r\n",
        "from keras import backend as K # to load Keras backend utility function ex. clear_session()\r\n",
        "from keras.callbacks import TensorBoard # Enables visualizations for TensorBoard\r\n",
        "from keras.optimizers import SGD\r\n",
        "from keras.utils import to_categorical"
      ],
      "execution_count": 62,
      "outputs": []
    },
    {
      "cell_type": "markdown",
      "metadata": {
        "id": "-noSNxT8_Mv_"
      },
      "source": [
        "# Load Data"
      ]
    },
    {
      "cell_type": "code",
      "metadata": {
        "id": "5jDmaIjL-Gc9"
      },
      "source": [
        "from keras.datasets import mnist "
      ],
      "execution_count": 21,
      "outputs": []
    },
    {
      "cell_type": "code",
      "metadata": {
        "id": "wn8p6sm_AKkP"
      },
      "source": [
        "(train_X,train_Y),(test_X,test_Y) = mnist.load_data()"
      ],
      "execution_count": 22,
      "outputs": []
    },
    {
      "cell_type": "code",
      "metadata": {
        "colab": {
          "base_uri": "https://localhost:8080/"
        },
        "id": "v3guu2DQAbyG",
        "outputId": "897d3218-2ba5-4fa1-a509-d56d4dc92cb3"
      },
      "source": [
        "print(\"Train Data Shape : \",train_X.shape)\r\n",
        "print(\"Train Label Shape : \",train_Y.shape)"
      ],
      "execution_count": 23,
      "outputs": [
        {
          "output_type": "stream",
          "text": [
            "Train Data Shape :  (60000, 28, 28)\n",
            "Train Label Shape :  (60000,)\n"
          ],
          "name": "stdout"
        }
      ]
    },
    {
      "cell_type": "code",
      "metadata": {
        "colab": {
          "base_uri": "https://localhost:8080/"
        },
        "id": "hJszX46bAeKG",
        "outputId": "169ee8be-dc25-4af1-b6d7-80dd86ed357d"
      },
      "source": [
        "print(\"Test Data Shape : \",test_X.shape)\r\n",
        "print(\"Test Label Shape : \",test_Y.shape)"
      ],
      "execution_count": 24,
      "outputs": [
        {
          "output_type": "stream",
          "text": [
            "Test Data Shape :  (10000, 28, 28)\n",
            "Test Label Shape :  (10000,)\n"
          ],
          "name": "stdout"
        }
      ]
    },
    {
      "cell_type": "markdown",
      "metadata": {
        "id": "gEBh0GfZBJc4"
      },
      "source": [
        "#### Reshape Data-Set To have one Channel "
      ]
    },
    {
      "cell_type": "code",
      "metadata": {
        "id": "KIPaRQJQAyPd"
      },
      "source": [
        "train_X = train_X.reshape((train_X.shape[0],28,28,1))\r\n",
        "test_X  = test_X.reshape((test_X.shape[0],28,28,1))"
      ],
      "execution_count": 25,
      "outputs": []
    },
    {
      "cell_type": "code",
      "metadata": {
        "colab": {
          "base_uri": "https://localhost:8080/"
        },
        "id": "I42JxooMBH6O",
        "outputId": "7dfc571e-9ada-4967-f4d1-ffd48ad50f84"
      },
      "source": [
        "train_X.shape"
      ],
      "execution_count": 26,
      "outputs": [
        {
          "output_type": "execute_result",
          "data": {
            "text/plain": [
              "(60000, 28, 28, 1)"
            ]
          },
          "metadata": {
            "tags": []
          },
          "execution_count": 26
        }
      ]
    },
    {
      "cell_type": "markdown",
      "metadata": {
        "id": "xRIxHi3DCONL"
      },
      "source": [
        "#### Label to Categorical 1-Hot Encoding"
      ]
    },
    {
      "cell_type": "code",
      "metadata": {
        "id": "44LRJFO5CCqJ"
      },
      "source": [
        "train_Y = to_categorical(train_Y)\r\n",
        "test_Y  = to_categorical(test_Y)"
      ],
      "execution_count": 27,
      "outputs": []
    },
    {
      "cell_type": "markdown",
      "metadata": {
        "id": "e44p7qKXC1M1"
      },
      "source": [
        "#### Scaling Data-Set"
      ]
    },
    {
      "cell_type": "code",
      "metadata": {
        "id": "oavYtJKZCq73"
      },
      "source": [
        "train_normalized =  train_X.astype('float32')\r\n",
        "test_normalized  =  test_X.astype('float32')\r\n",
        "train_normalized =  train_normalized /255.0\r\n",
        "test_normalized  =  test_normalized /255.0"
      ],
      "execution_count": 29,
      "outputs": []
    },
    {
      "cell_type": "markdown",
      "metadata": {
        "id": "E9noz6i8dRkz"
      },
      "source": [
        "# Utility Functions"
      ]
    },
    {
      "cell_type": "code",
      "metadata": {
        "id": "wAWJt1PZdV_2"
      },
      "source": [
        "def define_model():\r\n",
        "    model = Sequential()\r\n",
        "    model.add(Conv2D(32, (3, 3), activation='relu', kernel_initializer='he_uniform', input_shape=(28, 28, 1)))\r\n",
        "    model.add(MaxPooling2D((2, 2)))\r\n",
        "    model.add(Flatten())\r\n",
        "    model.add(Dense(100, activation='relu', kernel_initializer='he_uniform'))\r\n",
        "    model.add(Dense(10, activation='softmax'))\r\n",
        "\t# compile model\r\n",
        "    opt = SGD(lr=0.01, momentum=0.9)\r\n",
        "    model.compile(optimizer=opt, loss='categorical_crossentropy', metrics=['accuracy'])\r\n",
        "    return model"
      ],
      "execution_count": 57,
      "outputs": []
    },
    {
      "cell_type": "code",
      "metadata": {
        "id": "lGbpEY6ydrmI"
      },
      "source": [
        ""
      ],
      "execution_count": null,
      "outputs": []
    },
    {
      "cell_type": "markdown",
      "metadata": {
        "id": "5fl8BY8oDxk2"
      },
      "source": [
        "# Create Base-Line Model "
      ]
    },
    {
      "cell_type": "code",
      "metadata": {
        "id": "a68O7eorDxSY"
      },
      "source": [
        "model = Sequential()\r\n",
        "model.add(Conv2D(32,(3,3),activation='relu',kernel_initializer='he_uniform',input_shape=(28,28,1)))\r\n",
        "model.add(MaxPool2D(pool_size=(2,2)))\r\n",
        "model.add(Flatten())\r\n",
        "model.add(Dense(100,activation='relu',kernel_initializer='he_uniform'))\r\n",
        "model.add(Dense(10,activation='softmax'))"
      ],
      "execution_count": 44,
      "outputs": []
    },
    {
      "cell_type": "code",
      "metadata": {
        "id": "vZ1Wa0EBDthP"
      },
      "source": [
        "optimization = SGD(learning_rate=0.01,momentum=0.9)"
      ],
      "execution_count": 45,
      "outputs": []
    },
    {
      "cell_type": "code",
      "metadata": {
        "id": "82S1R2OwG8b_"
      },
      "source": [
        "model.compile(optimizer=optimization,loss='categorical_crossentropy',metrics=['accuracy'])"
      ],
      "execution_count": 50,
      "outputs": []
    },
    {
      "cell_type": "code",
      "metadata": {
        "colab": {
          "base_uri": "https://localhost:8080/"
        },
        "id": "Oxrs0ZIkUOBn",
        "outputId": "06fc6786-fa1a-4deb-e70f-be034c595422"
      },
      "source": [
        "model.summary()"
      ],
      "execution_count": 51,
      "outputs": [
        {
          "output_type": "stream",
          "text": [
            "Model: \"sequential_2\"\n",
            "_________________________________________________________________\n",
            "Layer (type)                 Output Shape              Param #   \n",
            "=================================================================\n",
            "conv2d_1 (Conv2D)            (None, 26, 26, 32)        320       \n",
            "_________________________________________________________________\n",
            "max_pooling2d_1 (MaxPooling2 (None, 13, 13, 32)        0         \n",
            "_________________________________________________________________\n",
            "flatten_1 (Flatten)          (None, 5408)              0         \n",
            "_________________________________________________________________\n",
            "dense_2 (Dense)              (None, 100)               540900    \n",
            "_________________________________________________________________\n",
            "dense_3 (Dense)              (None, 10)                1010      \n",
            "=================================================================\n",
            "Total params: 542,230\n",
            "Trainable params: 542,230\n",
            "Non-trainable params: 0\n",
            "_________________________________________________________________\n"
          ],
          "name": "stdout"
        }
      ]
    },
    {
      "cell_type": "code",
      "metadata": {
        "colab": {
          "base_uri": "https://localhost:8080/"
        },
        "id": "4w7cvLOlVrQU",
        "outputId": "61bf0911-e7e0-43c7-f93a-71887333a9ef"
      },
      "source": [
        "history = model.fit(train_normalized, train_Y, epochs=10, batch_size=32, validation_data=(test_normalized, test_Y), verbose=1)"
      ],
      "execution_count": 52,
      "outputs": [
        {
          "output_type": "stream",
          "text": [
            "Epoch 1/10\n",
            "1875/1875 [==============================] - 12s 3ms/step - loss: 0.2936 - accuracy: 0.9089 - val_loss: 0.0668 - val_accuracy: 0.9782\n",
            "Epoch 2/10\n",
            "1875/1875 [==============================] - 5s 3ms/step - loss: 0.0559 - accuracy: 0.9834 - val_loss: 0.0572 - val_accuracy: 0.9798\n",
            "Epoch 3/10\n",
            "1875/1875 [==============================] - 5s 3ms/step - loss: 0.0368 - accuracy: 0.9892 - val_loss: 0.0444 - val_accuracy: 0.9851\n",
            "Epoch 4/10\n",
            "1875/1875 [==============================] - 5s 3ms/step - loss: 0.0250 - accuracy: 0.9927 - val_loss: 0.0393 - val_accuracy: 0.9868\n",
            "Epoch 5/10\n",
            "1875/1875 [==============================] - 5s 3ms/step - loss: 0.0152 - accuracy: 0.9957 - val_loss: 0.0389 - val_accuracy: 0.9865\n",
            "Epoch 6/10\n",
            "1875/1875 [==============================] - 5s 3ms/step - loss: 0.0104 - accuracy: 0.9973 - val_loss: 0.0389 - val_accuracy: 0.9876\n",
            "Epoch 7/10\n",
            "1875/1875 [==============================] - 5s 3ms/step - loss: 0.0077 - accuracy: 0.9979 - val_loss: 0.0352 - val_accuracy: 0.9887\n",
            "Epoch 8/10\n",
            "1875/1875 [==============================] - 5s 3ms/step - loss: 0.0052 - accuracy: 0.9992 - val_loss: 0.0365 - val_accuracy: 0.9885\n",
            "Epoch 9/10\n",
            "1875/1875 [==============================] - 5s 3ms/step - loss: 0.0040 - accuracy: 0.9994 - val_loss: 0.0402 - val_accuracy: 0.9879\n",
            "Epoch 10/10\n",
            "1875/1875 [==============================] - 5s 3ms/step - loss: 0.0023 - accuracy: 0.9996 - val_loss: 0.0369 - val_accuracy: 0.9886\n"
          ],
          "name": "stdout"
        }
      ]
    },
    {
      "cell_type": "code",
      "metadata": {
        "colab": {
          "base_uri": "https://localhost:8080/"
        },
        "id": "ap86UXOraAZn",
        "outputId": "5f3e2982-6547-4946-88fe-5dc288016923"
      },
      "source": [
        "model.evaluate(test_normalized,test_Y,verbose=1)"
      ],
      "execution_count": 55,
      "outputs": [
        {
          "output_type": "stream",
          "text": [
            "313/313 [==============================] - 1s 2ms/step - loss: 0.0369 - accuracy: 0.9886\n"
          ],
          "name": "stdout"
        },
        {
          "output_type": "execute_result",
          "data": {
            "text/plain": [
              "[0.03688724339008331, 0.9886000156402588]"
            ]
          },
          "metadata": {
            "tags": []
          },
          "execution_count": 55
        }
      ]
    },
    {
      "cell_type": "markdown",
      "metadata": {
        "id": "421X189UHtSF"
      },
      "source": [
        "## K-Fold Cross Validation"
      ]
    },
    {
      "cell_type": "code",
      "metadata": {
        "id": "j5kMEfVbHecI"
      },
      "source": [
        "scores, histories = list() , list()"
      ],
      "execution_count": 37,
      "outputs": []
    },
    {
      "cell_type": "code",
      "metadata": {
        "id": "kTdew30RUJfl"
      },
      "source": [
        "kfold = KFold(n_splits=5,shuffle=True,random_state=9)"
      ],
      "execution_count": 38,
      "outputs": []
    },
    {
      "cell_type": "code",
      "metadata": {
        "id": "6SBYXkpXVLc9"
      },
      "source": [
        "for train_ix , test_ix  in kfold.split(train_normalized):\r\n",
        "    model = define_model()\r\n",
        "    train_x,train_y,test_x,test_y=train_normalized[train_ix],train_Y[train_ix],train_normalized[test_ix],train_Y[test_ix]\r\n",
        "    history = model.fit(train_x, train_y, epochs=10, batch_size=32, validation_data=(test_x, test_y), verbose=1)\r\n",
        "    _, acc = model.evaluate(test_x, test_y, verbose=1)\r\n",
        "    print('> %.3f' % (acc * 100.0))\r\n",
        "    scores.append(acc)\r\n",
        "    histories.append(history)\r\n",
        "    del train_x,train_y,test_x,test_y,acc,history,model"
      ],
      "execution_count": null,
      "outputs": []
    },
    {
      "cell_type": "markdown",
      "metadata": {
        "id": "YYz4HDLPg0cV"
      },
      "source": [
        "#### Plot Learning Curves & Accuracy"
      ]
    },
    {
      "cell_type": "code",
      "metadata": {
        "colab": {
          "base_uri": "https://localhost:8080/",
          "height": 487
        },
        "id": "jn95CVrYfOTm",
        "outputId": "896b4feb-54e6-4c76-b64c-f82220bd927f"
      },
      "source": [
        "p = pyplot.figure(figsize=(15,7))\r\n",
        "ax = p.add_subplot(2, 1, 1)\r\n",
        "ax2 = p.add_subplot(2, 1, 2)\r\n",
        "p.tight_layout(pad=3.0)\r\n",
        "for i in range(len(histories)):\r\n",
        "\t# plot loss\r\n",
        "    \r\n",
        "    ax.title.set_text('Cross Entropy Loss')\r\n",
        "    ax.plot(histories[i].history['loss'], color='green', label='Train')\r\n",
        "    ax.plot(histories[i].history['val_loss'], color='red', label='Test')\r\n",
        "    # plot accuracy\r\n",
        "    \r\n",
        "    ax2.title.set_text('Classification-Accuracy')\r\n",
        "    ax2.plot(histories[i].history['accuracy'], color='green', label='Train')\r\n",
        "    ax2.plot(histories[i].history['val_accuracy'], color='red', label='Test')\r\n",
        "pyplot.show()"
      ],
      "execution_count": 87,
      "outputs": [
        {
          "output_type": "display_data",
          "data": {
            "image/png": "[encoded data removed]",
            "text/plain": [
              "<Figure size 1080x504 with 2 Axes>"
            ]
          },
          "metadata": {
            "tags": [],
            "needs_background": "light"
          }
        }
      ]
    },
    {
      "cell_type": "code",
      "metadata": {
        "id": "kHRMP91dhhc3"
      },
      "source": [
        ""
      ],
      "execution_count": null,
      "outputs": []
    }
  ]
}