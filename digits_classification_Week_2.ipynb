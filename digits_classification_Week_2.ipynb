{
  "nbformat": 4,
  "nbformat_minor": 0,
  "metadata": {
    "kernelspec": {
      "name": "python3",
      "display_name": "Python 3"
    },
    "language_info": {
      "codemirror_mode": {
        "name": "ipython",
        "version": 3
      },
      "file_extension": ".py",
      "mimetype": "text/x-python",
      "name": "python",
      "nbconvert_exporter": "python",
      "pygments_lexer": "ipython3",
      "version": "3.6.5"
    },
    "colab": {
      "name": "digits_classification.ipynb",
      "provenance": [],
      "toc_visible": true
    },
    "accelerator": "GPU"
  },
  "cells": [
    {
      "cell_type": "markdown",
      "metadata": {
        "id": "zYnozsGiWbCP",
        "colab_type": "text"
      },
      "source": [
        "# MNIST digits classification with TensorFlow"
      ]
    },
    {
      "cell_type": "markdown",
      "metadata": {
        "id": "fawhhTGsWbCU",
        "colab_type": "text"
      },
      "source": [
        "<img src=\"https://github.com/hse-aml/intro-to-dl/blob/master/week2/v2/images/mnist_sample.png?raw=1\" style=\"width:30%\">"
      ]
    },
    {
      "cell_type": "code",
      "metadata": {
        "id": "nwC4FfSrmT2A",
        "colab_type": "code",
        "colab": {
          "base_uri": "https://localhost:8080/",
          "height": 217
        },
        "outputId": "24324f9f-2233-48d8-cabc-f40aad46d14a"
      },
      "source": [
        "! shred -u setup_google_colab.py\n",
        "! wget https://raw.githubusercontent.com/hse-aml/intro-to-dl/master/setup_google_colab.py -O setup_google_colab.py\n",
        "import setup_google_colab"
      ],
      "execution_count": 3,
      "outputs": [
        {
          "output_type": "stream",
          "text": [
            "shred: setup_google_colab.py: failed to open for writing: No such file or directory\n",
            "--2019-10-10 07:41:26--  https://raw.githubusercontent.com/hse-aml/intro-to-dl/master/setup_google_colab.py\n",
            "Resolving raw.githubusercontent.com (raw.githubusercontent.com)... 151.101.0.133, 151.101.64.133, 151.101.128.133, ...\n",
            "Connecting to raw.githubusercontent.com (raw.githubusercontent.com)|151.101.0.133|:443... connected.\n",
            "HTTP request sent, awaiting response... 200 OK\n",
            "Length: 3792 (3.7K) [text/plain]\n",
            "Saving to: ‘setup_google_colab.py’\n",
            "\n",
            "setup_google_colab. 100%[===================>]   3.70K  --.-KB/s    in 0s      \n",
            "\n",
            "2019-10-10 07:41:26 (69.9 MB/s) - ‘setup_google_colab.py’ saved [3792/3792]\n",
            "\n"
          ],
          "name": "stdout"
        }
      ]
    },
    {
      "cell_type": "code",
      "metadata": {
        "id": "ibsLztv6nfPj",
        "colab_type": "code",
        "colab": {
          "base_uri": "https://localhost:8080/",
          "height": 117
        },
        "outputId": "c049191b-33ca-46df-8699-41c36864e825"
      },
      "source": [
        "setup_google_colab.setup_week2()"
      ],
      "execution_count": 4,
      "outputs": [
        {
          "output_type": "stream",
          "text": [
            "**************************************************\n",
            "inception_v3_weights_tf_dim_ordering_tf_kernels_notop.h5\n",
            "**************************************************\n",
            "cifar-10-batches-py.tar.gz\n",
            "**************************************************\n",
            "mnist.npz\n"
          ],
          "name": "stdout"
        }
      ]
    },
    {
      "cell_type": "code",
      "metadata": {
        "id": "ELBJb0QlWbCW",
        "colab_type": "code",
        "colab": {
          "base_uri": "https://localhost:8080/",
          "height": 50
        },
        "outputId": "1a4a89f0-3945-407a-92b3-42c71c95da24"
      },
      "source": [
        "import numpy as np\n",
        "from sklearn.metrics import accuracy_score\n",
        "from matplotlib import pyplot as plt\n",
        "%matplotlib inline\n",
        "import tensorflow as tf\n",
        "print(\"We're using TF\", tf.__version__)\n",
        "\n",
        "import sys\n",
        "sys.path.append(\"../..\")\n",
        "import grading\n",
        "\n",
        "import matplotlib_utils\n",
        "from importlib import reload\n",
        "reload(matplotlib_utils)\n",
        "\n",
        "import grading_utils\n",
        "reload(grading_utils)\n",
        "\n",
        "import keras_utils\n",
        "from keras_utils import reset_tf_session"
      ],
      "execution_count": 5,
      "outputs": [
        {
          "output_type": "stream",
          "text": [
            "We're using TF 1.15.0-rc3\n"
          ],
          "name": "stdout"
        },
        {
          "output_type": "stream",
          "text": [
            "Using TensorFlow backend.\n"
          ],
          "name": "stderr"
        }
      ]
    },
    {
      "cell_type": "markdown",
      "metadata": {
        "id": "rl1mgULvWbCb",
        "colab_type": "text"
      },
      "source": [
        "# Fill in your Coursera token and email\n",
        "To successfully submit your answers to our grader, please fill in your Coursera submission token and email"
      ]
    },
    {
      "cell_type": "code",
      "metadata": {
        "id": "AQ5lc0VjWbCc",
        "colab_type": "code",
        "colab": {}
      },
      "source": [
        "grader = grading.Grader(assignment_key=\"XtD7ho3TEeiHQBLWejjYAA\", \n",
        "                        all_parts=[\"9XaAS\", \"vmogZ\", \"RMv95\", \"i8bgs\", \"rE763\"])"
      ],
      "execution_count": 0,
      "outputs": []
    },
    {
      "cell_type": "code",
      "metadata": {
        "id": "AGzgV6srWbCg",
        "colab_type": "code",
        "colab": {}
      },
      "source": [
        "# token expires every 30 min\n",
        "COURSERA_TOKEN = \"Lbwc6j3UT88hP88V\"\n",
        "COURSERA_EMAIL = \"suryadeep98@yahoo.in\""
      ],
      "execution_count": 0,
      "outputs": []
    },
    {
      "cell_type": "markdown",
      "metadata": {
        "id": "rjFJx0YqWbCj",
        "colab_type": "text"
      },
      "source": [
        "# Look at the data\n",
        "\n",
        "In this task we have 50000 28x28 images of digits from 0 to 9.\n",
        "We will train a classifier on this data."
      ]
    },
    {
      "cell_type": "code",
      "metadata": {
        "id": "rCSqxK0GWbCj",
        "colab_type": "code",
        "colab": {
          "base_uri": "https://localhost:8080/",
          "height": 50
        },
        "outputId": "40398560-e775-4ad5-f38b-27db54e7faba"
      },
      "source": [
        "import preprocessed_mnist\n",
        "X_train, y_train, X_val, y_val, X_test, y_test = preprocessed_mnist.load_dataset()"
      ],
      "execution_count": 7,
      "outputs": [
        {
          "output_type": "stream",
          "text": [
            "Downloading data from https://s3.amazonaws.com/img-datasets/mnist.npz\n",
            " 7364608/11490434 [==================>...........] - ETA: 0s"
          ],
          "name": "stdout"
        }
      ]
    },
    {
      "cell_type": "code",
      "metadata": {
        "id": "kvCOBmeEWbCl",
        "colab_type": "code",
        "colab": {
          "base_uri": "https://localhost:8080/",
          "height": 688
        },
        "outputId": "5f27e736-eb00-4da6-b418-eb0367f1f2b7"
      },
      "source": [
        "# X contains rgb values divided by 255\n",
        "print(\"X_train [shape %s] sample patch:\\n\" % (str(X_train.shape)), X_train[1, 15:20, 5:10])\n",
        "print(\"A closeup of a sample patch:\")\n",
        "plt.imshow(X_train[1, 15:20, 5:10], cmap=\"Greys\")\n",
        "plt.show()\n",
        "print(\"And the whole sample:\")\n",
        "plt.imshow(X_train[1], cmap=\"Greys\")\n",
        "plt.show()\n",
        "print(\"y_train [shape %s] 10 samples:\\n\" % (str(y_train.shape)), y_train[:10])"
      ],
      "execution_count": 8,
      "outputs": [
        {
          "output_type": "stream",
          "text": [
            "X_train [shape (50000, 28, 28)] sample patch:\n",
            " [[0.         0.29803922 0.96470588 0.98823529 0.43921569]\n",
            " [0.         0.33333333 0.98823529 0.90196078 0.09803922]\n",
            " [0.         0.33333333 0.98823529 0.8745098  0.        ]\n",
            " [0.         0.33333333 0.98823529 0.56862745 0.        ]\n",
            " [0.         0.3372549  0.99215686 0.88235294 0.        ]]\n",
            "A closeup of a sample patch:\n"
          ],
          "name": "stdout"
        },
        {
          "output_type": "display_data",
          "data": {
            "image/png": "[encoded data removed]",
            "text/plain": [
              "<Figure size 432x288 with 1 Axes>"
            ]
          },
          "metadata": {
            "tags": []
          }
        },
        {
          "output_type": "stream",
          "text": [
            "And the whole sample:\n"
          ],
          "name": "stdout"
        },
        {
          "output_type": "display_data",
          "data": {
            "image/png": "[encoded data removed]",
            "text/plain": [
              "<Figure size 432x288 with 1 Axes>"
            ]
          },
          "metadata": {
            "tags": []
          }
        },
        {
          "output_type": "stream",
          "text": [
            "y_train [shape (50000,)] 10 samples:\n",
            " [5 0 4 1 9 2 1 3 1 4]\n"
          ],
          "name": "stdout"
        }
      ]
    },
    {
      "cell_type": "markdown",
      "metadata": {
        "id": "nZbekGUXWbCn",
        "colab_type": "text"
      },
      "source": [
        "# Linear model\n",
        "\n",
        "Your task is to train a linear classifier $\\vec{x} \\rightarrow y$ with SGD using TensorFlow.\n",
        "\n",
        "You will need to calculate a logit (a linear transformation) $z_k$ for each class: \n",
        "$$z_k = \\vec{x} \\cdot \\vec{w_k} + b_k \\quad k = 0..9$$\n",
        "\n",
        "And transform logits $z_k$ to valid probabilities $p_k$ with softmax: \n",
        "$$p_k = \\frac{e^{z_k}}{\\sum_{i=0}^{9}{e^{z_i}}} \\quad k = 0..9$$\n",
        "\n",
        "We will use a cross-entropy loss to train our multi-class classifier:\n",
        "$$\\text{cross-entropy}(y, p) = -\\sum_{k=0}^{9}{\\log(p_k)[y = k]}$$ \n",
        "\n",
        "where \n",
        "$$\n",
        "[x]=\\begin{cases}\n",
        "       1, \\quad \\text{if $x$ is true} \\\\\n",
        "       0, \\quad \\text{otherwise}\n",
        "    \\end{cases}\n",
        "$$\n",
        "\n",
        "Cross-entropy minimization pushes $p_k$ close to 1 when $y = k$, which is what we want.\n",
        "\n",
        "Here's the plan:\n",
        "* Flatten the images (28x28 -> 784) with `X_train.reshape((X_train.shape[0], -1))` to simplify our linear model implementation\n",
        "* Use a matrix placeholder for flattened `X_train`\n",
        "* Convert `y_train` to one-hot encoded vectors that are needed for cross-entropy\n",
        "* Use a shared variable `W` for all weights (a column $\\vec{w_k}$ per class) and `b` for all biases.\n",
        "* Aim for ~0.93 validation accuracy"
      ]
    },
    {
      "cell_type": "code",
      "metadata": {
        "id": "-OqbhsTBWbCo",
        "colab_type": "code",
        "colab": {
          "base_uri": "https://localhost:8080/",
          "height": 50
        },
        "outputId": "38a24fd3-31b7-48cc-9557-7ef96bc03dac"
      },
      "source": [
        "X_train_flat = X_train.reshape((X_train.shape[0], -1))\n",
        "print(X_train_flat.shape)\n",
        "\n",
        "X_val_flat = X_val.reshape((X_val.shape[0], -1))\n",
        "print(X_val_flat.shape)"
      ],
      "execution_count": 9,
      "outputs": [
        {
          "output_type": "stream",
          "text": [
            "(50000, 784)\n",
            "(10000, 784)\n"
          ],
          "name": "stdout"
        }
      ]
    },
    {
      "cell_type": "code",
      "metadata": {
        "id": "7fYywEV1WbCp",
        "colab_type": "code",
        "colab": {
          "base_uri": "https://localhost:8080/",
          "height": 83
        },
        "outputId": "503b5908-7285-4edb-ada3-fdfa69ef2b98"
      },
      "source": [
        "import keras\n",
        "\n",
        "y_train_oh = keras.utils.to_categorical(y_train, 10)\n",
        "y_val_oh = keras.utils.to_categorical(y_val, 10)\n",
        "\n",
        "print(y_train_oh.shape)\n",
        "print(y_train_oh[:3], y_train[:3])"
      ],
      "execution_count": 10,
      "outputs": [
        {
          "output_type": "stream",
          "text": [
            "(50000, 10)\n",
            "[[0. 0. 0. 0. 0. 1. 0. 0. 0. 0.]\n",
            " [1. 0. 0. 0. 0. 0. 0. 0. 0. 0.]\n",
            " [0. 0. 0. 0. 1. 0. 0. 0. 0. 0.]] [5 0 4]\n"
          ],
          "name": "stdout"
        }
      ]
    },
    {
      "cell_type": "code",
      "metadata": {
        "id": "82O7o3DoWbCr",
        "colab_type": "code",
        "colab": {
          "base_uri": "https://localhost:8080/",
          "height": 237
        },
        "outputId": "f2986313-68cb-4223-e23a-69dee796d54d"
      },
      "source": [
        "# run this again if you remake your graph\n",
        "s = reset_tf_session()"
      ],
      "execution_count": 11,
      "outputs": [
        {
          "output_type": "stream",
          "text": [
            "WARNING:tensorflow:From /content/keras_utils.py:68: The name tf.get_default_session is deprecated. Please use tf.compat.v1.get_default_session instead.\n",
            "\n",
            "WARNING:tensorflow:From /usr/local/lib/python3.6/dist-packages/keras/backend/tensorflow_backend.py:79: The name tf.reset_default_graph is deprecated. Please use tf.compat.v1.reset_default_graph instead.\n",
            "\n",
            "WARNING:tensorflow:From /usr/local/lib/python3.6/dist-packages/keras/backend/tensorflow_backend.py:82: The name tf.placeholder is deprecated. Please use tf.compat.v1.placeholder instead.\n",
            "\n",
            "WARNING:tensorflow:From /usr/local/lib/python3.6/dist-packages/keras/backend/tensorflow_backend.py:84: The name tf.get_default_graph is deprecated. Please use tf.compat.v1.get_default_graph instead.\n",
            "\n",
            "WARNING:tensorflow:From /content/keras_utils.py:75: The name tf.ConfigProto is deprecated. Please use tf.compat.v1.ConfigProto instead.\n",
            "\n",
            "WARNING:tensorflow:From /content/keras_utils.py:77: The name tf.InteractiveSession is deprecated. Please use tf.compat.v1.InteractiveSession instead.\n",
            "\n"
          ],
          "name": "stdout"
        }
      ]
    },
    {
      "cell_type": "code",
      "metadata": {
        "id": "KbbJu9edWbCt",
        "colab_type": "code",
        "colab": {}
      },
      "source": [
        "# Model parameters: W and b\n",
        "W = tf.get_variable(\"W\",shape=(784,10), dtype=tf.float32,trainable=True)\n",
        "b = tf.get_variable(\"b\",shape=(10,),dtype=tf.float32)"
      ],
      "execution_count": 0,
      "outputs": []
    },
    {
      "cell_type": "code",
      "metadata": {
        "id": "v1Bb1O4JWbCu",
        "colab_type": "code",
        "colab": {}
      },
      "source": [
        "# Placeholders for the input data\n",
        "input_X = tf.placeholder(tf.float32, shape=(None, 784))\n",
        "input_y = tf.placeholder(tf.float32, shape=(None, 10))"
      ],
      "execution_count": 0,
      "outputs": []
    },
    {
      "cell_type": "code",
      "metadata": {
        "id": "52j4o8uYWbCw",
        "colab_type": "code",
        "colab": {
          "base_uri": "https://localhost:8080/",
          "height": 170
        },
        "outputId": "96792f8c-272d-4a78-a061-02b4c02cdd4c"
      },
      "source": [
        "# Compute predictions\n",
        "logits = input_X @ W + b\n",
        "probas = tf.nn.softmax(logits)\n",
        "classes = tf.argmax(probas,1)\n",
        "\n",
        "# Loss should be a scalar number: average loss over all the objects with tf.reduce_mean().\n",
        "# Use tf.nn.softmax_cross_entropy_with_logits on top of one-hot encoded input_y and logits.\n",
        "# It is identical to calculating cross-entropy on top of probas, but is more numerically friendly (read the docs).\n",
        "loss = tf.reduce_mean(tf.nn.softmax_cross_entropy_with_logits(labels=input_y, logits=logits))\n",
        "\n",
        "# Use a default tf.train.AdamOptimizer to get an SGD step\n",
        "step = tf.train.AdamOptimizer().minimize(loss)"
      ],
      "execution_count": 14,
      "outputs": [
        {
          "output_type": "stream",
          "text": [
            "WARNING:tensorflow:From <ipython-input-14-c16abf4776da>:8: softmax_cross_entropy_with_logits (from tensorflow.python.ops.nn_ops) is deprecated and will be removed in a future version.\n",
            "Instructions for updating:\n",
            "\n",
            "Future major versions of TensorFlow will allow gradients to flow\n",
            "into the labels input on backprop by default.\n",
            "\n",
            "See `tf.nn.softmax_cross_entropy_with_logits_v2`.\n",
            "\n"
          ],
          "name": "stdout"
        }
      ]
    },
    {
      "cell_type": "code",
      "metadata": {
        "scrolled": false,
        "id": "ucRtdthJWbCx",
        "colab_type": "code",
        "colab": {
          "base_uri": "https://localhost:8080/",
          "height": 309
        },
        "outputId": "fff84a39-fb9b-45be-a163-7309f330699c"
      },
      "source": [
        "s.run(tf.global_variables_initializer())\n",
        "\n",
        "BATCH_SIZE = 512\n",
        "EPOCHS = 40\n",
        "\n",
        "# for logging the progress right here in Jupyter (for those who don't have TensorBoard)\n",
        "simpleTrainingCurves = matplotlib_utils.SimpleTrainingCurves(\"cross-entropy\", \"accuracy\")\n",
        "\n",
        "for epoch in range(EPOCHS):  # we finish an epoch when we've looked at all training samples\n",
        "    \n",
        "    batch_losses = []\n",
        "    for batch_start in range(0, X_train_flat.shape[0], BATCH_SIZE):  # data is already shuffled\n",
        "        _, batch_loss = s.run([step, loss], {input_X: X_train_flat[batch_start:batch_start+BATCH_SIZE], \n",
        "                                             input_y: y_train_oh[batch_start:batch_start+BATCH_SIZE]})\n",
        "        # collect batch losses, this is almost free as we need a forward pass for backprop anyway\n",
        "        batch_losses.append(batch_loss)\n",
        "\n",
        "    train_loss = np.mean(batch_losses)\n",
        "    val_loss = s.run(loss, {input_X: X_val_flat, input_y: y_val_oh})  # this part is usually small\n",
        "    train_accuracy = accuracy_score(y_train, s.run(classes, {input_X: X_train_flat}))  # this is slow and usually skipped\n",
        "    valid_accuracy = accuracy_score(y_val, s.run(classes, {input_X: X_val_flat}))  \n",
        "    simpleTrainingCurves.add(train_loss, val_loss, train_accuracy, valid_accuracy)"
      ],
      "execution_count": 15,
      "outputs": [
        {
          "output_type": "display_data",
          "data": {
            "text/html": [
              "<img src=\"data:image/jpeg;base64,/9j/4AAQSkZJRgABAQEASABIAAD/2wBDAAIBAQEBAQIBAQECAgICAgQDAgICAgUEBAMEBgUGBgYFBgYGBwkIBgcJBwYGCAsICQoKCgoKBggLDAsKDAkKCgr/2wBDAQICAgICAgUDAwUKBwYHCgoKCgoKCgoKCgoKCgoKCgoKCgoKCgoKCgoKCgoKCgoKCgoKCgoKCgoKCgoKCgoKCgr/wAARCAEgA2ADASIAAhEBAxEB/8QAHwAAAQUBAQEBAQEAAAAAAAAAAAECAwQFBgcICQoL/8QAtRAAAgEDAwIEAwUFBAQAAAF9AQIDAAQRBRIhMUEGE1FhByJxFDKBkaEII0KxwRVS0fAkM2JyggkKFhcYGRolJicoKSo0NTY3ODk6Q0RFRkdISUpTVFVWV1hZWmNkZWZnaGlqc3R1dnd4eXqDhIWGh4iJipKTlJWWl5iZmqKjpKWmp6ipqrKztLW2t7i5usLDxMXGx8jJytLT1NXW19jZ2uHi4%2BTl5ufo6erx8vP09fb3%2BPn6/8QAHwEAAwEBAQEBAQEBAQAAAAAAAAECAwQFBgcICQoL/8QAtREAAgECBAQDBAcFBAQAAQJ3AAECAxEEBSExBhJBUQdhcRMiMoEIFEKRobHBCSMzUvAVYnLRChYkNOEl8RcYGRomJygpKjU2Nzg5OkNERUZHSElKU1RVVldYWVpjZGVmZ2hpanN0dXZ3eHl6goOEhYaHiImKkpOUlZaXmJmaoqOkpaanqKmqsrO0tba3uLm6wsPExcbHyMnK0tPU1dbX2Nna4uPk5ebn6Onq8vP09fb3%2BPn6/9oADAMBAAIRAxEAPwD9/KKKKACiiigAooooAKKKKACiiigAooooAKKKKACiiigAooooAKKKKACiiigAooooAKKKKACiiigAooooAKKKKACiiigAooooAKKKKACiiigAooooAKKKKACiiigAooooAKKKKACiiigAooooAKKKKACiiigAooooAKKKKACiiigAooooAKKKKACiiigAooooAKKKKACiiigAooooAKKKKACiiigAooooAKKKKACiiigAooooAKKKKACiiigAooooAKKKKACiiigAooooAKKKKACiiigAooooAKKKKACiiigAooooAKKKKACiiigAooooAKKKKACiiigAooooAKKKKACiiigAooooAKKKKACvPfjt%2B1J8FP2b5NGsfil4g1Maj4ilnTQNB8OeF9R1zVNR8lVed4bHTbee5kjiVkMkixlI96biu5c%2BhV4N%2B0P8D/j5/wANJ%2BDv2tv2bLLwfrWueH/B2seFNX8KeOdcutLtLywv7mwuxcQXtraXj288U2noCpt3WVJSCUKK1ABpf/BTL9izWLvxPb2nxXv0h8FWsk/jLUrvwXrEFjoIS0iu9l5dy2iwWsrQzRskMjrJIWKorMrKL2n/APBQ/wDZK1HwBrXxFTx/q9vB4f1ay0vVdE1DwNrNrrkV5ebfscC6PNaLqEr3AYGER27eaAxTcFYjy2b9gH4y%2BMf2a/jn8NfGHinwppHin4o/FS38daHc6U1xeWFpeW0OiywQ3IkihkkiN3pRRwoyYHGDuJVaPi79i/8AaV%2BLmr/Ef45fG34S/CjWvFnjWx8KaPp/gKy%2BI2s2Wm6fY6Hcaldw3qa7b6al5DqDXOqTOksVoPJSKNFZiWcgHsviH9vv9mzwv4a8OeI9XvvG3meK0v5NE8P2vwm8SXGuSRWUscV3NJpMWntf28MLzQq8s0CIpmiy37xM%2Bmaz8RPBHhv4e3XxX8T%2BJbbSvDljo76rf6vqrfZYbSySIzPPMZdvlKsYLNvxtAOcYNfGHin9hH9s/WPgX4X8Nay3hfxV470a58RHRfGV/wDHbxNpGr%2BCLW%2BuUktLO11q1sJLzXIYkjhEy3qw/aTbReYCFGPUfjR/wTotfj1%2Bzb4n%2BHHxD%2BOfjW78d%2BMPhfH4Z17xS3jbWho818tpDE2oJoS3y2FuzzQLK3kRRSEPIBIrSM5AOkg/4KUfsZf8K58V/FbWPite6Jo3giysr7xQ/ifwdq%2Bk3NlZXkxhtb37LeWsVxJaSyK6pcxxtC3luQ%2BEYjj/AI3f8FZP2d/hn8ENU%2BMfgPRfFXiqbQfiD4X8L674Y/4QXXbHU7A6zqVrax3T2cmnNdeV5Fw88DeT5d48aW8MhknjB8r1T/gmJ8ZPHfwq8faR4i8DeG9G8Y%2BI9D0fR7DxDqv7RfjPxut3aWusW%2BoTRyf27AfsEZ8likUSzHe%2BGkxknv8A9qH9gz40/GD4g/F/4g%2BBfEPheOTxfB8LbzwlZ6tfXMSvf%2BE/EdzrUsN40dvJ5ENwGt4VljEzrl2MfyKrgHqFh/wUE/Zb1H4m2XwZh8T%2BJo/Fd5oun6xLoF38N9egudO0%2B9adILu/SSyU6dDut5VeS68pYiFEhQum6j4a/wCCmH7FPi3wZ4s%2BIWkfGC4TR/Bfgi68Zaxe6h4S1W0Fx4et0Z5tWsVntUbVLNVQ4nsxPGxZArEugbB0P9kP4ofEP4mfG74g/G9fD2gxfGj4O%2BHfCF1Y%2BE9duNRl0u4tE11Ltlnns7XzYwNViMT7FZikm6OPA3fN37Y37Kn7UOj/ALDHxS%2BJv7TF34AtIfhD%2BxT8QfBHhePwFqF5cNrzXukWxn1G6W5toBYqE0i3CWcbXAVppCZ22oKAPrPw9/wUl/Yy8TaHrHiPT/i1dQWehppU1/JqnhLVbJmtNSu1s7HUIUuLVGubCWdgovoQ9qoDO0qorMPT9E%2BLvw88R/FLX/gvofiH7T4k8LaXp%2Boa/YR2k22zgvmuBa7pinlF3%2ByzHy1cyKoRmVVkjLfJOofsz%2BIPFegeKfjb/wAFIvF/wz8J%2BBbf9nu5%2BHUlx4f8QTLay6beyQyXmq3k17BbpYOTBbCG2QzCAmT/AEiQsuOw/wCCPngP4u2f7I9r8f8A9pDUDf8AxJ%2BL15H4n8V6g9nJbtJCLSCy01fKl%2BeH/iX2lpI0TYKSzTZAYtkA%2BqqKKKACiiigAooooAKKKKACiiigAooooAKKKKACiiigAooooAKKKKACiiigAooooAKKKKACiiigAooooAKKKKACiiigAooooAK8R0j/AIKMfse6ld69Z6n8Urzw83hzw5c%2BINQk8a%2BEdV0GObSbd0jnv7WTUrWBb63R5IlaW2MqAyxjOXXPtN7FczWcsNndCCZ4mWKYx7/LYjhtp64POO9fmJq//BHL9uX4v6t4X1z43fHHQ31vw14P1Cz1DxRqHxW8TeJx4h1v7ZpV9a6idLvoobLSbaS50xfPsLIBRHJtWWQKgUA%2B2X/b/wD2YbX4aN8WNY8QeKtK0ttcg0axs9c%2BGWv2GqanfzIZIYLLTbixS9v2kQM6/Z4ZAyo7AkIxHReA/wBqz4H/ABH1%2By8J%2BHPEOqQ6vf8AhSfxJDpGteFdS0y7TTYbv7JLLLDeW8UkDrP8hhkVZe%2BzbzXk3xO%2BDn7bvxib4e/G3XPBvwq0P4h/Cjx1NrHh/wAM2vjjUr/Rdcs7jSbvTLmO4vn0qGaxmKXskkbpa3AjMQU%2BYJGxV%2BJPwG/bg1/4y%2BHf2mvA%2BjfCu08WX3ww1XwX4x0LUvFepSWGkLcX8N1a39lcJpwk1AxCN1kt5YrQSlxiWLHIB3Gk/wDBRv8AZA8R694F8LeFfiNqus6n8SfBuleLfBunaJ4H1m9nvND1F9lrqMiQWjNa2%2B7HmSTiNbcMpm8oMCdj4a/tufs3fFf4jXPwn8M%2BL9Ws9ft9LudThsvE/gzVtEW/sbeRI57uyl1G1gjv4I3liDy2zSIvmISQGUnyj9hT9hL4sfsw6/8ADjWfHniDw1dnwd%2Byl4R%2BGN%2B%2BkXM8rNq2lvM1zNF5kEe61bemxmKu235o0wK8a%2BGn/BKv9sbxP8UfC/ib9qb4w2eqRaf4A8V%2BF/GniaD4v%2BJNavPEUur2KW39p2umX0Men6EcqWNpaKUXKgTOI1WgD6l8J/8ABRf9kfxrosfirQfHeuf2Hcarpen6f4lvfh/rdrpWoy6lex2VlJaX09mlteQS3M0UYuIJHhBlQs4VgT6X4W%2BLvw88a/EDxT8LvC/iH7XrnguSzj8T2iWkwWxkuoPtEEZlZBG7tCVkKIzMiyRlgokTd8w%2BOPAnxF8K/wDBPbxp8CP%2BChnif4VeCPAWg/DSLQLb4meHfFt2GadI0trXUntLqzgTTZlmFvJDBHcXTGcoiOTtDdr/AMEr/h98WPDf7ImlfFX9oqwS3%2BJ3xYvpfHXxEhW3aL7Pf36xmG02N8yfZbGOys9pyQLXBoA%2BjaKKKACiiigAooooAKKKKACiiigAooooAKKKKACiiigAooooAKKKKACiiigAooooAKKKKACiiigAooooAKKKKACiiigAooooAKKKKACvF/j14/8A2i/%2BGi/AvwI%2BAvjPwV4fTX/BXiXXtX1Pxf4Lu9aJOnXeh28MMMdvqVj5Yb%2B1JWZmZ8%2BWgAXkn2ivCviLrSWX/BSr4Q6LIoxe/BP4hsjZ53R6t4NOPyZj%2BFJtLcuEJVHaPZv7tWX/APhB/wDgoX/0dB8Gf/DD6t/81FH/AAg//BQv/o6D4M/%2BGH1b/wCaivZqKZB4z/wg/wDwUL/6Og%2BDP/hh9W/%2Baij/AIQf/goX/wBHQfBn/wAMPq3/AM1FezUUAeM/8IP/AMFC/wDo6D4M/wDhh9W/%2Baij/hB/%2BChf/R0HwZ/8MPq3/wA1FezUUAeM/wDCD/8ABQv/AKOg%2BDP/AIYfVv8A5qKP%2BEH/AOChf/R0HwZ/8MPq3/zUV7NRQB4z/wAIP/wUL/6Og%2BDP/hh9W/8Amoo/4Qf/AIKF/wDR0HwZ/wDDD6t/81FezUUAeM/8IP8A8FC/%2BjoPgz/4YfVv/moo/wCEH/4KF/8AR0HwZ/8ADD6t/wDNRXs1FAHjP/CD/wDBQv8A6Og%2BDP8A4YfVv/moo/4Qf/goX/0dB8Gf/DD6t/8ANRXs1FAHjP8Awg//AAUL/wCjoPgz/wCGH1b/AOaij/hB/wDgoX/0dB8Gf/DD6t/81Feo%2BMxv0MQMTsmvrSKUA43I9zGrL9CpIPsa8x1/9qD/AIJ%2B%2BFNdvfC3in9oj4Oabqem3clrqOnah4u0qGe1njYpJFJG8oZHVgVZWAIIIIyKyq16FBJ1JqN%2B7S/No7sDleZ5pOUMFh6lVxV2qcJ1GltdqEJtK%2Bl2kr6XvoM/4Qf/AIKF/wDR0HwZ/wDDD6t/81FH/CD/APBQv/o6D4M/%2BGH1b/5qKr/8Nf8A/BOD/o6L4I/%2BFto//wAdq3oH7UH/AAT98V67ZeFvC37RHwc1LU9Su47XTtO0/wAW6VNPdTyMEjijjSUs7sxCqqgkkgAZNZLHYFuyqw/8Dj/8kehPhXimnBznl%2BISSbbdCukktW23QSSSTbbaSSbbSTYz/hB/%2BChf/R0HwZ/8MPq3/wA1FH/CD/8ABQv/AKOg%2BDP/AIYfVv8A5qK0f2q/iX8Kv2UP2b/Gv7SXin4XLq2n%2BCvD1xqt1pukaIJri5WJc7EWONiMnGXI2ouXcqqsw5/Sf2s/2P8AXPG8vw10vw1r8viG28OLr2oaL/wprXVutPsHju3iluo208NatL9huVijmCSTPGI41d3RW6jwS/8A8IP/AMFC/wDo6D4M/wDhh9W/%2Baij/hB/%2BChf/R0HwZ/8MPq3/wA1FUtM/ac/Zg8TSeHf%2BEV0ywQ6z46m8K3th4l8Jajo%2Bo2N9Ho11q5hayubATJKbW3WZVuFt43hk8xZWYxRzN%2BCn7X/AOwv%2B0Fo03iP4beJtL/s6Lw/p%2Bupf%2BIvCN3osFzpd8zLa3sEmo20C3NvI6lBLEXUPhCQxAoAv/8ACD/8FC/%2BjoPgz/4YfVv/AJqKP%2BEH/wCChf8A0dB8Gf8Aww%2Brf/NRTf2jfiI3wr1/wf8ADT4QfADw14u8Z%2BNr28TStL1rVV0ixgtbO1a4ubme6SzunQD9zEqrC5aS4jzsQO6zeBfiFYfG/wDZa8P/ALQnwE%2BBOg6lqnijQrHUdK8M%2BJ71NMjhacx%2BbDc3UVtcmIwBpNxjil3NEQoO4GgCP/hB/wDgoX/0dB8Gf/DD6t/81FH/AAg//BQv/o6D4M/%2BGH1b/wCaivEfHX/BQ/QfA/gvwrf658BvhToWta18VNc8Ca1P42%2BJ0ek%2BHdPvdMgupZJYdVOlytcpI1t5KK1tC/msyMFaMg9z8Rv2sfBHhD9ofw3%2BzJo3gD4SjxJf6JpOp64PFfxEh0iIrfzzww2ukA2Esmr3R%2ByXT%2BXstxsEJZ0MygAHa/8ACD/8FC/%2BjoPgz/4YfVv/AJqKP%2BEH/wCChf8A0dB8Gf8Aww%2Brf/NRXJTftHwWH7YB/ZGuvgt8Mb7VL/StQv8ASIvD3jsXup2MMESyQXGs2H9mo2lW0%2B9Y0nWS4HmOihX3ZHJx/tjeO9B1P4jeEfH/AOxx4BTXfBvinwr4V0KHwv49k1Cy1fX9baMrZTXE%2BjWrWa20F1Y3M0ixTkQ3JKozIEcA9Z/4Qf8A4KF/9HQfBn/ww%2Brf/NRR/wAIP/wUL/6Og%2BDP/hh9W/8AmorzXX/2vNc0X4U6X8Q1/ZE8KSXmnfGKw%2BH3xM0p/FoRdBuLrXLLSY7qylGnE6kjfb4LlFdLUmJsOY3ygb8bv24/AXwe/a80v9lcfAvwhdT3%2Bp%2BHrKOG/wDEsVnr2qjVbpoGu9J0o2b/ANpWlmFaa7m%2B0ReTHDO21vLwwB6Z/wAIP/wUL/6Og%2BDP/hh9W/8Amoo/4Qf/AIKF/wDR0HwZ/wDDD6t/81FeZeDP25/h58Qbj4n%2BIPBHwb8B67oXw40bX7xND0DxjBeeM9TfSpZYT/xIks/3ENzLBKLeVrovIGgJiXzcLznwr/4KLeHPjD4Qlb4d/s%2B/DXxR4j1DxvpfhfwjL4L%2BIiap4Z1a9vNPm1GWN9YXTEaGS0tLa4luI1tZWTESrvaXCgHuH/CD/wDBQv8A6Og%2BDP8A4YfVv/moo/4Qf/goX/0dB8Gf/DD6t/8ANRXiV9/wUP8ADcni74a/D2w%2BBvwn0LW/G6eKrXVofiN8To9EgsdW0DXLbRbzTbKVdLuDqUr3U0rQ4WEyRQB9o34X034u/Fr4i/C39pXwB8HLf9lr4eat4d%2BIfil9K0zWofGs0erW1vBps99d302nHRzCsUX2dogBeHe01uMqZdqgHQf8IP8A8FC/%2BjoPgz/4YfVv/moo/wCEH/4KF/8AR0HwZ/8ADD6t/wDNRXlvxZ/bH8Q/s%2BaJ8UJ/jZ%2ByD4OtdU8CfBLXfiXoun%2BHPGg1CPUbLTFbdaXsr6ZCdOnlbYEKJcxsBOVZvIIa745/ap13wz%2Bwp4x/bL8FfAf4LePJPB%2Bnanqs2neBPi2NQ0i502wtXuLh11QaOD9oHlSIIBbsN2zMgy20A9F/4Qf/AIKF/wDR0HwZ/wDDD6t/81FUPA/jj9qzwd%2B1Z4c%2BCPxu%2BI/w98TaN4m%2BHviHXIZvCvw8vtFurS602%2B0S3RWe41e%2BSWN01SUlQiMGiQhsZB9L17w54Wh8E3mvab4ZsbS5j0x7i3mt7VEeJxGWUqygEEHFcH44/wCUhfwv/wCyM%2BPP/Tt4QoA9mooooAKKKKACiiigAr5x%2BE3ir9u/466Pr3jvwv8AG/4SaBpdv8QvFWh6XpV/8H9Uv7iK10vXr/TIWluE8RQLLI8dmrsyxRrucgKABX0dXjP7B/8AyRDXP%2ByzfEf/ANTXW6AD/hB/%2BChf/R0HwZ/8MPq3/wA1FH/CD/8ABQv/AKOg%2BDP/AIYfVv8A5qK9mooA8Z/4Qf8A4KF/9HQfBn/ww%2Brf/NRR/wAIP/wUL/6Og%2BDP/hh9W/8Amor2aigDxn/hB/8AgoX/ANHQfBn/AMMPq3/zUUf8IP8A8FC/%2BjoPgz/4YfVv/mor2aigDxn/AIQf/goX/wBHQfBn/wAMPq3/AM1FH/CD/wDBQv8A6Og%2BDP8A4YfVv/mor2aigDxn/hB/%2BChf/R0HwZ/8MPq3/wA1FH/CD/8ABQv/AKOg%2BDP/AIYfVv8A5qK9mooA8Z/4Qf8A4KF/9HQfBn/ww%2Brf/NRR/wAIP/wUL/6Og%2BDP/hh9W/8Amor2aigDxn/hB/8AgoX/ANHQfBn/AMMPq3/zUUf8IP8A8FC/%2BjoPgz/4YfVv/mor2aigDxn/AIQf/goX/wBHQfBn/wAMPq3/AM1FH/CD/wDBQv8A6Og%2BDP8A4YfVv/mor2aigDxn/hB/%2BChf/R0HwZ/8MPq3/wA1FH/CD/8ABQv/AKOg%2BDP/AIYfVv8A5qK9mooA8Z/4Qf8A4KF/9HQfBn/ww%2Brf/NRR/wAIP/wUL/6Og%2BDP/hh9W/8Amor2aigDxn/hB/8AgoX/ANHQfBn/AMMPq3/zUUf8IP8A8FC/%2BjoPgz/4YfVv/mor2aigDxn/AIQf/goX/wBHQfBn/wAMPq3/AM1FH/CD/wDBQv8A6Og%2BDP8A4YfVv/mor2aigDxn/hB/%2BChf/R0HwZ/8MPq3/wA1FH/CD/8ABQv/AKOg%2BDP/AIYfVv8A5qK9mooA8Z/4Qf8A4KF/9HQfBn/ww%2Brf/NRR/wAIP/wUL/6Og%2BDP/hh9W/8Amor2aq2oazpGkJ5uq6rbWq4zuuJ1QfqRSbSWom0ldnkX/CD/APBQv/o6D4M/%2BGH1b/5qKP8AhB/%2BChf/AEdB8Gf/AAw%2Brf8AzUV3Gt/tA/AXwypfxH8bfCGnqvU33iW1iA/76kFcVr//AAUP/YO8Nbhq37Y3w0DL96O38aWU7j6rHIx/SuepjMHS%2BOrFesor85HLVx%2BAo/xK0I%2Bs4r85IZ/wg/8AwUL/AOjoPgz/AOGH1b/5qKP%2BEH/4KF/9HQfBn/ww%2Brf/ADUVx%2Bsf8Fh/%2BCaehsy3v7WeguV6/Y7O8uB%2BHlQtmsKX/guX/wAEtYZDG37UIJB5K%2BC9aI/MWXNcss7yaLs8TT/8Dj/mcUuIuH4O0sXSX/cSH%2BZ6b/wg/wDwUL/6Og%2BDP/hh9W/%2Baij/AIQf/goX/wBHQfBn/wAMPq3/AM1FeT6h/wAF3f8Agl7ZJvtv2h7q7OPu2/gzVwf/ACJaqK5rVv8Ag4L/AGCYZfI8Jab8QvEznomheEckn0xPLFWU%2BIcihviYfKSf5XN6Gb5Zi3bD1VU/wKU//SITPff%2BEH/4KF/9HQfBn/ww%2Brf/ADUUf8IP/wAFC/8Ao6D4M/8Ahh9W/wDmor59sP8Agt3B4ydk%2BFH/AATu%2BP8A4h/55%2BT4PHzfXyWlx%2BtTw/8ABUP9ufW5NvhP/gjd8SpVb7jazr/9nn8RJZHH51C4iyiXwTcv8MKj/KBvLFqLs6VS/b2NZP7nTi/wR73/AMIP/wAFC/8Ao6D4M/8Ahh9W/wDmoq3%2Byt8RvjT4w1j4oeBPjpr/AIX1bVPAPxCi0Oz1Xwn4audJt7q1l0HR9TVnt7i9vGWRZNRlQsJdpWNDtU5z8/D9tT/gr/4iz/wiv/BJm0ss/dOr/FCxGPrvMWa73/gmb4l%2BOvjCb46eI/2lvhxp/hHxtc/GaL%2B2vD2l6gl1BabfCfhxYdsqO6vugETnDHBcjjGB14TM6GNqOFOM1pe8oTivvklr5FUa8qsrOnOP%2BKLj%2Bbv%2BB9P0UUV6B0BRRRQAUUUUAFFFFABRRRQAUUUUAFFFFABRRRQAUUUUAFFFFAGP8QPiJ8P/AITeDr/4ifFPx1o3hnw/pcQk1PXfEGpxWVnaIWChpZpmVIwWZRliBkgd6r3vxZ%2BFem/DRfjRqPxL8P2/g5tKj1NfFk%2BswJphsZEV0uhdF/K8lkZWEm7aQwIODVX43eIvD3hL4T674i8U6Fqmp2VrZFpLLRfDV3rF1I5YCPyrOzhmnmYOVOI42K43cBSR88/slfHfTPhP/wAEuvh9d%2BJfgH8UtU1nwB8FtFTVfAv/AAqXWotWub%2Bwsre3eygtrq0jMs/2lMIBwQPNB8tTIAD6U%2BHPxP8Ahp8YvCVv4%2B%2BEfxD0LxToV2zraa14c1aG%2BtJijFXCTQsyMVYFTg8EEGvnn9oXWv7L/wCCtH7M1jvx/aXwx%2BJltj1xJ4Ymx/5C/Suj/wCCd1hdXvwu8U/FPxPZ6vaeK/H/AI6uPEPjTT9S8FaroUFhqD2dnbpaWkGqWttPPBDa21pEbrywtxNHPLhGd408Q/akm%2BKnhz/gtp%2ByXd%2BOfGnh%2B/0HU9F%2BJVv4csNK8NT2V1YRnT9KLJdXEl7Ml4zOItrJDbhdrZV9w28uMn7OhzecfxlFfqe7w5hvreaey706z/8AAaFaX/tp93UUUV1HhBRRRQAUUUUAFFFFABRRRQAUUUUAFFFFAGX4w/5BMP8A2FbH/wBK4q4XX/2Jv2MvFeu3vinxT%2ByP8MdS1PUruS61HUdQ8A6dNPdTyMXklkkeEs7sxLMzEkkkk5Nd14w/5BMP/YVsf/SuKvnbx/8A8FlP%2BCbnwv8AHet/DTx1%2B0d9h1vw7q9zpmsWX/CIaxL9nureVopY98doyPtdGG5WKnGQSOa4cdWy2jCLxkoJN6c/La/lzJ627FR4kqcN/vYY14bn0uqsqXNbW141Kd7b2bdt7dT0T/hgf9hX/oyz4S/%2BG50z/wCMVb0D9ib9jLwprtl4p8Lfsj/DHTdT027jutO1HT/AOnQz2s8bB45Y5EhDI6sAyspBBAIORXjP/D83/gll/wBHRf8Alk65/wDIVa/gH/gsp/wTc%2BKHjvRfhp4F/aO%2B3a34i1e20zR7L/hENYi%2B0XVxKsUUe%2BS0VE3O6jczBRnJIHNefDG8MOaUZ0b3VrezvfpbTe9rFf8AETcTX/dPPJy5tLfW6rvfS1vrDve9rWd72s72fsv7TXwTsv2k/wBnTx3%2Bz3qGvy6TD438I6hob6rBAJXs/tVu8ImCEgOULhtpIDbcZGc15f4i/Ym%2BIXj/AEH4uy%2BPfj7axeJPi38O9N8M32teE/Cs2mw6bJZjUQtzFFJfTyMji/AaIzA4ibEg8wbPXPjr8YfDn7Pvwe8R/G/xlpmo3WjeFdKl1PWU0qFJJ4rOIbp5grugZY4w8rDOdsbbQzYU%2BX/Gf/goh8Hfgtpfi7XNU8N6nqFj4K8W2fhvWNRHiDQdKtHv7jTYtRCQ3Gr6lZwybIJ4AwD798wVFfZIU94zPOvgj/wSmi%2BEXiKHxND8SfCFht%2BLg8cvoPgL4Xx6BpEDDwjeeHDZ21ql5KYQ32oXbSs8jM6MpHzh09C%2BBv7FHiH4BR%2BBLvwj8XLK5v8AwN8DdK%2BHVvLqHhd2hu/sckDG%2BaNLtWXesLAQhzsLg%2BY23a3KWv8AwUd0nxT4%2Bjv/AATcWlx4C1zwZ8JNd8I6rFoUk95df8Jh4g1bTSsyPdwrHGIrOzKsAXgaSZ2S5wsFWPBv/BRo/Ez9orwf4I8IfB/xNZeAfEfgrxZr9p4s1TQlnbxDDpNxp0Mc%2Blx2VzNOY3%2B1St5U9uk8waBoUIJyAen/ALRvwC8cfFTxB4P%2BJnwf%2BJ%2BneEfGfgm9vH0rVNa8NPq9jPa3lq1vc209ql1au4P7mVWWZCslvHnehdG5y5/ZS%2BL3gr9j5P2T/wBnH9o6HwbNp3gfTtB8P%2BNr3wm2oajZ3EbkXuoSBLyBJJJ4eECCLyJmaXdKNsS7v7Unxo%2BIHw90bwL4W%2BDiaRD4o%2BJPje38O6FqHifS57iy03NleahPcz2sc1vLNttbC4CxCWImRkBZRmov2efjD8Wfj3%2BzXfeJ4k8O6Z4807XPEXhm5nexnl0n%2B1dJ1a80p7pYBMJjbSS2ZnWHzt4SQIZNwL0AYnhL9mv9on4bfs86D8DPhf8AFj4T6KdGgnsXk/4U5f3GnvYOgColrLrxk8/cXeSeW4mExkYvHuJY%2Bd61/wAEn9ItPCOm/Db4cfGCDTdBufhR4V%2BHnjaXWvCi6hqmqaToE00lnLZ3a3EK2F232mcPK0M6A%2BS0ccbRAmh4j/bP/a80r4b%2BKYvDlv4Y8S6r4U%2BNln4Nu/HnhD4Sa7rOnXFgbGGe/uo9Fsb%2BW8eWzuJJLOXy7qRBJA%2BSrLJFHZ%2BLH7c/xS8LN8LPEvhf4y%2BDI/h54i8D6vq/jT4uH4IeINV0e3vLS706GOGRbTUUGhRsk980j38ziI2bK7KUcUAevXP7Ovxf8Y/tH%2BG/jN8VPjToF9ofgbVNUvfB2geH/A8un3qm8tpbQRX19Jfzi7jSCZvkjgtw8qRSMMxKtYM/7C1yfgRq/wAP7X4sKvjPUvitJ8Q4/HEugb401ldYXULVZLPzwZbaKCK308xiZXe2hwJI3IdbXxY%2BNH7QHws/ae8AeDk8ReB9a8LfEPxRJpem%2BD7Lw7eR69aWUOmS3NzqrX321oJIYZo0V0NoihbmFfO8x0WTC0r9q/4qfB742%2BMvAH7THjLwTrmheFvhyfFmsat4G8L3tlL4cZrryrXTblJry7N5PdIJmgMYhdzaSDyf3sdAFDx9%2BwV8cPEP7P3/AAqvwh%2B0n4WsPEus/Faz8f8AjbxTrHwzub231HULXWbTVbeG1s4tXgNnAj2Nrb4ee4cwR4L%2BYTLV74i/sGfEP4k/E688W6z8fdJj0TxNr3hHXfGulJ4GdryXUdAnt7iAaZeNfn%2BzrWWW2jZoXiuXTzJzHKjymQecx/t0/ttah8FX8Vah8NtD0HxHb/Hu58J%2BIIdI%2BGut%2BLx4c0MaVJfI81jpd0txd3Mcht7aWeJ1hLOziNVIFd78df2ofjl4H/Z08M/tQ/Bz4ufC/wAW6HdaVpaxaXH4Ov1uPHWqXdwkKWmluupH%2BznmZwkUcsd4yOxEhxGxIBhap/wSltNc07W/h3efGuLTvBEum%2BOrfwnp3hzwoLPV9Kl8VPM99JPqDXMiXaRNcSmGMW8PSEytM0QY6zf8E%2Bfipqev3nxo8QftD%2BHB8UItd0DUfDmuaL8N5LPQ7D%2ByrW/s40l0s6lJJcGa21S/hlcXcbFHhCeWIFB0PCn7VPxel/br8XfAf4meI9F8M%2BFrLxTHpXw90nUPhPrUVx4viPhqx1KSS18QyXi6ZJMt1NfobVIWlEWnyZAIaReB/ZE/4KD/ABr/AGofEcfwitfGnwzTxx4k%2BF3/AAl1lp1h4bv3XwDeRXlrb3uh61E19vu7y3N7CCFayctG%2B%2BGJXjYgHbeK/wBgj4ra1%2BzBqH7KOj/tBeGodC8Z2fiFfibqmqfDV7y/1S61y/ur3UbjT2/tFIdPzLeXHlJNFeLFiH7/AJZD%2BsJ%2Bz3FN%2B01pf7Q%2Bq%2BLZLuHw58PpvDPhjQ5bUk2L3V3FPf3jTmQ%2Ba8yWenxgbFMYtpDvfziE%2Bb/E37f37Rnh/wCF0F0j%2BFb%2B7PxzvvAg%2BIfhn4a6zrljqVna6TNeSX9j4esb19QvGS9hl02SOC5lET2tzckmKJgsmsf8FKfjBqHwU%2BCXizwH4K8KXXiPxfqngW5%2BKCmWW5sNE0jXvEVjoaiAxTBkvJ5LueSCORnWIWF0Jd7RqsgB6P8AAD9k39p74Pan8RPFvi/9pLwF4r8TePXmuH8TXPwlvILmKdXIsreYHXJEl0%2B1gZ4Y7OFbfO95TL5sszy5Pjf9gn4x%2BNP2dvjh8Mn/AGifC1r4x%2BPhuIfF3iaH4aTjS7O1m0eLSGW001dVEizfZoVbz5buUmTkqUCRLz3hj/gof46vf2xNP/Z68T%2BIfA9pJ4l%2BJXiDwZpfgGLR7o%2BItCWw07UL6012%2BlN35c1leR6czRxrbw5W9g2zyGOXHR/DH4x/tn%2BI/iB8bvh9r3xQ%2BG2oWvwzsNItdP8AFGhfB/VyE1ua3bUL60k06PW55r3yrCbTmRIJY5GkvduDsCuAe4afpPjzQvgfNo/xO8T6RrWu22hXEeo6poOhy6baXDBHw0dtLc3LxDbtBDTSZIJyAcDifHH/ACkL%2BF//AGRnx5/6dvCFZn7KP7QPjf8AaR/Zi8SeN/iBZ2S3%2BnaxrujLd2eg3ejm%2BitJJIkuJNLvZJLvS5GAw1rcsZVK7jgOoGn44/5SF/C//sjPjz/07eEKAPZqKKKACiiuO%2BPHxs8Nfs/fDqX4ieJtI1PVN2pWOmaZouiQxyXuqahe3UVpaWkCyyRx%2BZJPNGu6R0jQEu7oiswAOxorx2H9tj4ZL%2Bzvqv7QureE/Eunromvt4f1XwfdWdu2sQa3/aCadHpmyKd4GmlupYY43WYwOJ45BL5bb6g0z9se88R%2BEtQ1bwX%2Byz8Stb8Q6D4mk0LxZ4EsG0NdU0G7W0hvR9pkm1SOyZXtrq0mQw3MpdbqPAzuCgHtNeM/sH/8kQ1z/ss3xH/9TXW69C%2BDnxY8GfHj4S%2BGfjZ8Or2a40DxboNpq%2BjTXFu0Uj21xEssZeNvmRtrDKnkHIPSvPf2D/8AkiGuf9lm%2BI//AKmut0AezUUUUAFFFFABRRRQAUUVDqGoWGk2Uup6rfQ21tAhee4uJQiRqOrMx4A9zQ2kDaSuyaivE/iP/wAFIf2DPhOZI/G37WfgeKaL/W2un65HfTofQxWxkcH2Irzaf/gtl%2BwVqLPD8OPFPi7xpMuQtv4V8AanM0jf3V82GME54649686rm%2BVUZcs68E%2B3Mm/uTb/A8mtn2SYeXLUxNNPtzxb%2B5OT/AAPrWivkNf2vP%2BCj/wAfGCfsv/sDR%2BDNMl/1Hij46aybHg9N2m2pNyvHOQxFSj9mr/grF8Rz5vxJ/wCCh/hfwVE3Mmm/Dr4aw3Kn2W4vmEigeuOay/tZVP8Ad6NSa7qPKvvm4fkY/wBtqt/uuHq1F3UOSP31HD/0k%2Bt6K%2BSv%2BHdH7Tep8eJ/%2BCq/xglB%2B/8A2VBZ2J/DYhxXmfxo/Zg/Y3%2BB5eH9qf8A4K8/Gvzx/rdF1r41qsjjvts4IfNx64BrOtmeNow554flXeVWnFfqd2Xw4qzjErDZdldSrUe0YyjKX/gMIVJfh8z751PV9J0W2%2B2azqlvaQg4Mt1Osa5%2BrECuW1j9of4AeHkaTX/jl4OsVQZdrzxNaRBfrukGK/M6x0r/AIId65ftcfDP9mj4x/HvVFJQXeiaX4g1KSRu4/fzQIee%2B36V1GjfATw/4hkV/gX/AMG91v8AZycpffEzxZZ6aUHYtbXBldvoDXnf6wYip/CVOX%2BF1an4wpW/8mPs/wDiGfi3FXxeX0MIv%2BonE06DXrGpOE//ACn6XPsfxp/wU1/4J9eAbaW51/8AbB8AyCEEyR6T4gi1CQY7BLUyMT7AZrzpf%2BCvvwx8ctj9mj9l/wCNHxTgPKav4X8AzRaeR2JnuTGVz2ylef8Ag79mz/goHp80U/ws/YY/ZA%2BGJVgUurjSJrq7g/2la0hVS49TxXoQ/ZP/AOCoHj4D/hZn/BTGy8O2z/63S/AHwytE4/2Lq4bzVx9KPr2fYjSMJL/DTt%2BNaov/AEkP%2BIe5pH/kZcQ5dh12pOrip/8AklKS/H5oX/huH/goR4k5%2BHn/AASR8SSRt92XxP8AE7S9LKj1KOrH8M5rE8XftXf8FTNHgM2vfs3fA/4eowyLnx38WVljiHq3kbcj6VtD/gkT8O/Ff7747ftZ/HX4gO/Mtvr3xGlitB6hIYETYPbca2/CX/BHD/gmx4OnF5afsvaZfz7tzza7qt9qBkb1YXE7qfyxR9V4jq7zcfWpBfhTov8A9KD/AFT4Aw/%2B9cR42u%2B1DB0qUX6Sr1E168j9D5r8c/8ABQb9qHw%2BHvfHn/BTr9lHw9JH96w8D6Zf68o9iVMj5HoBXCH/AIKWftueMD9m%2BFH7U1z40hf7t98O/wBmq%2BvHP%2B4t2YlP44r9L/Av7Lf7M/wwKN8N/wBnnwRoLR/ck0jwraW7g%2Bu6OMEn3zmu7AAGAMAdBR/YebVPjxbj6OpL8ZSivwQfUvCnC/w8NmOIferj40U/WOGw7a%2BU0fkqPiB/wVz%2BJPznX/2nb%2BOTpGnwp0LwgQPTJmlI%2BppR%2BzB/wVZ8X5uk8HftPW07fdv9Q/a40qyjX6W0NmSv5mv1poo/1VjP%2BLiakvn/APbMPrnh/T/h8OUZedbF5jWf/qVRT/8AAfkfk2v/AATv/wCC2PiZPsuiftP%2BOfC4b7sviX9oe8vdn1NpZhj%2BFbulf8EbP%2BCo3iK1EPxN/wCCoestu/1kMXizXb5P/Ik0OfyFfqPRVR4Ryu95zqy9as7fcmjCtmmQyjy0cjwNNf8AXmrN/fVxs/uaZ%2BXMn/Bun8TPE832n4g/8FEtcu93%2BsiTw1cS5/4HNqLfyrV0H/g2Z/Z/gk8zxZ%2B0t4yvy3MjWem2cBb8ZFlxX6Y0VouD%2BHU7uhf1lN/nIwlm1K1oYDBR9MDg7/fKjUf4s%2BCPCv8Awbk/8E/tAkWXWdY%2BIOuY%2B8mpeIoI1P8A4D20RA/GvS/Dn/BEf/gmL4bjUQ/syW95IvWbUvEepTlvqrXO38gK%2BrKK7KXDuQ0fgw0P/AU/zuR/bOYRd6bjD/BSoU//AE3h4fmeDaN/wS8/4J5aEALH9j3wK%2B3p9s0RLj8/N3ZrqNI/Yf8A2LtBwdF/ZF%2BGNqR0aDwHp6t%2BYhzXqNFdsMuy%2Bn8NGC/7cj/8idH%2Bs/EvLyrHVkuyrVUvujUivwOZ0L4LfBzwuQ3hr4TeGdOK/dNjoNvDj/vhBXSxxpEgjiQKqjCqowAKWiuqMIQVopL0SX5JHlV8VisVLmr1JTfeUpSf3ylJhRRRVGAV4z%2By/wD8lv8A2jv%2ByzWP/qFeF69mrxn9l/8A5Lf%2B0d/2Wax/9QrwvQB7NRRRQAUUUUAFFFFABRRRQAUUUUAFFFFABRRRQAUUUUAFFFFABRRRQAUUUUAFfBn/AAUt1T%2Bwv%2BCq/wCxBqu7G7VPGNrn/ruNDix/49X3nX51/wDBY29l0f8A4KD/ALEuvpwln481H7Q392J9U8ORsf8Ax%2BvMziXJls5duV/%2BT0z7jw3oLE8aYWi/tqvH78Li/wDJH6KUUUV6Z8OFFFFABRRRQAUUUUAFFFFABRRRQAUUUUAZXjD/AJBMP/YUsf8A0rirVqG/sLTU7R7G%2BgEkUgwykkd8g5HIIOCCOQRVD/hD9J/5%2B9U/8Hl3/wDHaANWisv/AIQ/Sf8An71X/wAHl3/8do/4Q/Sf%2BfvVf/B5d/8Ax2gCzr2haP4o0O98M%2BItNivNP1G0ktb6zuE3RzwyKUeNh3VlJBHoa%2BdfBP8AwTB%2BFHw0%2BEfgP4YfDz41fEfStQ%2BH2t6nqml%2BOV1PT7nW7yW/SaK6F1Jc2UkEm6KbyldYUljSGIRum0k/QP8Awh%2Bk/wDP3qv/AIPLv/47R/wh%2Bk/8/eq/%2BDy7/wDjtAHg3gb/AIJifAP4f%2BGvD3hXRPFvjCS28NeGvh5odg13qVs8j23g3VbvVNLaRvs43SSz3kq3DcB0VBGIWBdrXw2/4J3eBfhT8RNL%2BIHhL46/ERV8L%2BG9d0LwHoVxeabJYeFrPVZraaZLRDY75TE9pB5JunuNipsO5Plr2/8A4Q/Sf%2BfvVf8AweXf/wAdo/4Q/Sf%2BfvVf/B5d/wDx2gDmPjn8A9E%2BO/g3S/Dmr%2BNNd0TVNA1q11jw94s0B7VdR0zUIAyrcxCeCW3YtHJNE6SQvG8c0ilMHjB0P9kzTvB/wKuPgJ4B%2BN3jrQLK80XWba817SruxGqzalqly13da39oktG2agbiW5lVkVYQ91IfJO2Ly/Rf%2BEP0n/n71X/weXf/AMdo/wCEP0n/AJ%2B9V/8AB5d//HaAPJvhj%2Bxprfwc%2BA%2BnfAL4bftc/EjSrDRp4f7F1a10nwut3Y2scTJ9jVBov2aSNy3mO8kLzNJ83m8kHP17/gn/AOFNW%2BCFv%2BzfpHx/%2BI2i%2BC7jTdRs/Fuj6Zd6WzeKhqFxNcahLe3M9hJcRS3Elxcl3s5LYjz22bMJt9p/4Q/Sf%2BfvVf8AweXf/wAdo/4Q/Sf%2BfvVf/B5d/wDx2gDynRf2LrPw7%2B1RqX7VWiftD%2BPYLvVNPstNk8JvBok2lW2m2se1NPt2l01ry2t2k3TyLFcqXlfcWIVFXL%2BDX/BPX4e/DHR/GHg/4g/FTxP8VvDfjzUbnUfFXhj4paN4e1C01K%2BmnjlNzO0GlwTXDIIo4Y0mkkjihjjjRAsUWz2r/hD9J/5%2B9V/8Hl3/APHaP%2BEP0n/n71X/AMHl3/8AHaAPFvh3/wAE7/g/8AvDHiTw1%2ByX4n1T4O/8JX4zbxFq958O/D2gQOzG3EAsljudMngFqoG9F8syK5OJAGZTm3f/AATY8G2WtfDjWPh7%2B0b8S/Cq/C7Rrqy8N2WnSaLfQPc3Ts13qky6npl0TfzB5Ea4QoVSaZIxGs0of3v/AIQ/Sf8An71X/wAHl3/8do/4Q/Sf%2BfvVf/B5d/8Ax2gDz/xF%2By1B41%2BNOjfFzx78b/Gut6f4b106z4b8C3Z0yLR9Nv8A7LLarOpgso7yYqk85VJ7mWMPJu25SPZzmu/sK2vivSfGjeKv2o/infeI/GHhZ/Ddt44S%2B0m01Xw5pTymWS201rXTooIC7EFp3hknbZETLmKMp7H/AMIfpP8Az96r/wCDy7/%2BO0f8IfpP/P3qv/g8u/8A47QB4rp37AejaR8M/BfgDSP2jvH9lf8Aw41VrrwF4q07T/DtreaHbtYNYNp8VvBpKWElqYHkG2W1kcM%2B4OCkezH8Zf8ABIv9gj4h/DHw58OPHfwA8O63c%2BG73RriHxfrfhzTr3W74afqsWpmG4vLi2dpIbqZJUuYgFWSK7uEURiTI%2Bgv%2BEP0n/n71X/weXf/AMdo/wCEP0n/AJ%2B9V/8AB5d//HaAOHb9miz1X462Hxy8c/F3xd4k/sC7ubvwf4U1Y6emleHbqe2e1luLYW1nFcSym3luIg1zNPsS5mCbd9J4b/Zi03wJ8MvEvgD4b/FjxZ4e1HxV4v1DxJqPjOxbT5tVW9u783bhftVpLbGNE2WiK8D7baJEyWXzK7n/AIQ/Sf8An71X/wAHl3/8do/4Q/Sf%2BfvVf/B5d/8Ax2gDhfh58BfD/wAAPhJ4s0fS/FWt%2BINR1%2B61DW/EniTxHNA17qt/NCqNNKLeKGBMRxQxKkMUaKkSAKMEnH8cf8pC/hf/ANkZ8ef%2BnbwhXqJ8GaG%2BFna%2BmTIJiuNWuZEb2ZWkKsPYgivLvHH/ACkL%2BF//AGRnx5/6dvCFAHs1FFFABXl/7W/wb8Z/Gf4YWFj8NbzTIvE3hrxhoviXQI9bnkisrq40%2B/huTazyRRyPEk0aSQ%2BaschiMgkCSbNjeoUUAfNvg79mD4rr8CfiL4H%2BLnwz8BeJ9T%2BI2uah4m1XRR4zv7fT01Ge4TyLFLpNP8%2BKOC3t7QrqCRib7QjSLbxYXHm1t%2Bw3%2B2B8M/gF4p8D/AqfwjYa38Wviedf%2BKEN58VdbM1lpH9mWmntY6frk%2Bn3V5PdzRafbiS%2BnhSRPtFw0QjYQtH9t0UAcX4X%2BFum3HwF0r4Pa74Sg8JWcHh62019C8BeKLy2h0mKKNUW3sr63W0uEjjVAiSIsLbVHyr0rz//AIJ0%2BHrDwl%2BzdfeFtKuL6W2074t/EO2t5dT1Se9uXRPGetKDLcXDvNO5A5kkdnY5LMSSa90rxn9g/wD5Ihrn/ZZviP8A%2BprrdAHs1FFFABRRRQAUjMqKXdgABkkngCvnz9p3/goz8IvgJ4sj%2BC3gDQtS%2BJfxTvRt074c%2BC08%2B7Vsfeu5AClnGMgsz/MFO7YVyR5yv7Hv7a37auNU/b5%2BN3/CF%2BDrj5h8HPhZetCs0Z/5ZajqPLz5HDxxkxnqrIa8utmcfaujhoOrNb20jF/3pvRei5pf3UeNXziHtpUMHB1qi0ajZRi/7837sf8ACuaf91Gh8V/2%2BfiX8ePiFe/s1f8ABNHw3YeK9fsZvI8V/FDUwW8N%2BFs9R5i5F7cYztjTcuefnCuqrpv/AASb8PfFG%2Bh8S/t3ftJeOvjVqCSCU6RqeotpWgxSDndFp9oyqhz/ALZBAGVr6V%2BEnwf%2BGHwH8BWHwv8Ag94I0/w9oGmx7LPTdOh2IvqzHlndjyzsSzHkknmvGPj/AP8ABTT4A/CDxl/wpv4cWerfFL4jyMUh8B/Dy1%2B3XMTg4JuZV/dWqqSN29tyg52Yrjr4bCwh7fNqik3tG75F2jGG835yUpP%2BVLQ9PIeBM74wxjpexliqtuZwjdUacVu5XlGCivtVa80v8OkT0D4b/sZfskfCHy3%2BGf7NPgbRpo8bbuy8MWy3Bx6ylDIx9yxrr/HfxE%2BHHwi8LSeLfiV420bw1o1qAJNQ1nUIrS3j9BvkZVB44FfL7az/AMFjP2hAV0jwp8NvgFo04/1%2BqXZ8S67Cp6MiRgWmcc7XwQcD1rW%2BH3/BJr4Cf8JND8TP2pvFniP44eL4/mGq/Ee/NxZW5PVbewB8iOPgfu2EgHY1rSxNaUeTAYblXeaVOP8A4Clzv/wGPqfolDgrhPh6H/CxmVKNv%2BXOCUcRUfk6iVPC0/V1K1ukWVNd/wCCvPwJ8TavP4R/ZN%2BGHjz42a1C/lyL4D8Nymwt3/6bXk4SONOnzqHXkVWGvf8ABZD49ndo/gr4Y/AjSJed%2Bs3zeJNajB6FViAtTx1DYOce9fV2g%2BH9B8K6RBoHhjRLPTbC2TZbWVhbJDDEvoqIAqj2Aq5Wn1DG19cTiJelNKC%2B/wB6b%2B9Gn%2BtvDGVaZNk1O62qYuUsVP19n%2B5w0fT2dRLz6/Ix/wCCYfxP%2BJg3/tVf8FFfi94yST/j60nw3ew%2BHNMuM9VktrVWyvsGFel/BX/gm/8AsN/s/FLj4afs1eGYr1ORquq2f9o3u7uwnuzJIpJ5O1gPavbqK1pZRltGfOqScu8rzf3zcn91jhzDxF42zHDPCzxs6dF706Kjh6b9aeHhRi/%2B3ucbBBDbQrb20KxxooVERQAoHQADoKdRRXpHxbbbuwooooAKKKKACiiigAooooAKKKKACiiigAooooAKKKKACiiigAooooAK8Z/Zf/5Lf%2B0d/wBlmsf/AFCvC9ezV4z%2By/8A8lv/AGjv%2ByzWP/qFeF6APZqKKKACiiigAooooAKKKKACiiigAooooAKKKKACiiigAooooAKKKKACisD4pfE3wl8G/AWo/Evx0%2BpLpWlRo92dI0K71O5IZ1jUR2tnFLPMxZlG2ONjznGATWVF%2B0N8Gpf2f7f9qVvHMEXgK68Kw%2BJIPENzbyxI2mS263Ec5jdBKC0TKRGUEmWC7d3FAHaV%2Bcv/AAXL/wBA%2BOPwE8X9P%2BEeh1XUd/8Ad2%2BIvB6Z/wDIlfdnwZ%2BOfw0%2BP3hq68VfDLVb6aHT9Tk07VLPV9CvNLvtPu0RHaC5s76KG4tpPLkikCyxqWjljcZV1Y/C/wDwXytpj4e03WbRcz6T8JfEV9B7Mni3wJk/98lq8rPf%2BRNiH2g391n%2Bh9/4Utf8RLyeD2niKcP/AAY5U/8A3IfotRUdpdQ3trFe27bo5o1dD6gjIqSvVPgWmnZhRRRQIKKKKACiiigAooooAKKKKACiiigAooooAKKKKACiiigAooooAKKKKACiiigAooooAKKKKACiiigAooooAKKKKACvGfHH/KQv4X/9kZ8ef%2BnbwhXs1eM%2BOP8AlIX8L/8AsjPjz/07eEKAPZqKKKACiiigAooooAK8Z/YP/wCSIa5/2Wb4j/8Aqa63Xs1eM/sH/wDJENc/7LN8R/8A1NdboA9mooqj4o8TaB4K8Nah4x8V6tBYaXpNjLealfXL7Y7eCJC8kjHsqqpJPoKTairvYUmoptuyRW8fePvBfws8Gal8RPiJ4ltNH0PR7R7nU9TvpQkVvEo5Zj%2BgA5JIABJAr49k%2BMH7YP8AwU1kbSP2Zf7V%2BDvwUnYrd/E/U7Ux6/4lh6EaXAebaJh0uGw2CCpBVojS8E%2BD/HX/AAV18eWPxn%2BMWi32hfs56BqAuPA3ge8UxT%2BOLiNjt1K/TqLQEZjhP3%2Bp4yW%2B4rW1tbG1jsrK2jhhhjCQwxIFVFAwFAHAAHAArxIutnPvKThh%2BltJVPO%2B8YdrWlNa3jFq/wA7F4jP3zKThhelrxlV876OFN9LWlNa3jFrm80/Zg/Y6/Z8/ZA8Jv4W%2BB/gOGxlusNq%2Bt3TefqOqS5yZLm5f55CWJbbkIpY7VUHFVv2sP2zvgp%2Bx54Ttta%2BJep3N5rGrS/Z/DPhDRIPtOq65ckgLDbQKct8xALnCgkAnJUHzb9pP9v3XIviPP8Asn/sO%2BCoPiL8WSu3U38w/wBi%2BEkJ2m41K4XgFT/ywU7yRg4Yqr7H7J37AOh/BbxbcftC/HfxpP8AEr4x6xF/xNvHOsxjbYqQf9F06H7tpAoJUbQGIJ%2B6p2AWI5v9kyyKSjo5W9yHdJK3PPyTsn8cuj/Yso4NyXhjLKWYcRxdKlKKlRwlO0K9eL1jKWj%2Br0Hv7WcXUqK/sKcr%2B1XnQ%2BCn7fv7fX%2BnftN%2BMbj4HfDO55T4b%2BCdQD6/qkJ6LqGoAYgVgcGKMcglXRWG6vpD9n39l74A/sseEF8D/AL4W6X4bsSF%2B0NZw5nu2HR553Jknb/admI6Diu%2BorswuW4fDVPayvOp1nLWXoukV5RUV6nn55xtnGc4P%2Bz6SjhsGndYeinCldbSnq51p/8ATytOpLtybIooor0D5AKKKKACiiigAooooAKKKKACiiigAooooAKKKKACiiigAooooAKKKKACiiigAooooAKKKKACvGf2X/8Akt/7R3/ZZrH/ANQrwvXs1eM/sv8A/Jb/ANo7/ss1j/6hXhegD2aiiigAooooAKKKKACiiigAooooAKKKKACiiigAooooAKKKKACiiigDnPi5rXiDw/8ADTWtV8K/DzV/FeopYstp4e0G4soru8Z8Jtje%2BuLe3UgMWPmSoMKcEnCn5Z8F/B79ozxh/wAEqfBv7MGs/s7a74X8ceDfh34XibS/EWtaO9tqGpaHLYSGxE9jfXKhLlrIqsjAKI5QZNjZSvsmigDxT9kPwV8S7TxX8WPjX8TfhxfeDZviR48ttU0vwpqt9Z3F7Y2lrommaYr3TWM89v50kllLJiKaQCJoQW3BlX5Y/wCCvfwx8SJq/ijVdW%2BLXiHXrPU/2dvHN3YaBqtrpyWmiC31zwbKy2zW1pFO4baCftEs5GwbSvzZ/RKvjv8A4KdaN/b/AIh1PSwm5n/ZL%2BLDxr6ulx4Wdf1UVw5pD2mWV494T/8ASZH1PAuJ%2Bp8b5VX/AJcTh3/5Xpf5n038DNa/4SP4J%2BDvEO/d9v8AC2n3O71320bZ/Wupryn9hPWf%2BEh/Yl%2BEGtM%2B5rj4Y6C0hz/H/Z8Ab/x4GvVq2wk/aYSnPvGL%2B%2BMX%2Bp5vEGG%2BpZ/jMP8AyVqsf/AatWP/ALaFFFFdB5AUUUUAFFFFABRRRQAUUUUAFFFFABRRRQAUUUUAFFFFABRRRQAUUUUAFFFFABRRRQAUUUUAFFFFABRRRQAUUUUAFeM%2BOP8AlIX8L/8AsjPjz/07eEK9mrxnxx/ykL%2BF/wD2Rnx5/wCnbwhQB7NRRRQAV5/%2B0v8AHG5%2BAPw1i8WaL4RXxBrWq%2BIdL0Hw3ocmo/Y473UdQvYrSBZZ/LkMEKtL5ksgjkZYo3KpIwVG9Arz79pf4HXXx%2B%2BGsXhPRfF6%2BH9a0rxDpeveG9ck077ZHZ6jp97FdwNLb%2BZGZ4WaLypYxJGzRSOFeNirqAefXP7dF1oX7L3in43eLfhTHaeJ/B3jE%2BEdb8JW/iISWkesPqUFhBjUHgTFlIbq1uDctArRwSlniDI0dYVl/wAFAfHviC%2Bb4O%2BD/gh4b1L4uWvxJvPB2reF0%2BIci6JZz22iw61LdHVRpzTNCLS6tEx9iEgubjymVVR5V634f/srfEbwR8I/GPgHVPiZ4P8AEOqeOrrUtV8RX2vfDuSfT7vVb2ZjIZLE6jh7BbYQ2y2hl8zZDue5dmJrhPA//BNPUfhD4c0rxH8Evib4R8LfEPT/AB7eeKJdV074ZiLw47XOkx6RJYRaLBfRNBarZ29psVbveJrVZXeTfIjgHvX7O/xo0f8AaJ%2BB/hf426Ho9zpsHiTSIrt9LvWVprCYjEttIVyrPFIHjYqSpKEgkEGuM/YP/wCSIa5/2Wb4j/8Aqa63XQfCn9mL4a/Dv9mbRP2WvE2lWvjDw9pugx6dqsfibTobiPWW%2B9NNcQMpiYyylpWTbtBbAAAFcj/wTp8MeGvBX7N194P8G%2BHrHSNI0v4t/EO00zS9MtEt7a0gj8Z60scUUSALGiqAoVQAAAAKAPdK%2BPP%2BCiHiHXP2ofi/4Q/4Ji/DXVJoV8VKuvfF3U7JyG0zwxbyg%2BRuH3JLqULGPQbdwKyV9R/Ff4k%2BG/g58MPEPxZ8Y3HlaV4a0W51PUHBGfKgiaRgPViFwB3JAr52/wCCV3wp8T3Pwx1j9tT4yRCT4g/HO8TxDqbMCf7P0orjTrCInkRJblWHf94Ac7Aa8jMm8VUhgI7T1n5U01df9vu0PTmPBzdyxtanlkNql5VH2pRaTXrUlaHpzs%2BnfDvh7RPCXh%2Bx8K%2BGdLhsdN0yzitNPsrZNsdvBGgRI1A6KqgAD0FfJH7SX7RnxY/a4%2BLeo/sJ/sNeJH07%2Bz2EXxd%2BLVqC0Hhi3YkNY2jggSX7gMvyn93gjIZXeLf/AOCg37Q3xHuNZ0P9hP8AZW1PZ8U/iVC32jVoiSvhPQgStzqspXlG27ki5BL5KncEDey/syfs1fCz9kz4O6V8FvhHoi2unadHuubpwDcajdEDzbqd%2BryuRknoBhQAqqBFeVTMK8sHRfLThZTktH/17i1s7W52tYpqKtJ3j%2B0ZLhcBwTk1HPsfSjUxVZN4SjJJwjGL5frVaD0lBSTjh6TXLVnCVSadKko1Gfs0/sufBX9kn4aW/wALfgj4Qi02xjIkvrt/nu9SuMYa4uZT80srep4A%2BVQqgKPQqKK9alSpUKSp04qMVoktEj4HMMwx2a42pjMbVlVq1G5SnJuUpN7tt3bf/ASSSSRRRRWhxhRRRQAUUUUAFFFFABRRRQAUUUUAFFFFABRRRQAUUUUAFFFFABRRRQAUUUUAFFFFABRRRQAUUUUAFeM/sv8A/Jb/ANo7/ss1j/6hXhevZq8Z/Zf/AOS3/tHf9lmsf/UK8L0AezUUUUAFFFFABRRRQAUUUUAFFFFABRRRQAUUUUAFFFFABRRRQAUUUUAFFFFABXzR%2B2Fov/CR/tE6T4e2bvt/7NHxPttvrvu/Ci4/WvpevEfifp0Wr/t6/DnSZ/uXXwR8fwv9G1Twip/nUVYe0pSh3TX3pr9TqwOIeDx1HEL7E4S/8BlGX/tpl/8ABKbWf7e/4J0/CG%2B37vL8HQW%2Bc/8APFnhx/45X0FXyn/wRK1Ga/8A%2BCZPw1guuJ7EataTLn7pj1a8UD/vkLX1ZXBk0/aZPh5d6cP/AElf5H1niVh1hPEXOaK%2BzisQv/K1R/8AtwUUUV6R8SFFFFABRRRQAUUUUAFFFFABRRRQAUUUUAFFFFABRRRQAUUUUAFFFFABRRRQAUUUUAFFFFABRRRQAUUUUAFFFFABXjPjj/lIX8L/APsjPjz/ANO3hCvZq8Z8cf8AKQv4X/8AZGfHn/p28IUAezUUUUAFFFFABRRRQAV4z%2Bwf/wAkQ1z/ALLN8R//AFNdbr2avGf2D/8AkiGuf9lm%2BI//AKmut0AeW/8ABWXVtS%2BJnhj4dfsJ%2BFb2SPU/jb44t7DVTbtiSDQbJlu9RmGOflVYhjoVZhmve/jx8WvA/wCyf%2Bzp4i%2BLer2cVvongrw688FjEQiuIkCQWydgXfy4l92FfPn7P4/4ae/4KjfFH9oWb9/4d%2BDmjxfD/wAJueY21SQ/aNTlX0kjJEBPdXH4N/4KCk/tP/tNfCT/AIJ56a3naVqGoDxv8UIl5UaHYSfuLeQf3Li6Gz1DIhr5p4mcaWIxsNZzkqdP5Nwj8nNzk/KJ3%2BGWSYXiji2eIxrawqcpVZL7OFwqcqrT7zanGPedSn5HTf8ABNX9njxT4V8D3/7Wnx7m/tD4sfGBIdZ8TXk0RU6XZuoa00uFTkxRQxFAV67hgkiNcfTlAAUBVGAOgFFe5g8LTwWGjRh03fVt6tvzbu36%2BSO3iTPsZxNndbMcTZOb92K0jThFctOnBbKFOCjCCVrKN93JsooorpPDCiiigAooooAKKKKACiiigAooooAKKKKACiiigAooooAKKKKACiiigAooooAKKKKACiiigAooooAKKKKACvGf2X/%2BS3/tHf8AZZrH/wBQrwvXs1eM/sv/APJb/wBo7/ss1j/6hXhegD2aiiigAooooAKKKKACiiigAooooAKKKKACiiigAooooAKKKKACiiigDnfi58UvBvwP%2BFviL4x/EO/e10LwtotzqmrTxQtLItvBE0j7EXLSOQpCooLMxAAJIriPh3%2B2B4I8YeCfHPi3xt4E8UeA7z4bRNP408N%2BLba1e/0%2B3%2BxLfJcAWFxdQzRvA25TFK53JJGQskboNn9qv4K3X7Rn7N3jb4Hadr0elXnifw5dWOnanNCZY7S6ZCYJnQEF0WUIzICCygjIzmvK/Cn7Pn7Vutw/F3xf451Pwj4Q8X/FnQTpVvf%2BD/Ed3qMfhRbXTDbWFxC1xY25vZTcz3Vw%2B5YBGvkxjzSrOQDu/wBmn9rrwv8AtK6prHhyy%2BGfirwlq2jaNpOsS6X4qWwZ59N1NbhrK7jksLu6hKyfZbgeW0iyp5eXjUOhal44/wCUhfwv/wCyM%2BPP/Tt4QrjP%2BCf/AOxx4t/Zb8ReLdd1D4Y/Dn4eaRr2g6Dp9t4D%2BFmoXFzpjX1iLwXOtSvNZ2mLu7S4tonAiZtmnxGSaZiNmlf/AAx8N%2BDv%2BCm3gvxnpOpeIZrzxD8HvHEl/Dqvi7Ub60iKat4SwLa1uZ5ILIHccrbpGGwNwO1cAHJf8EY/%2BJf%2ByRq3hDp/wj3xQ8S6ds/u7b93x/5Er60r5L/4JNf8S3Tf2gvB7cf2P%2B054rhhT0hY27ofxya%2BtK8nItMoorsmvulNfofoHir73iJmVT%2Beop/%2BDKWHqf8AuQKKKK9Y/PwooooAKKKKACiiigAooooAKKKKACiiigAooooAKKKKACiiigAooooAKKKKACiiigAooooAKKKKACiiigAooooAK8Z8cf8AKQv4X/8AZGfHn/p28IV7NXjPjj/lIX8L/wDsjPjz/wBO3hCgD2aiiigAoorzD9rb4yeMvgx8MLC%2B%2BGtnpkviXxJ4w0Xw1oEmtwSS2Vrcahfw2xup44pI3ljhjkkm8pZIzKYhGHj371APT6K%2BYNV/bJ%2BM3hT9jX4ofFPXPD/hy/8AHvwt8Tah4f1J7Cyni0y9lhuIRHfRWrXDzsDa3MM/2JZ3leUNbxyuzI58tuP%2BClX7RH/CsrS9jj0RL1/i5qXhSfxRB8FPEd3d/ZbbRF1JJH8GxXY1q2neRmhKSSHZDGl4yiG4jwAfeNeDfsi%2BJbbwX%2By94z8Y3uPJ0n4p/E68l3HjbF4x11z%2Bi11XwM/aL0vxh%2ByD4N/ai%2BNeseGvCcGteB9O13xFdnxDA2laa9xbRySAXjP5RiV3Kh95BGPmPU/O0HxY8NQf8EgfjZ8VvBfiax1PTNQ1f4sS6JrGmXiT290t14q12OCaKVCVkRjKjKykhgQQeawxVX2GGqVf5Yyf3Jv9Dmxlf6rg6tb%2BWMpfdGT/AEOu/wCCOHh%2BLwf/AME5/B/jbxJcAal4pfU/E3iXU7hsNdT3N5M5uJCe/krECfRBWZ/wS/sL347%2BKfif/wAFFfE9rIJfil4jfT/BCXCENbeGtOZre2wD9wyuju46Exq3esf44eLb39ln/giBpulaMjrrc/wj0bw3pkEIxLJf6hbQWjGMf3wZpJB/uGvp79mv4Q2XwB/Z88FfBSwVNvhfwxZadI6dJZYoVWST6s4Zj7sa8HAUeathcO9qNKMn/jkuVX80ud%2BrufdcL0f9WvB91lpVxs6eGT6%2BxoU4V69v8dadCEn15GurO3ooor6U%2BOCiiigAooooAKKKKACiiigAooooAKKKKACiiigAooooAKKKKACiiigAooooAKKKKACiiigAooooAKKKKACiiigArxn9l/8A5Lf%2B0d/2Wax/9QrwvXs1eM/sv/8AJb/2jv8Ass1j/wCoV4XoA9mooooAKKKKACiiigAooooAKKKKACiiigAooooAKKKKACiiigAooooAKKKKACvGfHH/ACkL%2BF//AGRnx5/6dvCFezV85fGj4g23hL/gqT8AfCV24A8U/Cb4j2NspxkzRXfhS6GP%2B2dvLx7%2B1TOcYK8vL8Xb9SJ1I0480ttF97svxaOY/wCCc3/Eo/aU/aq8IdPJ%2BMY1Hb6fa7NHz%2BOyvrSvkv8AY4zo/wDwUy/a48MnhJLrwXqMA/vebpMnmH/voAV9aV5eS6YHl7TqL7qk/wDM/Q/E33uK1W/5%2BYfBz/8AAsFhn/7aFFFFesfn4UUUUAFFFFABRRRQAUUUUAFFFFABRRRQAUUUUAFFFFABRRRQAUUUUAFFFFABRRRQAUUUUAFFFFABRRRQAUUUUAFeM%2BOP%2BUhfwv8A%2ByM%2BPP8A07eEK9mrxnxx/wApC/hf/wBkZ8ef%2BnbwhQB7NRRRQAVxvx4%2BCXhr9oH4dS/DvxNrGp6Xt1Kx1PS9a0SaOO90vULK6iu7S7gaWOSPfHPDG22RHjcAo6OjMp7KigDw6P8AYO8AyfBbWPgjq/xV8a39pr2p/wBtanrVzc2CajLr41NdTTWhLFaIq3SXMcBSMILVEtoo1twilTlJ/wAE7PClrdr430r9or4k2fxBbxVd69efE6CbR21a8nuNNttMlhkgfTW0/wAj7JZWcYjS0XabVHBEhd2%2BhqKAOY%2BC/wAI/BvwE%2BE3h34L/D6C4TRfDOkw6fp32y5M0zxxqF3ySNy8jHLMx6sxPevhP9r3VbyD/gj78TfCulSbb7xR8efF2i2Xu8/xI1LcPfKK4r9E6/OP42/8VL8FPgz8JE%2Bb/hJf27/ExvIv79nbeNfEM035fIa8rPG/7IrRX2o8v/gTjH/248XiNv8AsLERW8o8v/gbjD/289Z/bj0qz%2BJf7Vn7Mv7GWkx79MtfFEvjTX4B92Oz0a3/ANFWQd0kldkx0JUZr7Dr5F/Zp/4vl/wVL%2BOXx4k/e6d8OtA0z4e%2BHpzyplJN7qAHYMk%2B1T3w34V9dVOVJVZV8T/PNpf4afuL8VJn63x2lluFynI46fVsLCU1/wBPcU3iZ/NQnh4f9u26BRRRXrn58FFFFABRRRQAUUUUAFFFFABRRRQAUUUUAFFFFABRRRQAUUUUAFFFFABRRRQAUUUUAFFFFABRRRQAUUUUAFFFFABXjP7L/wDyW/8AaO/7LNY/%2BoV4Xr2avGf2X/8Akt/7R3/ZZrH/ANQrwvQB7NRRRQAUUUUAFFFFABRRRQAUUUUAFFFFABRRRQAUUUUAFFFFABRRRQAUV5/%2B1X8arn9nP9m/xt8cdP0FNVvPDHhy6vtP0yWYxR3d0qHyIXcAlEaUorOASqknBxivPPAH7UnxJ%2BH2jfGbSf2o5PD%2Bq6r8G9Hh16%2B1jwPos%2Bn2up6XLpr3i7LW5url4Zke3u4iDO6uEjk%2BTeY0APoOvz%2B/4Ks%2BNLn4Xf8ABSv9iv4nxblgsNa8T2GoTjpBa39x4fsZHY9lAnwfrXv/AOwT%2B1H4q/aW8P6jqnj34j%2BFb/VhpWl6qPDOgeA9X0SXR7a9SZ4yZdTnY6tbOY3SHUIIoIJzbzFF6qny9/wWX8R/Dj43eJ73wf8AC34neH9W8YfDL4LeLdd1PTdI1mC5vNCntfEHg24BuYY3L27NFDPgOFJw2Ohrzc451ldaUN4rmX/brUv/AG1/eeRn/tFk1edP4ox5l/244z/Hka%2BZ7f8ABT/iSf8ABYn426Z0/tv4YeG9Rx/e8lnt8/rivrSvijU/Htn4W/4KVfA79p6zYL4d%2BP8A8IZfDjyZzHBeRBNUtGz6yLIIlHfB%2Btfa9Y5POLhWgulSb%2BU%2BWcX81K5%2Brceyji45RmNN3p18DhrPu6MalCa9YypxXo0%2BqCiiivYPgAooooAKKKKACiiigAooooAKKKKACiiigAooooAKKKKACiiigAooooAKKKKACiiigAooooAKKKKACiiigAooooAK8Z8cf8pC/hf/ANkZ8ef%2BnbwhXs1eM%2BOP%2BUhfwv8A%2ByM%2BPP8A07eEKAPZqKKKACiiigAooooAK/NzR9RttZ/au/Z58I3b/wChaL8Zvjp4m1Yf881tvEesCB/%2B/hYV%2Bkdfk/4c8U7P2m/iz4oEn7j4afBz4zaqr5/1d7cePvEChR7mJQa8XPqip4KN%2Bs4fdFub/CBw4vByzPF4LL4718Thqf8A4FWh/kfWH/BF3Sbq8/YesvjLri/8Tz4n%2BLtc8WeIJP791cX8sW7PfMcER/GvrCvDv%2BCaPhb/AIQ//gn98HtH8vYZPh/pt4y4xg3EC3B/HMpr3GunJ6bpZTQi9%2BSN/VpN/e5N/M/QfEbGxzDxAzavH4Xiayj2UYVJU4JeUYUoxXlFIKKKK9E%2BMCiiigAooooAKKKKACiiigAooooAKKKKACiiigAooooAKKKKACiiigAooooAKKKKACiiigAooooAKKKKACiiigArxn9l/wD5Lf8AtHf9lmsf/UK8L17NXjP7L/8AyW/9o7/ss1j/AOoV4XoA9mooooAKKKKACiiigAooooAKKKKACiiigAooooAKKKKACiiigAooooA534ufCzwb8cPhZ4i%2BDfxDsJLrQvFOi3OlatBDM0UjW88TRvsdcNG4DEq6kFWAIIIFcF8M/wBjrw14DtvEkfiv4seLvHM/jYSp45vPGA0x5NfhNnFZRQTC0soEiihgjIRLdYQzTTPJ5ryFq9fooA8m/Z1/ZF8L/s769qHiyL4n%2BLvGGrXnh7TfD9tqXjC5s3ksNH09rhrSxiFpbW6lEa6nYyyrJPIXHmSvtXbyP7SngKy%2BKv7Wnhb4X6lt%2Bz%2BJP2ePiTpdxvHGy4v/AAnC2fbDmvoevGfHH/KQv4X/APZGfHn/AKdvCFTOMZwcZbNW%2B/T9SZwjUg4SV000/Rpp/g2fFKT%2BK/id/wAEMPh38a9AtWPjT4A6va6xZwMfngl0O/ktpI2I6KLMFyOmFXPTj9Jfh/420H4l%2BA9E%2BI3ha587TNf0i21LTpv78E8Syxt%2BKsK%2BTP8Agnt4T0OHxN%2B1R%2Bxl4qtBNpth8VtQvDYN0TStdtRLHCB/dKLJj/eNdB/wR/8AFmuJ%2Byvd/s9eNbwy%2BIfg34x1TwXqpfhnS1nLW8gH9wwyIinoRGcV8vk0pUa1FS/5eU%2BR/wCOg3H73D8j6zh2cs78F6MZa1csr8r7%2ByxF6b%2BUcThk/J1fM%2BqqKKK%2BqPlQooooAKKKKACiiigAooooAKKKKACiiigAooooAKKKKACiiigAooooAKKKKACiiigAooooAKKKKACiiigAooooAK8Z8cf8pC/hf/2Rnx5/6dvCFezV4z44/wCUhfwv/wCyM%2BPP/Tt4QoA9mooooAK8h/bX%2BJHj74efCfSLL4ZeJW0LWPFnj/w74Yh8RJaQzvpMWoanb289zHHOjxNMIXkEXmI8YlaMujqCjevVzvxY%2BE/gH43%2BAr34Z/E3Q21DR794JJoYr2a2ljlhmSeCeGeB0lgmimijljlidZI5I0dGVlBAB8ya3%2B0j%2B0B4S/Yi%2BLd/B8Rv7W8c/D74gXfhDQfFd3plol3rbNf2sVpsgjhW0OovHex2sY8pLd7xULRpGzIvmFn%2B2V%2B12bOw/Z9ub34nv4t1L42ap4flWDQfCr%2BNdL0q08OW2rpbTnC%2BHhdTNOsy3Cl4PsLpHzdk7frm1/Yu/ZytPhTe/BL/AIQvUJ/DGpW8iX%2BnXvirU7g3E0l698968stw0rXxunM5vi32rzAreblFxTX9hP8AZoj8C/8ACAw%2BF9fjiPidvEba7F4%2B1pddbVmtfsbXp1gXn9oGU2n%2BiljcZNuBD/qwEoA1vhB8c/BfiD9lzw98dbTxJ4o8S6RL4bguZdSl8LSz6zesqhJGl0/TrfcbnzAwkht4AFcOFQKAB%2BTHw98fQeIfhT/wUD%2BNtrBf29la6tqfh7Sf7U0yeyuBFqXivWJHSS3uESaBwbhA0UiK6k4ZQQRX7L/Dv4e%2BC/hN4F0j4Z/Dnw7b6ToOhafFZaTptqDst4I1CqoJJJ4HLEkk5JJJJr8hH8LNffsf/tUWM0WJPiT%2B3pq3hhFPWaOHxKZVHuN2/wD75NfNcUKTwKa6c7%2BfsppfjNH0fAWChj/FPhylP4I42lOX%2BGmpVH9yg38j9a/gd4W/4Qb4KeD/AAV5ez%2Bx/C2n2OzH3fKto48f%2BO11NAAAwBRX0VOCpwUFskl9yS/Q8PFYipi8VUrz%2BKcpSfrKUpP8ZMKKKKswCiiigAooooAKKKKACiiigAooooAKKKKACiiigAooooAKKKKACiiigAooooAKKKKACiiigAooooAKKKKACiiigArxn9l//kt/7R3/AGWax/8AUK8L17NXjP7L/wDyW/8AaO/7LNY/%2BoV4XoA9mooooAKKKKACiiigAooooAKKKKACiiigAooooAKKKKACiiigAooooAKKKKACvGfHH/KQv4X/APZGfHn/AKdvCFezV4z44/5SF/C//sjPjz/07eEKAPI9Y1Ifsu/8FeB4k8Tw/Z/DH7Qvgy10uy1MHEY8RaXkRwS9lL2zBUJOWdgoBwcV9Y1lv2Gf%2BCmmoeL/ABXALf4c/tIR6fZJq4bEGleKrOJooopeyC6iJw38Uh54RiPYf2/P2XZP2s/2a9X%2BHugXn2HxXpk0WteBNYR9kmn61akyW0iv/BuOYmbssrEcgVwXwy1H4ff8Fa/%2BCesnhj4saYbDV763k0jxbapFtufD3iOzIV5EU8xukoWZFJ%2B5IFbhmFfMV8PWpYqdCn8ak61K%2Bze1SD8nf5Kaf2T0vD3PMDw1xJisqzRN4HHQlGdtZRhOUJSlBdamHrRp4iC%2B1Fzh9q6%2BpqK%2BZ/8AgnV%2B0z428caLrf7Kn7Sd7HD8YPhTOum%2BJUkk%2BbW7IAfZdXhzgyRzRlCzdnIYhfMUV9MV72DxVLG4eNaGz6PdNaNPs07p%2Bnmjp4iyDHcM5zVy7FWcoWalHWFSEkpU6kH9qFSDjOD6qVnZxkkUUUV0niBRRRQAUUUUAFFFFABRRRQAUUUUAFFFFABRRRQAUUUUAFFFFABRRRQAUUUUAFFFFABRRRQAUUUUAFFFFABXjPjj/lIX8L/%2ByM%2BPP/Tt4Qr2avGfHH/KQv4X/wDZGfHn/p28IUAezUUUUAFFFFABRRRQAV%2BYWr%2BBf7O8IfCrwEJI3fxp/wAFE/GHiO7jiyd8Fp4r1sMrZH92OPP0HNfp7X5y%2BFP%2BKo/a/wD2bfAq/NFZ/G/46a3er/d8nxHq6wt/38JFePnkIzwPK93KEf8AwKcE/wAEffeGUIx4xp4t/wDMPRxdVeXJg8T%2Bslbzsfo1RRRXsHwIUUUUAFFFFABRRRQAUUUUAFFFFABRRRQAUUUUAFFFFABRRRQAUUUUAFFFFABRRRQAUUUUAFFFFABRRRQAUUUUAFFFFABXjP7L/wDyW/8AaO/7LNY/%2BoV4Xr2avGf2X/8Akt/7R3/ZZrH/ANQrwvQB7NRRRQAUUUUAFFFFABRRRQAUUUUAFFFFABRRRQAUUUUAFFFFABRRRQB5h%2B2n8XvFXwD/AGTPiH8Y/A0dqdb8P%2BFLy60d76Ivbw3QjIillUEFokcq7rkZVWGRnI8%2B%2BFPx68R/AO6%2BOXhr9pj42ah4t0D4PaZZeIpvHOs6TZW96umTaY91cQzx6dbwQO8L207qY4VYxzRKwdlLv77408G%2BFfiL4O1b4feOtAtdV0TXdNn0/WNLvYg8N5azRtHLDIp4ZHRmUjuCa5D4Ofst/Bv4C73%2BGmn69BNcXst5f3eq%2BNNV1O41Gd4IbfzLua9uZZLspDbwRRecz%2BSkYWPYMggHg/8AwS4/bV1v9rfxR8Y7XxX%2B0D4M8X3GjeLdOutD0PwfrOm3sXhzS73R7K5Sx86yLfavJne4he5dnEk8M4QqirGnZ3/xO8N%2BMf8Agpt4L8GaTpviGG88PfB7xxHfzar4R1GxtJS%2BreEsG2urmCOC9A2nLW7yBcjcRuXPtPhb4Y%2BB/BXivxN438M6H9m1TxjqUF/4kuvtMr/bLiG0hs432uxWPEFvCmECg7NxBYknzfxx/wApC/hf/wBkZ8ef%2BnbwhQB7NXxX8eNF%2BJH/AATe/aL8S/tr/DPwnP4i%2BEPj6eCf4x%2BF9LhLXmg3aAqdctUBxIhBJnXgk5YnGGj%2B1KZcW8F3A9rdQJLFKhSSORQyupGCCDwQR2rixuDWLprllyzi7xkuj226prSS6p9HZrz8xwCx1KPLLkqQfNCS%2BzK1tuqadpReji7aOzXzX%2B0R%2By/8M/25/CXhn9qr9mH4rQ%2BHviDplkt58PPijoDblliOT9lulA/f2zEsrxuCyEuNvMkbwfss/wDBQq28TeMP%2BGXv2xdFtfhx8Z9OYQS6Ney%2BXp/iIdEu9Mnb5Zkk6iLcXByBu2kjkPEH7KP7T/7B3i/V/in/AME7odO8S%2BA9Wvm1DxH8BtZuPs8cUx/1s2j3JyLd26%2BSw2ccB8RouxpXxt/4J8/8FTvCM3wL%2BNHhi3svFllK0V78PvHEH9m%2BItFuwBuNvuKybhx88DHIwHAyVrw1Uq08XzRtSxEvijK/s6tusZfzdmvfS0nGSSZ9pw/4gZZjcvpcOcZUpcsLqjVhy%2B1o3d37CU7RrUJN80sLUlGUW3Kk6c3L2n1rRXxtZ/Cv/gpZ%2Bw/GbP4F%2BLbH4/8Aw7tD/onhPxtqIsvE9hAOkMGoEeVchQDgyjOMKiCur%2BGP/BWz9k7xPry/Dz41ajq/wg8ZIQt14X%2BKOmPpbo3TK3DjyGQn7rF1LDB2ivThm%2BHjJU8UnRn2non/AIZ/BL70/wC6e5ivDrOa1GWKyKccxw61csPeVSK/6e4d/wC0Umut6dSCe1Rqzf09RVbSNZ0jxBpkGtaBqttfWdzGHtruznWWKVT0ZWUkMPcGrNeqmmro%2BBlGUJOMlZrdPRr1TCiiimSFFFFABRRRQAUUUUAFFFFABRRRQAUUUUAFFFFABRRRQAUUUUAFFFFABRRRQAUUUUAFFFFABXjPjj/lIX8L/wDsjPjz/wBO3hCvZq8Z8cf8pC/hf/2Rnx5/6dvCFAHs1FFFABRRXiH7f3iTxFoXwT0bSNE8V6loFp4k%2BJfhXw/r%2BuaPqElndWenX2tWltcCK5iZXtnmWT7MJkZXj%2B0bkZHCsAD2%2BiviHxH8TPiN4V/4J8/GbRvDXxd18y%2BGPirfeDvAXirUNeuJ764hk1m1tIbSXUpJDOgS4uZdOa/Z2mt0iMzM8kJY%2BS/EP9ob9oP4U/su/F34AapqPxP0zWLP4ha3p2r%2BIvBVx4k8cnwNpsHhvTNTSztddjtnv5HuWvIdt3dpbNam8vQjKLGAyAH6cV%2Bb/wCybf2es/8ABTfTrO%2BmC2/g7Q/itq7uQSI3uviVrNoAMfxEAYA5Oa%2BzP2f/AIqax4g/Y38E/FrSvCfinxVqF14F027/ALKe2Fnq2pTG2j35XVZLYLIzbm3TvGG%2B9uOQT8Lf8Er9Wv8A4lftx/HTx3qvhi%2B0e58Pa/qOlXGkanJA9zpz3nxA1i%2BNvK1vLLCXUgg%2BXI6Eg7WYYJ8nNfelh6ferD/yVTl%2BiP0DgL9zSznFf8%2B8BiF86ssPRX/pcl8z9KP%2BEw0n/n01T/wR3f8A8apf%2BEw0n/n01X/wR3f/AMar528ff8Fkf%2BCb3wv8d618NPHP7Rv2HW/DurXOmaxZf8IhrEv2e6t5Wilj3x2jI%2B10YblJU4yCRzWT/wAPy/8Aglp/0dD/AOWTrf8A8hVUs8yWEnGWJppr%2B/H/ADM6Phb4mYijGrSyTFyjJJprD1Wmmk001CzTTTT6pp9T6f8A%2BEw0n/n01X/wR3f/AMao/wCEw0n/AJ9NV/8ABHd//Gq%2BdvAP/BZH/gm98UPHei/DTwN%2B0b9u1vxFq1tpmj2X/CIaxF9ouriVYoo98loqJud1G5iFGckgc1337f3xg%2BJn7Pv7E3xT%2BOPwbtNNm8T%2BEvA%2Boaro66vMyW6ywQtJvfbHJu2qGYJtw7KELIGLr14XG4PGxcsPUjNLfladvWx8/nnDPEnDFaFLOMFVw0ppuKq0503JJ2bSmk2k9G110PS/%2BEw0n/n01X/wR3f/AMao/wCEw0n/AJ9NV/8ABHd//Gq%2Be9T/AG3Pjb4V%2BIfjnwX8QvgV4E0LT/hl8PLTxN458T3fxUujY273cWqNb21tjRxLOofT4xLK6RFEuC0cczoIpOZ%2BG3/BSrV/irqnhnQ9W%2BE%2Br%2BF9bi%2BNEvg7xDpCy3ltDIh8H6hr8M%2B3WNHtL14XSGJNv2e0kEqBllkhUrcdJ4Z9Vf8ACYaT/wA%2Bmq/%2BCO7/APjVH/CYaT/z6ar/AOCO7/8AjVfPP7JX7fPxJ/aH0/RLjxz%2BzB/wj934s%2BE2i/EHwnpfh7xrDqs91p18wR4JzcQWUVvcQl4mKh5EdHyHDKY66n9qvxZ8VdS%2BLXwv/Z4%2BFvxX1DwI3ja61i61bxXo2m2N1exW9hZCRbaBb%2B3uLdWkmmhZmeJz5UEqrtZhIgB67/wmGk/8%2Bmq/%2BCO7/wDjVH/CYaT/AM%2Bmq/8Agju//jVfOUH7Qn7SPxP/AOCZHhD4/wDw%2BtLn/hOdd0jw7N4hu/Cuhre3FvaS39pFrGoadZSLIJ5UszeXNvAVl3Msa7JziN%2BB8K/tL/EHxr%2BzL8QvG/jP9qr4l%2BCofhZ8Rr/w9p3iI/D/AEiHxF4w8y0sbjTYZdNvNMZBcySX6WyW0FtbzTOsalYnZkoA%2By/%2BEw0n/n01X/wR3f8A8ao/4TDSf%2BfTVf8AwR3f/wAar4c/aB/ar/bt%2BBFhofxF%2BLtp4p0a70rwJ4KvZvC/grwPDqPh/X9aubsxeIrO/wBRa2mawEKmNbcC4tcl1ZDdsTCsKftvftPeCv2j9Y8W%2BLNa17Ufh%2Bni7x7pOlxPp2jjw1rH9iWF/cQ6bpcsEX9rJqsbabdC5e8/0QtZX6wlysIoA%2B6P%2BEw0n/n01T/wR3f/AMaq/YX9pqdol9YziSKQZVgCO%2BCMHkEHIIPIIr5k/wCCc37QHj34sWVxp3xs8dfEG68X6r4M0TxUNG8Z%2BHNE0%2Bwisb0XGLnSRpiGYWjyo8fk38sl5EIYvMCmTL/Rng//AJBM3/YUvv8A0rloA1aKKKACiiigAooooAKKKKACiiigAooooAKKKKACiiigAooooAKKKKACiiigArxn9l//AJLf%2B0d/2Wax/wDUK8L17NXjP7L/APyW/wDaO/7LNY/%2BoV4XoA9mooooAKKKKACiiigAooooAKKKKACiiigAooooAKKKKACiiigAooooAKKKKACvGfHH/KQv4X/9kZ8ef%2BnbwhXs1eM%2BOP8AlIX8L/8AsjPjz/07eEKAPZqKKKACvKf2kf2I/wBlv9rSxWD47fB/S9XvIkC2euRIbfUbXHK%2BVdRFZVAPO3dtJHINerUVlWoUMTTdOrFSi%2BjSa/ExxGGw%2BLpOlXgpxe6aTX3O58fw/se/8FDf2bF8v9kP9tuDxdoFuc2fgj44aa18I1H/ACzXU7fFxtA%2BVU2qqgDnvWH8Rv2qfjQ3h1/BH/BQn/gklr3iHR48ifU/A1tZ%2BLdPcd5xbtiS3UdfmJdcZr7corzJZQoRccPVlBfyu1SHpy1ObTyUjz8PluKyytGtleLq0JRd42k5KL6cvM%2BaNv7tSNuh%2BWvhU/8ABHjU9enuP2ZP23PHv7OfiRpt13o9tr9/o1tHMeq3FvqCGBl9UWQL9Ole5eBW/wCCmul2YvP2eP26fgf8edKjXdGPE2mCzuXi7BZtKkdGbHG9zg9TX1x49%2BEvwq%2BKll/ZvxP%2BGfh/xHb7dvka9o0F4mPTbKjDFeEeOP8Agj1/wTg8d3R1G7/Zh0nSrsNuiuvDN/d6WYm/vKtrLGg%2Bm3HtXmf2LjqDvQ5F/glUo/8Akq9pT/8AJUfdx8TfE1xUMzeFzKK0/wBqoqc7f9fXF1V/4Pf6HPj9t/8Ab7%2BG/wC6%2BOn/AAS48R3cMX%2Bs1X4aeMLPWRMO7Ja/LKv0Zs0%2BP/gs7%2ByR4fdYfjd4T%2BJ3wylztki8efDi%2BtzG3o3kLMBzTf8Ah0l4a8MfN8Gf23P2g/Bip/qbHTfiQ89mvoDDNG24D3akk/Yn/wCCi3hmMx/D3/gq/q1xbgECx8X/AAt0zUfMHo0xYP8AiBzRfiShspS9fYz/ABToy/Uf%2BuvDmJ/5GPCrg%2BssJjZQ%2B6FdVo/K/wAj0TwT/wAFNP8Agn78QQn/AAjv7X3gRGkxsj1XXo7ByfTbdGM59sZr1jwp8S/hx48jE3gf4gaJrKMMq2larDcAj1zGxr4j8bfsI/8ABQfxAXbxJoP7IvxEY5zN44%2BFc1vK/vutkYqfcGvJvFf/AATB%2BO17IZ/FP/BLX4AazKrbhL4E%2BJOs6Ic%2BqBpVC%2B2Rij%2B188pfHhr/APbtRfk6iF/a/hTiPjpZphX50MLiYr5061GT%2B5H6oUV%2BSv8Awxr%2B1l4L%2BTw5%2BwL8cfCUafcufhz%2B1vaHb/uRTxSMMe5pRa/8FCPA/Glwfts6fs6fa7/SvFGPzEe/%2BtH%2BsteH8TCzXpf/ANupoLeGFb%2BHn1Sn5V8txsPvlT9tH7kz9aaK/JYftZf8FOPBxxJ8Tv2lkjTpF4o/ZA06SIfW4guy7flR/wAPVv8AgoV4U/4//GOkTbev/CY/AXXbLP8AvfYy%2BPwo/wBbsBH%2BJSnH5J/qg/szg2p/B4lwD/xvF0fv9tgUl9/zP1por8mB/wAF5f2nPDC7vGt38DZtv3lt/DvjCzJ/7/WjAVf07/g4x8cQ4%2B1fBH4e6x6/2f49urDd9PtdkMfjTXGeQXtKbXrF/o2OPD2XVXahneWVPTMMPH/06qP6H6sUV%2BZWj/8ABxlDOobXP2SNMtx3%2ByfGjSpv0aJK3bT/AIOMfgbCobxD%2Bz9rkH97%2Bz/GOjXX5f6Sua3jxbw9L/l%2Bl6qS/Q0XCGYVHajicHU/wY/AS/LGI/Riivz40/8A4ORf2Jp5xaah8KfifDJ3NvpWm3CD8Uvyf0rptK/4OBf2EtSAMuifEa1B7z%2BEN2P%2B/czVtHifh6e2Jh97/wDkTWXAfFSV1QjL/DiMJL/0nGy/I%2B4aK%2BO7L/guz/wTuuADf%2BO/E1iO5u/BF/x/3xE1adn/AMFxP%2BCX90wik/aYNvJ/cufB2sIR%2BJtMfrW6z/I5bYmn/wCBJfnYlcBcaS%2BDL6sv8MVP/wBIqTPrGivmew/4LGf8E0dRx9n/AGsNEXP/AD3069i/9DgFbNj/AMFUf%2BCdmo4%2Bz/tfeC1z/wA99S8r/wBDArWOb5TLbEQ/8Dj/APJCfAXHK/5lWJ/8EVX%2BUJHv9FeL2X/BRr9ga/x5H7Zfw0XP/PfxnZxf%2BhyCtaz/AG5P2KdRx/Z/7YHwunz0EXxA01v5TVtHMMBLatD/AMDj/wDJHJU4R4to/wATLsQvXD1//lJ6lRXBWf7VP7MGoY/s/wDaQ8BT56eT4wsm/lLWpafHP4J6hj7B8YfC0%2Benk%2BILZv5PWqxOGltOL/7eX%2BZwVMlzmj/EwtWPrSqL86aOporJtPH3gS/x9h8a6TNnp5WpRN/Jq0ba%2BsrwbrS8ilHrHIG/lWilGWzOKpQr0vjg16pr80iWiiiqMgooooAK8Z8cf8pC/hf/ANkZ8ef%2BnbwhXs1eM%2BOP%2BUhfwv8A%2ByM%2BPP8A07eEKAPZqKKKACs3xj4M8H/ETwtf%2BB/iB4U03XdE1S2a31PR9YsY7q1vIWGGjlikBSRCOqsCDWlRQBx2m/s7fs/aN4RbwBpHwL8HWmgvoR0R9EtvDFpHaNphd3NiYVjCG3LSSN5ONmXY4yTVvwX8FPg18OPh/J8Jvh58JfDOg%2BFZY5kl8M6LoNva6e6zZ85TbxIsZD7m3Db82TnOa6aigCDS9L0zQ9MttF0XToLOzs4EgtLS1hWOKCJFCqiKoAVQAAABgAACvzx/4JB%2BHsfG79sLx1s/4/v2oL7T9/r9l8Q37Y/D7R%2BtforXxP8A8EovDDaN4A/aD16VPn1n9tHxxOrkdY4/EghA%2BgaN/wAzXBi6ftMVh3/LKT/8ka/U%2BsyDGLCZBnEb61aNKHyeKpzf/ptH2xRXzF4//wCCmv8AwgXjvW/Av/Dvn9p7Wv7F1e5sP7Y0D4T/AGmwv/JlaPz7aX7SPNhfbvR8DcrKcDNZH/D2H/rGp%2B1p/wCGb/8AuqspZ1lkZOLqar%2B7P/5WfnUuIcmhJxlV1Wnw1Omn/Po%2BtKxfiP8ADzwZ8XPh9rnwq%2BI2gxar4f8AEukXOl65pk7MqXVpcRNFNEShDAMjMMqQRnIIPNfPngH/AIKa/wDCe%2BO9F8C/8O%2Bf2ntF/trV7aw/tjX/AIT/AGawsPOlWPz7mX7SfKhTdvd8HaqscHFezftJ%2BMPid8PPgF4v%2BIPwZ8OWms%2BJ9B0C51LR9FvYXdNSkgQym1AR0IeVUaNG3YV3ViGAKnrw2Mw2Mi5UZXS30kv/AEqMf1O3B4/B5hFyw8uZLR6SXn9qMfwuY0H7Gv7PC%2BFfFPg7U/CGpavZ%2BNfDdvoPiqXxF4r1PU7rUrCD7T5Mclzd3Mk%2B9Ptc%2BJQ4lG5fn%2BRNud4H/YK/Za%2BHupLrnh/wFqU2pDxcPFEura14x1bUry41caRNowu5ri8upZZ2Gnzy2%2BJGZdpU43IjL4b4j/4KP/E34keFrnxj%2By42h6rYeI/Hc2kfCiWLwkuqN4g06w0hbrVb2RrnW9KtoY4rvz4A7XC7RZuAkrSDy%2BJ8G/t1fEb4ueI9E%2BPFl9ptdO8efDL9nfVY/Cja/e/YdKn8ReLtdtr%2BSD7NPFucxeSjMcpOtrCsySxL5R6TsPsPwx%2Byd8CPBNjolh4O8J3ulL4c8DWng7RJtO8R6hDNaaLavG8FqsqThztMUeZCxkYAhnYMwOj8b/2evhT%2B0Tomn6H8UtH1GYaRqJvtIv8ARPEV9pF9Y3BhlgZ4bywmhuIt0M00ThJAHSRlYFSRXyb8E/2qf2oPjd%2B1J8IPGGp%2BKvCP9ieO/hb4/wBb8OfD3Srq909rWSzv9GgtoNWlM1wl1LH5pRrhLaI20j3CLFJnJ9u/bf1bxJPpnwo%2BG8virVfDukeO/ivYaH4z1Lw3rtxp91DZnT7%2B6SCG9t2int/PvbWztfMjaORluCqlS4oA9Ck/Z3%2BFieAx8MNGsdY0XQIvDlhoVlpnhnxXqOlR6fY2ZJt0tPsdxEbN1B2mWApK6IiM7LGirxfiX/gnr%2Byr4r8KeE/B2o%2BEvElvbeCdeu9c8O3ekfEfXrC%2Bi1S6WVbi/mvLa9jubu5kE8waeeSSQ%2BdJ83ztngfhFqP7QvxT/wCCbfjfQ/hP8SbufxpZ6l478OeAfFmsaqWuLi30/XtU0/TLiS8lDlpTa20A%2B1uHLtidt%2B454r9n2z%2BKvxZ0743/AALPgvx9YWHhLxTox8E%2BHvHH7QmrWmqw38ulRT3en3fiDSbq%2BukjG5LoQrNdbVuk3KqssUQB9K%2BIP2S/gp4u8QeGPEfi608TatJ4Qt7CLR7LVfH%2Bs3Ni72Unm2txdWkl21vf3UcuJRdXUcs/mIjmQsisK3h79i79m3wv8WJvjTo/gG4XW5dSv9RjhuPEWoT6ba318rre3lvpss7WVtcTrJMJZ4oUkk8%2Bbcx82Td8Gz/Gr4ueL/2aNS1/xh%2B0l4y0zV/hd%2BzX4i8U%2BGr/AEvxZd2wvfE%2BnaxqNnM1w8Mw/t2CzewsrZftHmxXaXglkjL3C7frTQbbxHov/BS7S7ubxl4rSDxh8DtR1TWvCt94rvbjSbS9tb/RreN7exklNvbOqSzBnjRWcyuWLZ4APSvgV%2Byf8CP2bbq%2Bv/hD4SvLKfULC1sJJ9S8RX%2BpvBY2pkNtY27Xs8ptbSEzSmO1h2Qx%2BY21Bmuy8H/8gmb/ALCt9/6Vy1qVl%2BD/APkEzf8AYVvv/SuWgDUooooAKKKKACiiigAooooAKKKKACiiigAooooAKKKKACiiigAooooAKKKKACvGf2X/APkt/wC0d/2Wax/9QrwvXs1eM/sv/wDJb/2jv%2ByzWP8A6hXhegD2aiiigAooooAKKKKACiiigAooooAKKKKACiiigAooooAKKKKACiiigAooooAK8Z8cf8pC/hf/ANkZ8ef%2BnbwhXs1fOH7R%2Br/GvR/28PhPP8Dvh/4W8Rak3wj8drd2nivxhc6LBHB/anhIl0lt9PvWd920bDGowSd%2BQFIB9H0V4z/wnH/BQv8A6Nf%2BDP8A4fjVv/mXo/4Tj/goX/0a/wDBn/w/Grf/ADL0AezUV4z/AMJx/wAFC/8Ao1/4M/8Ah%2BNW/wDmXo/4Tj/goX/0a/8ABn/w/Grf/MvQB7NRXzjpP7R37dusfGfX/gdb/sofCRdU8O%2BF9I128uX%2BOuqeRJBqNzqVvCiEeGNxdW0ucsCoADx4LEsF6j/hOP8AgoX/ANGv/Bn/AMPxq3/zL0AezUV4z/wnH/BQv/o1/wCDP/h%2BNW/%2BZej/AITj/goX/wBGv/Bn/wAPxq3/AMy9AHs1FeM/8Jx/wUL/AOjX/gz/AOH41b/5l65fwD%2B0d%2B3b8RPFfjfwho/7KHwkhuPAfiiLQtVkufjrqgSeeTStP1MPFt8MElPJ1GFSWCnejjGAGYA%2BjqK8Z/4Tj/goX/0a/wDBn/w/Grf/ADL0f8Jx/wAFC/8Ao1/4M/8Ah%2BNW/wDmXoA9morxn/hOP%2BChf/Rr/wAGf/D8at/8y9H/AAnH/BQv/o1/4M/%2BH41b/wCZegD2aivnH4RftHft2/GXwpd%2BL/Dn7KHwktrez8Ua3oUkd78ddUVzPpeq3WmTuNvhhhsaa0kZDnJRlJCnKjqP%2BE4/4KF/9Gv/AAZ/8Pxq3/zL0AezVnah4R8Kavn%2B1fDGnXWev2iyjfP5g15V/wAJx/wUL/6Nf%2BDP/h%2BNW/8AmXo/4Tj/AIKF/wDRr/wZ/wDD8at/8y9JpSWqE4xkrNXO6v8A4C/AzVc/2n8F/Cdznr5/hy1fP5pWNe/sgfsl6ln%2B0f2Xfh1cZ6%2Bf4JsHz%2BcVc9/wnH/BQv8A6Nf%2BDP8A4fjVv/mXrl/gj%2B0d%2B3b8ePgx4Q%2BOPhX9lD4SWul%2BM/C%2Bn67pttqHx11RZ4YLu2juI0kCeGGUOFkAYKzDIOCRzWMsNhpfFTi/%2B3Y/5GEsHg5/FSi/WMX%2BcTs7z9gT9ha/z9q/Yy%2BFTE9WHw%2B04H8xDmsu7/4Jp/8ABP29z537G/w6XP8Azy8LW8f/AKCoqz/wnH/BQv8A6Nf%2BDP8A4fjVv/mXo/4Tj/goX/0a/wDBn/w/Grf/ADL1k8uy%2BW9GH/gEf/kTCWVZVLfD0/8AwCH/AMgYd1/wSo/4J03mfO/ZB8GjP/PLTzH/AOgsKzrn/gkB/wAE17vPm/sleHhn/nlcXSf%2BgzCut/4Tj/goX/0a/wDBn/w/Grf/ADL1y/xu/aO/bt%2BA/wAGPF/xx8VfsofCS60vwZ4X1DXdSttP%2BOuqNPNBaW0lxIkYfwwqlysZChmUZIyQOazeU5VLfDw/8Aj/APImMsiySW%2BFp/8AguH/AMiZdx/wRb/4JjXWfN/ZT00Z/wCeevakn/oNyKoz/wDBDv8A4Jb3HL/suRqfWPxjrK/yvK9K/wCE4/4KF/8ARr/wZ/8AD8at/wDMvR/wnH/BQv8A6Nf%2BDP8A4fjVv/mXrN5Jkr3w1P8A8Aj/AJGb4c4elvg6X/guH%2BR5Tcf8EJf%2BCX83Ef7PN1F/1z8aauf/AEK6NUp/%2BCCH/BMmX/V/BjVYv9zxhqH9ZjXsf/Ccf8FC/wDo1/4M/wDh%2BNW/%2BZej/hOP%2BChf/Rr/AMGf/D8at/8AMvUPIMjf/MLT/wDAEXDIclp/Bh4L0VvyaPEZv%2BDf/wD4Jqy/c%2BG/iCP/AHPFt3/VjVSb/g3v/wCCcMn%2Br8KeK4/9zxVL/UGvUfi7%2B0d%2B3b8GvClp4v8AEf7KHwkube88UaJoUcdl8ddUZxPqmq2umQOd3hhRsWa7jZznIRWIDHCnqP8AhOP%2BChf/AEa/8Gf/AA/Grf8AzL1D4cyB/wDMLD/wFHRHLcFD4Ytekqi/Koj59l/4N4P%2BCdcn3NO8aR/7nij/ABjNV5P%2BDdP/AIJ7Ocx3Pj6P02eJo%2BPzgNfRX/Ccf8FC/wDo1/4M/wDh%2BNW/%2BZej/hOP%2BChf/Rr/AMGf/D8at/8AMvUvhnh9/wDMLD/wH/gm8cPGHwzmvSrXX5V0fOa/8G7n7DMJzZePPilbenkeKrcY/O1NTRf8G%2B/7JVt/x4/Hf402%2BOnkeM7Zcf8AknX0N/wnH/BQv/o1/wCDP/h%2BNW/%2BZeuX8fftHft2/DvxX4I8Iax%2Byh8JJrjx54ol0LSpLb466oUgnj0rUNTLy7vDAITydOmUFQx3ugxgllP9WeH1tho/c/8A5Ibo829Sp/4Or/8AzQeWQf8ABBv9nuzObD9q79oC3x08nx9bLj/ySq9b/wDBEj4XWX/Hj%2B3D%2B0pBjp5XxLgX%2BVnXtv8AwnH/AAUL/wCjX/gz/wCH41b/AOZej/hOP%2BChf/Rr/wAGf/D8at/8y9UuHckW1BffL/5M555fhqnxOb/7i1//AJoPHIv%2BCN%2Bg2v8Ax4/8FDf2n4cdNvxSUfythTvgN%2ByJJ%2Byp/wAFCfBqN%2B0t8U/iGuu/BnxltHxL8V/2n/Z3kat4W/49vkTyvM835%2Bu7yo/7tew/8Jx/wUL/AOjX/gz/AOH41b/5l6oeB/A/7VnjH9qzw58bvjd8OPh74Z0bwz8PfEOhww%2BFfiHfa1dXd1qV9olwjMlxpFikUaJpcoLB3YtKgC4yR04fKMuwtVVKVO0l5y/Jza/AVHLMFQqqrBPmXedSX4SqyX3pnutFFFeid4UUUUAFFFFABXzl%2BxD4Z07wt%2Bzx4svLHzCL39obx/qd87DOD/wnmqb24HRUjH4LX0bXyV%2ByV4s/bO0/4e%2BKLP4Y/AP4YavoSfGn4i/2fqOvfF3UdNu5l/4TPWSxktotAuUiIbcABM%2BQAcgnaE0m0%2BxcalSMJQT0la/nZ3X3PU%2BoP%2BE58E/9Dhpf/gwj/wDiqX/hOfBP/Q4aV/4MI/8A4qvLf%2BE4/wCChf8A0a/8Gf8Aw/Grf/MvR/wnH/BQv/o1/wCDP/h%2BNW/%2BZemQepf8Jz4J/wChw0r/AMGEf/xVH/Cc%2BCf%2Bhw0r/wAGEf8A8VXlv/Ccf8FC/wDo1/4M/wDh%2BNW/%2BZej/hOP%2BChf/Rr/AMGf/D8at/8AMvQBqX3wM/Yo1T4caT8HdT%2BDvwtuPCOgXv2zQvCs/h7TX03TbndI3nQWxTyoZN0sp3ooOZHOfmOdDT/hx%2ByjpNra2WleA/h7bQ2VppNpZQ2%2Bl2KLbwaXPJcaZEgCgIlpPLLLbqMCCSR3jCsxJ8z%2BCP7R37dvx4%2BDHhD44%2BFf2UPhJa6X4z8L6frum22ofHXVFnhgu7aO4jSQJ4YZQ4WQBgrMMg4JHNdR/wAJx/wUL/6Nf%2BDP/h%2BNW/8AmXoA1bH4H/sVaX4p1vxzpnwg%2BF1vrfiWC6h8R6xB4f01LrVY7rH2lLmUJvnWXavmByQ%2BBuziug8b6V8APiZ4Iufhl8SNN8HeIPDd5CkV34e1yG0u7GeNGVkR4JQ0bKrKpAK4BUEdBXFf8Jx/wUL/AOjX/gz/AOH41b/5l6P%2BE4/4KF/9Gv8AwZ/8Pxq3/wAy9AHVDwT%2BzCPD1v4RHhHwGNJtPDc/h610v7BZfZ4dInEazacke3atrIIYg8AHlsIkBU7RjDuv2fP2GL74W2vwOvfgh8J5vBVlfm%2Bs/B8vhrTG0uC6O/M6Whj8lJP3j/OFDfO3PJrifjd%2B0d%2B3b8B/gx4v%2BOPir9lD4SXWl%2BDPC%2Boa7qVtp/x11Rp5oLS2kuJEjD%2BGFUuVjIUMyjJGSBzXUf8ACcf8FC/%2BjX/gz/4fjVv/AJl6AN3xB8Jv2QPFlj4Y0vxV8NPhtqdt4Jljl8GW%2BoaNp80egOgQI1kroRalRGmDFtI2LjoKr33wP/Yq1T4zxftHal8IPhbcfEOAqYfHk/h/TX1qMrEIV23pTzxiICMYfhQF6cVlf8Jx/wAFC/8Ao1/4M/8Ah%2BNW/wDmXo/4Tj/goX/0a/8ABn/w/Grf/MvQB6j/AMJz4J/6HDS//BhH/wDFUeDDv0MzqDsmvruWIkY3I9zIyt9CpBHsa8u/4Tj/AIKF/wDRr/wZ/wDD8at/8y9cv8Xf2jv27fg14UtPF/iP9lD4SXNveeKNE0KOOy%2BOuqM4n1TVbXTIHO7wwo2LNdxs5zkIrEBjhSAfR1FeM/8ACcf8FC/%2BjX/gz/4fjVv/AJl6P%2BE4/wCChf8A0a/8Gf8Aw/Grf/MvQB7NRXjP/Ccf8FC/%2BjX/AIM/%2BH41b/5l6P8AhOP%2BChf/AEa/8Gf/AA/Grf8AzL0AezUV84%2BPv2jv27fh34r8EeENY/ZQ%2BEk1x488US6FpUlt8ddUKQTx6VqGpl5d3hgEJ5OnTKCoY73QYwSy9R/wnH/BQv8A6Nf%2BDP8A4fjVv/mXoA9morxn/hOP%2BChf/Rr/AMGf/D8at/8AMvR/wnH/AAUL/wCjX/gz/wCH41b/AOZegD2aivGf%2BE4/4KF/9Gv/AAZ/8Pxq3/zL1y%2BrftHft26P8Z9A%2BB1x%2Byh8JG1TxF4X1fXbO5T466p5EcGnXOm28yOT4Y3B2bVICoCkEJJkqQoYA%2BjqK8Z/4Tj/AIKF/wDRr/wZ/wDD8at/8y9H/Ccf8FC/%2BjX/AIM/%2BH41b/5l6APZqK8Z/wCE4/4KF/8ARr/wZ/8AD8at/wDMvR/wnH/BQv8A6Nf%2BDP8A4fjVv/mXoA9mor5x0n9o79u3WPjPr/wOt/2UPhIuqeHfC%2Bka7eXL/HXVPIkg1G51K3hRCPDG4uraXOWBUAB48FiWC9R/wnH/AAUL/wCjX/gz/wCH41b/AOZegD2aivGf%2BE4/4KF/9Gv/AAZ/8Pxq3/zL0f8ACcf8FC/%2BjX/gz/4fjVv/AJl6APZqK8Z/4Tj/AIKF/wDRr/wZ/wDD8at/8y9cv4B/aO/bt%2BInivxv4Q0f9lD4SQ3HgPxRFoWqyXPx11QJPPJpWn6mHi2%2BGCSnk6jCpLBTvRxjADMAfR1FeM/8Jx/wUL/6Nf8Agz/4fjVv/mXo/wCE4/4KF/8ARr/wZ/8AD8at/wDMvQB7NXjP7L//ACW/9o7/ALLNY/8AqFeF6P8AhOP%2BChf/AEa/8Gf/AA/Grf8AzL1b/ZW%2BHPxp8H6x8UPHfx00DwvpOqePviFFrlnpXhPxLc6tb2trFoOj6YqvcXFlZs0jSadK5URbQsiDcxzgA9booooAKKKKACiiigAooooAKKKKACiiigAooooAKKKKACiiigAooooAKKKKACvlf9p79rT4ufDD4x%2BLNa8A%2BHfB8nhj4P8Ah/w/e%2BNTrWkXE2q6pb6vfypcwWFxHcRpZeRbWcdxmSKcXMhSMiHy/NP1RXjPxn/Yh%2BHHxu%2BKR%2BJmueOfFWlxaja6Ra%2BL/DWjXVqmneKYNLvZL2xivllt5Jgsc00ufs8sBljkMUxljCoAD2aiiigAooooA%2BY/Dn7SvxMh/b/8UfB/4jax4e8J%2BG18QWmieDItR%2BEWspdeMYBoEGo4g8RtdrpzSx3dzqAFoIXk8u0mAUFmkX6cryvxZ%2By1B4/%2BMmkfFPx78b/Gur6V4e12PWtA8AXB0yLRrHUI7d4I5w0Nkl7Ls8ySRUmupIxI%2B7Z8iBfVKACiiigDxf8A4KC/F344fs/fsj%2BNPj18Ar3wpHrHgnQrvXLqDxhotzfW13aWttLM9uiW11bMkrsiKJC5VAWJR%2BBXn/jz9rT4ueC/jx4t1Pwp4d8IRfDzwh8Y/CPw%2B8ZWc2kXB1vVdV12DRUj1CG7S4WGOOD%2B3NJjMUlvK8iQz4lj2oK9h/ax/Zxsv2tPgRr37PutfFXxT4R0nxPZS2OuX/hBdO%2B13NlLE8U1tuv7S6jRHV%2BWRFkBUbXXnPFwfsA%2BDp/iLZ/EXxV8cfH2usdZ0nXPE2jahLpUVj4n1zTEjSx1a9jtrCJluIhBaYW2aCBjY2xeJjHkgHvdFFFABXi/7ZPxd%2BOHwStfAPjH4WXvhT%2BxtQ%2BJnhzw94vsfEGi3NzdXNrqus2Omg2csN1CltJGtzLJvkSdSURdnJNe0V5V%2B1d%2By2/7VXhvQvC8/wAffG/ga30LxJYa6jeC4dHZ7u9sbyC8s2lOpafeDbFcW8bhYwgblZN6naADzj9nn9pX4ma3%2B1V4t%2BCPxQ1fw94T06HxTrdv4J8JSfCLWdMudetoXSU39vrVxd/YNQdjJNLLFbQF%2BS7FcMT9OV5LpP7KIf4yaL8ZfiP%2B0B478azeF7u8u/CeheIRpMNho91c28lrJcRLYafbSyv9nmnhXz5JVRZ32gEgj1qgAooooA8P/bu%2BLnx4/Z%2B%2BDWr/AB1%2BFHjHwLY6f4W0W5vL3RfFnhm9v7nxDe5RbPTLOS2vYPs81xKRbo3lXTNLPEFhY/K3n/wR/a%2B%2BM%2BufEvwV/a3gzwlpHw08b/E/xR8NvCvhrTtLmj1fRL/QIdW3zz3IuGt5oJG8P6miwx28RjVrY%2BZJlgPT/wBpX9kGD9pLx54I%2BIE37QPjvwhc%2BAbu5vdFsfDEWjT2cl7KgjW8mg1PTrxHnhj8xYZAFMYnlI%2BZsir4D/Ya%2BHvgP4y2/wAXYfiL4u1KDTtd1PXtE8Ialc2X9k6VreoxvHqGqQJFapP584nuyyvM8KNfXJjij8zgA9rooooAK%2BX/ANrn48ftL/Bb4iaf4U0qHwB410fxzDrVtovw5i8H30msJa2mh3V3Jf3E4vXiurYXUVvbSQi1iB%2B3woJjIyJJ9QV4dN%2BxNcR/tH%2BK/wBprRP2q/iXp2r%2BLdNh0650uGDw/PaafZwwNHDbWbXOky3NvEsrvdbFm2vO5dw4O2gBn7CH7Qfjf49/D28uviv4%2B0a%2B8XacLNtf8N2Xwu1fwjeaA89ssogubLV7qe4cFt/l3ACRyKh2htpNe6V5v8Dv2btO%2BDPifxJ8Q9Y%2BKXinxx4q8VxWNvrHifxc1gty9pZib7LapFp9ra20cUbXNy42whma4kLM2Rj0igAooooA%2BOf%2BCgn7cfxU/Yw8c/2nrmi6B4x8Ivo2o63b%2BFZfhzqdlLbppujX2pJJ/wAJFNdPpk939r00bLFYEuhHMsoG2FpG9e/Zo%2BLvxz1b4qeN/wBnr9o658Kah4n8I6ToetR614K0i5sLG5sdUF5GkRgubm5dZYrjTrtS/m4kQxNsjJKit8df2EvBH7TmtXVr8f8A4t%2BNfFHgu5kuJF%2BGV5JpsOixSTWM1kzb7eyjvpAI7iZgkt06B33bfkQL0/7Pn7M2kfAO817xFd/FDxZ448R%2BJDZx6t4q8a3Fm99LbWkRitbUfY7a3hWKIPKwxHvZ55XdnZyaAPSqKKKACviP9qf9sr9rP4N/GrxB8KPB3hvw5411Ow0W413wwE%2BB/iCOTRQNR0y1Qwt9uceJpBY6pced/ZflPC0JWURiYR19uV4fr37Fup%2BJfHp%2BJ2tftc/FGbW9PgvIvBt4U0ADwqt1NDJP9kjGk7J2aOBbfderdMsTOFKu7OQDqv2WPiw/xk%2BEcHiy9%2BJmjeKr%2BHUbqy1S%2B0bwZfeHRbXEUrK1rNpuoXE91ZzxjCvHM4fPzbVDAV6NXDfAP4C%2BHvgB4Z1PRtK8U634g1HX9euNb8SeJPEc0DXuq38wRGnlFvFDAmI4oYlSGKONUiQBRgk9zQAUUUUAFFFFABRRRQAUUUUAUfFHiGw8JeGtR8V6qHNrpljNd3IiXLeXGhdsDucKa%2Bc/2Jv2k/jX4/8AFOj%2BDPjZ4e8GWY8dfC2y%2BI3hmHwZpVxaDTI7y4Ju9PuzNcSi7mje5tn%2B2IIBO0sxMEe0F/pa7tLW/tZbG9t0mhmjaOaKVQyupGCpB4II4xXkP7M37FfgL9mDVX1fQPiD4t8Sy23hix8M%2BHR4svbWYaBoVm8j2%2Bm2pt7eEtGpk%2BaWczXEgji8yZ/LXAB7FRRRQAVwv7UHjz4i/Cz9mj4ifE74P%2BFF17xb4c8C6vqnhbQ2sZroajqNvZyy21sYYGWWYSSoieXGwdt2FIJBruqzvFuiX/iXwxqHh/S/Feo6Fc3tpJDb61pCwNdWLspAmiFxFLEXU8gSRumR8ysMggHl37FPxan%2BKHwzvrLVviF4f1nU/Duqrp15pmifDDU/Bz6GgtoJIrO40rVLme5hcI4kV28tHili2Jgb39irzz4D/s7aT8DrzxL4jufiJ4k8Y%2BJPF%2Bow3niLxT4rezF3dGG3S3giEdjbW1tFFHGgCrHCmSzsxZmZj6HQAUUUUAfLn7VH7WPxQ/Zw%2BL3jiy%2BJWjeEvEXwvsP2d/F/j220K30S4TVXbRBpaz21xcyXL280U6304CC2QqETLvlhXb/sz/F/4%2Bap8XPGX7Ov7Sz%2BErzxR4Y8MeHvEseq%2BCtJubGykstWfUrdbYw3NzcuZYbjSLsGUSBZEeJvLjO5ag%2BMf7Cvh346fHVvjL48%2BO3jmXTZvBWp%2BEb74ewwaL/Yl3o2pLbfb7SQvprXpE7WkDs4ug6lCEZEZkPSfs7/ALLuh/s%2B32teI5/ih4t8b%2BIdftbCyv8AxP42ubSS9NhYpItnZj7JbW8flRGe4cEoZHe5ld3dmzQB6fRRRQAV8ifGv9pf9rbwZrv7QHgS38K%2BDPFl74C8P%2BFPEnw2sdJ%2BH%2Bp386x6jqupQhLy1ivHl1GeBdNjnU2wtyXJCr8qtX13Xhcv7FHiGL46eNvj/oX7aHxW0rVvG%2BkWOmXNjZWfhhrTTbayuLmezS2EuivJ%2B6N5dKDM8pdZyJPMKoVAOr/ZU%2BLc3xl%2BFI8Taj8TtG8U6ja6rc2OrXWj%2BCL/AMNmzuIm%2Ba1n0zUbie6tJ0UruSZgxDK21VYV6TXCfAP4B6B8AdC1mx0/xbrniPVfE3iCXXPE/ibxJLbte6rfyQwwebILaGGCMLBb28KpFFGipCgC5yT3dABRRRQB8bftLftd/tLfs8fGaD4baynwz8a32twQTeEYdO8LXtpL4LvNS8Q6Z4e0ibU5XvphdRTtq84LRLZyOLG6WMMvmGL3H9lX4v8AxI%2BIw8f/AA%2B%2BMR0SfxV8NPHjeGtZ1Xw1p01nYan5ml6dq1vcQ28088lvm11S3R42mlxJHJhiCMcLbf8ABNXwk118Q38Q/tL/ABO1m3%2BJOvHXNYt9SOheZZ6lFcQz6fc211FpaXSmwe3txaRvNJFEsKBkfnPrHwD%2BAuh/APw9q2m2Xi/XPEmreItem1rxP4o8SvbG/wBXvpI4ofOmFrBBAuyCC3gRIoo0WOCNQvBJAO6ooooAZc/afs0n2PZ52w%2BV5udu7HGcc4zXxB8Vv2uf20/hp8RNc%2BG1vbeA/GeveGL3w1b6t468EfBXX9Wj8OW%2BrNePe2EulWepT3dzNHDZWN0TFOn7u6haWBAYmk%2B3ruGS4tZbeG6kgeSNlWeIKXjJGAy7gVyOoyCPUGvnv4MfsBeIPgJ8Nrj4afDv9ur4xRR3WrPqc2s3ll4Tn1CW7leWS5nmmfQj9pkneXdJJOJHzGmwoBggHrPwE%2BIdl8Vvg74f%2BIVh8QNG8VJqeniR9f8AD%2BkzWFpdyAlZClrPNNLbFXVkaGSR3jZWVjuUgdfXJfAv4L%2BEv2ffhfp3wp8FXN/cWVhLdXE19qtyJrq%2Bu7q5lurq6mcKoaWa4nmlfaqrukO1VXCjraACqPieHxJc%2BG9Qt/Bup2Nlq8llKul3mp2D3VtBcFCI5JYY5YmmjVsFkWSMsAQHUncL1ZvjHQb/AMUeFr/w7pfi3UtBuby1eKDWtHEBurFyOJohcRSxF1PIEkbocfMrDIoA%2BHvhv%2B3Z%2B1r8YPinrfwS%2BFmm/D5PGem2uu30njPxX8Lta0NdU0zSLXRZUsZdEvL5NQ0%2BV7vxDsSaeZ4/KhkuEhdZ0B%2BxvgF8WtN%2BPnwJ8FfHXRtNls7Pxr4S03XrSzmfc8EV5ax3CxsQBkqJACfUV4tq/wDwTI8D61rl98Rbv9pT4pp8QNWS8tda%2BJNte6RDq1/pl1bWttNphRNNFnDbFLK0YeRbRSrJAsqyhyzH6D8F%2BD/DXw88HaT4A8GaTFp%2Bj6HpkGn6TYQ52W1tDGscUa55wqKqj6UAadFFFAHL/GnUfHGjfC3Wtb%2BHPiGx0vVrCzN1Dfah4PvfECJHGQ8oGnWM8FzeSNErqkUMgcuy4Vz8jfFvwl/4KI/H7xJ400PU/G9x4R8CeDNSnnXxB44vPgZ4imttYv4dfutIRLmVb6NPDM8lraWv7jVGklgeVY3zsCV9t/EzwZrvj3wlN4c8N/FLX/Bt5JLG8Wv%2BGYrF7uDawJVVv7a5gYMAVIeJuCcYOCPFbr/gnN4U1DwfcfDbVv2kPibd%2BGNc1Ca/8eaBNcaOIvGF3PeNdXE19Kumi4i80ssLR2ctrEIYkjVFG7cAfRNFFFABRRRQAUUUUAFFFFABRRRQAUUUUAFFFFABRRRQAUUUUAFFFFABRRRQAUUUUAFFFFABRRRQAUUUUAFFFFABRRRQAUUUUAFFFFABRRRQAUUUUAFFFFABRRRQAUUUUAFFFFABRRRQAUUUUAFFFFABRRRQAUUUUAFFFFABRRRQAUUUUAFFFFABRRRQAUUUUAFFFFABRRRQAUUUUAFFFFABRRRQAUUUUAFFFFABRRRQAUUUUAFFFFABRRRQAUUUUAFFFFABRRRQAUUUUAFFFFABRRRQAUUUUAFFFFABRRRQAUUUUAFFFFABRRRQAUUUUAFFFFAH/9k%3D\">"
            ]
          },
          "metadata": {
            "tags": []
          }
        }
      ]
    },
    {
      "cell_type": "markdown",
      "metadata": {
        "id": "IJvNSuKtWbCz",
        "colab_type": "text"
      },
      "source": [
        "# Submit a linear model"
      ]
    },
    {
      "cell_type": "code",
      "metadata": {
        "id": "j5b_Qy72WbC0",
        "colab_type": "code",
        "colab": {}
      },
      "source": [
        "## GRADED PART, DO NOT CHANGE!\n",
        "# Testing shapes \n",
        "grader.set_answer(\"9XaAS\", grading_utils.get_tensors_shapes_string([W, b, input_X, input_y, logits, probas, classes]))\n",
        "# Validation loss\n",
        "grader.set_answer(\"vmogZ\", s.run(loss, {input_X: X_val_flat, input_y: y_val_oh}))\n",
        "# Validation accuracy\n",
        "grader.set_answer(\"RMv95\", accuracy_score(y_val, s.run(classes, {input_X: X_val_flat})))"
      ],
      "execution_count": 0,
      "outputs": []
    },
    {
      "cell_type": "code",
      "metadata": {
        "id": "UrDUf9OIWbC1",
        "colab_type": "code",
        "colab": {
          "base_uri": "https://localhost:8080/",
          "height": 33
        },
        "outputId": "52f41101-7337-4eed-c17c-a2000d518512"
      },
      "source": [
        "# you can make submission with answers so far to check yourself at this stage\n",
        "grader.submit(COURSERA_EMAIL, COURSERA_TOKEN)"
      ],
      "execution_count": 18,
      "outputs": [
        {
          "output_type": "stream",
          "text": [
            "Submitted to Coursera platform. See results on assignment page!\n"
          ],
          "name": "stdout"
        }
      ]
    },
    {
      "cell_type": "markdown",
      "metadata": {
        "id": "a4Ynuw13WbC5",
        "colab_type": "text"
      },
      "source": [
        "# MLP with hidden layers"
      ]
    },
    {
      "cell_type": "markdown",
      "metadata": {
        "id": "i2v3bCwwWbC5",
        "colab_type": "text"
      },
      "source": [
        "Previously we've coded a dense layer with matrix multiplication by hand. \n",
        "But this is not convenient, you have to create a lot of variables and your code becomes a mess. \n",
        "In TensorFlow there's an easier way to make a dense layer:\n",
        "```python\n",
        "hidden1 = tf.layers.dense(inputs, 256, activation=tf.nn.sigmoid)\n",
        "```\n",
        "\n",
        "That will create all the necessary variables automatically.\n",
        "Here you can also choose an activation function (remember that we need it for a hidden layer!).\n",
        "\n",
        "Now define the MLP with 2 hidden layers and restart training with the cell above.\n",
        "\n",
        "You're aiming for ~0.97 validation accuracy here."
      ]
    },
    {
      "cell_type": "code",
      "metadata": {
        "id": "ci7OZ54yWbC6",
        "colab_type": "code",
        "colab": {
          "base_uri": "https://localhost:8080/",
          "height": 309
        },
        "outputId": "28b37bd8-2dd8-4a60-b25b-74ddea89846f"
      },
      "source": [
        "hidden1 = tf.layers.dense(input_X, 256, activation=tf.nn.sigmoid)\n",
        "hidden2 = tf.layers.dense(hidden1, 256, activation=tf.nn.sigmoid)\n",
        "logits = tf.layers.dense(hidden2, 10)\n",
        "\n",
        "probas = tf.nn.softmax(logits)\n",
        "classes = tf.argmax(probas,1)\n",
        "\n",
        "loss = tf.reduce_mean(tf.nn.softmax_cross_entropy_with_logits(logits=logits,labels=input_y))\n",
        "\n",
        "step = tf.train.AdamOptimizer().minimize(loss)\n",
        "\n",
        "s.run(tf.global_variables_initializer())\n",
        "\n",
        "BATCH_SIZE = 512\n",
        "EPOCHS = 40\n",
        "\n",
        "# for logging the progress right here in Jupyter (for those who don't have TensorBoard)\n",
        "simpleTrainingCurves = matplotlib_utils.SimpleTrainingCurves(\"cross-entropy\", \"accuracy\")\n",
        "\n",
        "for epoch in range(EPOCHS):  # we finish an epoch when we've looked at all training samples\n",
        "    \n",
        "    batch_losses = []\n",
        "    for batch_start in range(0, X_train_flat.shape[0], BATCH_SIZE):  # data is already shuffled\n",
        "        _, batch_loss = s.run([step, loss], {input_X: X_train_flat[batch_start:batch_start+BATCH_SIZE], \n",
        "                                             input_y: y_train_oh[batch_start:batch_start+BATCH_SIZE]})\n",
        "        # collect batch losses, this is almost free as we need a forward pass for backprop anyway\n",
        "        batch_losses.append(batch_loss)\n",
        "\n",
        "    train_loss = np.mean(batch_losses)\n",
        "    val_loss = s.run(loss, {input_X: X_val_flat, input_y: y_val_oh})  # this part is usually small\n",
        "    train_accuracy = accuracy_score(y_train, s.run(classes, {input_X: X_train_flat}))  # this is slow and usually skipped\n",
        "    valid_accuracy = accuracy_score(y_val, s.run(classes, {input_X: X_val_flat}))  \n",
        "    simpleTrainingCurves.add(train_loss, val_loss, train_accuracy, valid_accuracy)"
      ],
      "execution_count": 19,
      "outputs": [
        {
          "output_type": "display_data",
          "data": {
            "text/html": [
              "<img src=\"data:image/jpeg;base64,/9j/4AAQSkZJRgABAQEASABIAAD/2wBDAAIBAQEBAQIBAQECAgICAgQDAgICAgUEBAMEBgUGBgYFBgYGBwkIBgcJBwYGCAsICQoKCgoKBggLDAsKDAkKCgr/2wBDAQICAgICAgUDAwUKBwYHCgoKCgoKCgoKCgoKCgoKCgoKCgoKCgoKCgoKCgoKCgoKCgoKCgoKCgoKCgoKCgoKCgr/wAARCAEgA2ADASIAAhEBAxEB/8QAHwAAAQUBAQEBAQEAAAAAAAAAAAECAwQFBgcICQoL/8QAtRAAAgEDAwIEAwUFBAQAAAF9AQIDAAQRBRIhMUEGE1FhByJxFDKBkaEII0KxwRVS0fAkM2JyggkKFhcYGRolJicoKSo0NTY3ODk6Q0RFRkdISUpTVFVWV1hZWmNkZWZnaGlqc3R1dnd4eXqDhIWGh4iJipKTlJWWl5iZmqKjpKWmp6ipqrKztLW2t7i5usLDxMXGx8jJytLT1NXW19jZ2uHi4%2BTl5ufo6erx8vP09fb3%2BPn6/8QAHwEAAwEBAQEBAQEBAQAAAAAAAAECAwQFBgcICQoL/8QAtREAAgECBAQDBAcFBAQAAQJ3AAECAxEEBSExBhJBUQdhcRMiMoEIFEKRobHBCSMzUvAVYnLRChYkNOEl8RcYGRomJygpKjU2Nzg5OkNERUZHSElKU1RVVldYWVpjZGVmZ2hpanN0dXZ3eHl6goOEhYaHiImKkpOUlZaXmJmaoqOkpaanqKmqsrO0tba3uLm6wsPExcbHyMnK0tPU1dbX2Nna4uPk5ebn6Onq8vP09fb3%2BPn6/9oADAMBAAIRAxEAPwD9/KKKKACiiigAooooAKKKKACiiigAooooAKKKKACiiigAooooAKKKKACiiigAooooAKKKKACiiigAooooAKKKKACiiigAooooAKKKKACiiigAooooAKKKKACiiigAooooAKKKKACiiigAooooAKKKKACiiigAooooAKKKKACiiigAooooAKKKKACiiigAooooAKKKKACiiigAooooAKKKKACiiigAooooAKKKKACiiigAooooAKKKKACiiigAooooAKKKKACiiigAooooAKKKKACiiigAooooAKKKKACiiigAooooAKKKKACiiigAooooAKKKKACiiigAooooAKKKKACiiigAooooAKKKKACvPfjt%2B1J8FP2b5NGsfil4g1Maj4ilnTQNB8OeF9R1zVNR8lVed4bHTbee5kjiVkMkixlI96biu5c%2BhV4N%2B0P8D/j5/wANJ%2BDv2tv2bLLwfrWueH/B2seFNX8KeOdcutLtLywv7mwuxcQXtraXj288U2noCpt3WVJSCUKK1ABpf/BTL9izWLvxPb2nxXv0h8FWsk/jLUrvwXrEFjoIS0iu9l5dy2iwWsrQzRskMjrJIWKorMrKL2n/APBQ/wDZK1HwBrXxFTx/q9vB4f1ay0vVdE1DwNrNrrkV5ebfscC6PNaLqEr3AYGER27eaAxTcFYjy2b9gH4y%2BMf2a/jn8NfGHinwppHin4o/FS38daHc6U1xeWFpeW0OiywQ3IkihkkiN3pRRwoyYHGDuJVaPi79i/8AaV%2BLmr/Ef45fG34S/CjWvFnjWx8KaPp/gKy%2BI2s2Wm6fY6Hcaldw3qa7b6al5DqDXOqTOksVoPJSKNFZiWcgHsviH9vv9mzwv4a8OeI9XvvG3meK0v5NE8P2vwm8SXGuSRWUscV3NJpMWntf28MLzQq8s0CIpmiy37xM%2Bmaz8RPBHhv4e3XxX8T%2BJbbSvDljo76rf6vqrfZYbSySIzPPMZdvlKsYLNvxtAOcYNfGHin9hH9s/WPgX4X8Nay3hfxV470a58RHRfGV/wDHbxNpGr%2BCLW%2BuUktLO11q1sJLzXIYkjhEy3qw/aTbReYCFGPUfjR/wTotfj1%2Bzb4n%2BHHxD%2BOfjW78d%2BMPhfH4Z17xS3jbWho818tpDE2oJoS3y2FuzzQLK3kRRSEPIBIrSM5AOkg/4KUfsZf8K58V/FbWPite6Jo3giysr7xQ/ifwdq%2Bk3NlZXkxhtb37LeWsVxJaSyK6pcxxtC3luQ%2BEYjj/AI3f8FZP2d/hn8ENU%2BMfgPRfFXiqbQfiD4X8L674Y/4QXXbHU7A6zqVrax3T2cmnNdeV5Fw88DeT5d48aW8MhknjB8r1T/gmJ8ZPHfwq8faR4i8DeG9G8Y%2BI9D0fR7DxDqv7RfjPxut3aWusW%2BoTRyf27AfsEZ8likUSzHe%2BGkxknv8A9qH9gz40/GD4g/F/4g%2BBfEPheOTxfB8LbzwlZ6tfXMSvf%2BE/EdzrUsN40dvJ5ENwGt4VljEzrl2MfyKrgHqFh/wUE/Zb1H4m2XwZh8T%2BJo/Fd5oun6xLoF38N9egudO0%2B9adILu/SSyU6dDut5VeS68pYiFEhQum6j4a/wCCmH7FPi3wZ4s%2BIWkfGC4TR/Bfgi68Zaxe6h4S1W0Fx4et0Z5tWsVntUbVLNVQ4nsxPGxZArEugbB0P9kP4ofEP4mfG74g/G9fD2gxfGj4O%2BHfCF1Y%2BE9duNRl0u4tE11Ltlnns7XzYwNViMT7FZikm6OPA3fN37Y37Kn7UOj/ALDHxS%2BJv7TF34AtIfhD%2BxT8QfBHhePwFqF5cNrzXukWxn1G6W5toBYqE0i3CWcbXAVppCZ22oKAPrPw9/wUl/Yy8TaHrHiPT/i1dQWehppU1/JqnhLVbJmtNSu1s7HUIUuLVGubCWdgovoQ9qoDO0qorMPT9E%2BLvw88R/FLX/gvofiH7T4k8LaXp%2Boa/YR2k22zgvmuBa7pinlF3%2ByzHy1cyKoRmVVkjLfJOofsz%2BIPFegeKfjb/wAFIvF/wz8J%2BBbf9nu5%2BHUlx4f8QTLay6beyQyXmq3k17BbpYOTBbCG2QzCAmT/AEiQsuOw/wCCPngP4u2f7I9r8f8A9pDUDf8AxJ%2BL15H4n8V6g9nJbtJCLSCy01fKl%2BeH/iX2lpI0TYKSzTZAYtkA%2BqqKKKACiiigAooooAKKKKACiiigAooooAKKKKACiiigAooooAKKKKACiiigAooooAKKKKACiiigAooooAKKKKACiiigAooooAK8R0j/AIKMfse6ld69Z6n8Urzw83hzw5c%2BINQk8a%2BEdV0GObSbd0jnv7WTUrWBb63R5IlaW2MqAyxjOXXPtN7FczWcsNndCCZ4mWKYx7/LYjhtp64POO9fmJq//BHL9uX4v6t4X1z43fHHQ31vw14P1Cz1DxRqHxW8TeJx4h1v7ZpV9a6idLvoobLSbaS50xfPsLIBRHJtWWQKgUA%2B2X/b/wD2YbX4aN8WNY8QeKtK0ttcg0axs9c%2BGWv2GqanfzIZIYLLTbixS9v2kQM6/Z4ZAyo7AkIxHReA/wBqz4H/ABH1%2By8J%2BHPEOqQ6vf8AhSfxJDpGteFdS0y7TTYbv7JLLLDeW8UkDrP8hhkVZe%2BzbzXk3xO%2BDn7bvxib4e/G3XPBvwq0P4h/Cjx1NrHh/wAM2vjjUr/Rdcs7jSbvTLmO4vn0qGaxmKXskkbpa3AjMQU%2BYJGxV%2BJPwG/bg1/4y%2BHf2mvA%2BjfCu08WX3ww1XwX4x0LUvFepSWGkLcX8N1a39lcJpwk1AxCN1kt5YrQSlxiWLHIB3Gk/wDBRv8AZA8R694F8LeFfiNqus6n8SfBuleLfBunaJ4H1m9nvND1F9lrqMiQWjNa2%2B7HmSTiNbcMpm8oMCdj4a/tufs3fFf4jXPwn8M%2BL9Ws9ft9LudThsvE/gzVtEW/sbeRI57uyl1G1gjv4I3liDy2zSIvmISQGUnyj9hT9hL4sfsw6/8ADjWfHniDw1dnwd%2Byl4R%2BGN%2B%2BkXM8rNq2lvM1zNF5kEe61bemxmKu235o0wK8a%2BGn/BKv9sbxP8UfC/ib9qb4w2eqRaf4A8V%2BF/GniaD4v%2BJNavPEUur2KW39p2umX0Men6EcqWNpaKUXKgTOI1WgD6l8J/8ABRf9kfxrosfirQfHeuf2Hcarpen6f4lvfh/rdrpWoy6lex2VlJaX09mlteQS3M0UYuIJHhBlQs4VgT6X4W%2BLvw88a/EDxT8LvC/iH7XrnguSzj8T2iWkwWxkuoPtEEZlZBG7tCVkKIzMiyRlgokTd8w%2BOPAnxF8K/wDBPbxp8CP%2BChnif4VeCPAWg/DSLQLb4meHfFt2GadI0trXUntLqzgTTZlmFvJDBHcXTGcoiOTtDdr/AMEr/h98WPDf7ImlfFX9oqwS3%2BJ3xYvpfHXxEhW3aL7Pf36xmG02N8yfZbGOys9pyQLXBoA%2BjaKKKACiiigAooooAKKKKACiiigAooooAKKKKACiiigAooooAKKKKACiiigAooooAKKKKACiiigAooooAKKKKACiiigAooooA5r4xSfE2H4ZaxP8HNa0HTvEsVrv0y98TaVNfWMRVgXMsEE9vJKPLD4VZY/mK5bGa4r4CfFH4wftDfsR/D/41%2BH7nw1o/jXxx8ONE1xpbzSri40uzvLyyguJT9mW4SaSJTI%2B2Pz1YgKDJ1au9%2BJng7VPiD4D1PwXo3xB1nwrcajb%2BSniDw/DZyXlmCQWaJb23uLckgFT5kLjDHABwR5L4S/Yan8Gfslp%2Bx5pP7W/xXXQbXwQnhXStfhn0S21jTbGNEiieC4ttLjVZkgQQrKUJ2kucy4lABrfsafG74i/G3wp4vk%2BIt14f1SXwr4%2BvvDun%2BLfCemz2emeI4raKAy3VvBPPcPEIrmS5snXz5QZrCUq2CFHL/FD9pvxp46/a20L9kv9k/8AaB%2BFNvrNv4P8Q6148g1rRpPEV5pUtld6Lb21vJbWeq2T2ZkGpXDEzbi3kKFAwxr079nL4Gx/s5fC2x%2BEen/EfWvEmmaSqQaK2tabpNodOs0ijiis4Y9KsrOBYUCZXMZfLtlyAqrwvxF1pLP/AIKVfCHRZFGL34J/ENkbPO6PVvBpx%2BTMfwpNpblwhKo7R7N/dqy//wAIP/wUL/6Og%2BDP/hh9W/8Amoo/4Qf/AIKF/wDR0HwZ/wDDD6t/81FezUUyDxn/AIQf/goX/wBHQfBn/wAMPq3/AM1FH/CD/wDBQv8A6Og%2BDP8A4YfVv/mor2aigDxn/hB/%2BChf/R0HwZ/8MPq3/wA1FH/CD/8ABQv/AKOg%2BDP/AIYfVv8A5qK9mooA8Z/4Qf8A4KF/9HQfBn/ww%2Brf/NRR/wAIP/wUL/6Og%2BDP/hh9W/8Amor2aigDxn/hB/8AgoX/ANHQfBn/AMMPq3/zUUf8IP8A8FC/%2BjoPgz/4YfVv/mor2aigDxn/AIQf/goX/wBHQfBn/wAMPq3/AM1FH/CD/wDBQv8A6Og%2BDP8A4YfVv/mor2aigDxn/hB/%2BChf/R0HwZ/8MPq3/wA1FH/CD/8ABQv/AKOg%2BDP/AIYfVv8A5qK9mrz74geP/gZ8NBqfjD4%2B%2BOPCnh/TzrUWn2WpeMNUtrSDzDaRyrBHJcsq7yBK%2B0HJCsccHEznCnFym0kurdl97sjbD4fEYuvGjQhKc5OyjFOUm%2ByjFSk3o9Em9Njmv%2BEH/wCChf8A0dB8Gf8Aww%2Brf/NRR/wg/wDwUL/6Og%2BDP/hh9W/%2Baiq//DX/APwTg/6Oi%2BCP/hbaP/8AHaP%2BGv8A/gnB/wBHRfBH/wALbR//AI7XN9fwH/P6H/gcP/kj2v8AVLiz/oXYj/wnr/8Aygsf8IP/AMFC/wDo6D4M/wDhh9W/%2Baij/hB/%2BChf/R0HwZ/8MPq3/wA1Fdh8NPEn7OXxo0KXxT8Hdf8ABPizTLe7a1n1Hw1dWd/BHOqq7RNJAWUOFdGKk5AdTjBFeT/EH9tn9k74Q/Gv4ifCL4seB9Q0O0%2BGngbTvFPiHxbJ8P7%2B40qKyuRfMxa5gtHij8tLInLP%2B8Z2jj3PDKq9MJwqRUoNNPqndfero8XEYfEYSvKjXhKE4uzjJOMk%2BzjJRknqtGk9djqP%2BEH/AOChf/R0HwZ/8MPq3/zUUf8ACD/8FC/%2BjoPgz/4YfVv/AJqKib9pv9lC2m8Nx6x4T17SofFdxDb6Rf658H9bsLRZpr17K3jubm4sEhsnmuFCRLcPE0vmwsgZZomfmdd/bp/Yp8BWhPxJmsbe7a98VrDa%2BG/A%2BrawRZ%2BH9VOm6jdSi303fCkErRCZmXykLsUlmiUTtRidX/wg/wDwUL/6Og%2BDP/hh9W/%2Baij/AIQf/goX/wBHQfBn/wAMPq3/AM1Fd9oEfwY8V3E9p4Xj8MajNbQwTXMNitvK8Mc6eZC7quSokT5lJxuXkZFeH/s/ftVaJ8aPilo3hfXP2btE0Pwx4503XdQ%2BGfiSHVUu59Wt9KvYbWY3dqbSMWLTJPHcwKktxuhD%2BYYXURkA7L/hB/8AgoX/ANHQfBn/AMMPq3/zUUf8IP8A8FC/%2BjoPgz/4YfVv/morjfFn7VWieGvjxqPge3/Zu0O58CeHviJovgPxP41bVUjvLTX9VtLO4tEi0/7IVntc6lpsLzm5RlkuiBE4idq2/hD8V/FvxJ1/4weAtY/ZZ8JaX4k%2BGupx2uhafbeJ1uYNdE%2BnpeWjTTmwj%2BxM/mIjqEnEeSQ0mMUAa/8Awg//AAUL/wCjoPgz/wCGH1b/AOaij/hB/wDgoX/0dB8Gf/DD6t/81FeUa3%2B3V4f8LfsgeEf2lvGn7PngPw9f%2BJfHd74V1OHxF40Sz8N%2BHri2u9Rtnur7Wn07MNq76eY45GtAWnu7aIqvmbhnQf8ABRT4e%2BING%2BGlp4Z%2BDXwz0nxD8QPDS65JZfEX4h2%2Bg6fFbSXbWtqtld/YJ31KS8eOaS1VIIxLBEZHMRZEYA9o/wCEH/4KF/8AR0HwZ/8ADD6t/wDNRR/wg/8AwUL/AOjoPgz/AOGH1b/5qK474d/tR%2BGviJ%2B2v8Qv2TrT4afCezg%2BHusw2F4Lr4gL/wAJPfxyaDpurC8g0NdNO62D6klsZDddYJGxkCM%2BfeDf%2BClngDVPhynj7xl%2BzN4dsZvE3wusvHnwx0LRvEsGoXmt6feXttYWtvehrSFdNumur6xiZVa4iUzyYlcwuKAPcv8AhB/%2BChf/AEdB8Gf/AAw%2Brf8AzUUf8IP/AMFC/wDo6D4M/wDhh9W/%2BaivOvEP7Zei/D/4N/EHW/iL%2BzJoMPxJ8B%2BKB4bj8AaDrSXttrepzaZBqlqLW/ksoXNubO4E00zWytbpbXbGN1gy%2Bfp37cfhvxB8dvhv8FNK%2BD3wm0mXx78NvDvi/PjX4kppd9Iupz3Eb2WmWg0yY6nPCtszEeZBvMiA7AdwAPVf%2BEH/AOChf/R0HwZ/8MPq3/zUUf8ACD/8FC/%2BjoPgz/4YfVv/AJqK4/4D/tQ%2BG/jh%2B1J8QP2e7X4bfCaxg8Ba9daZdQJ8Qkn8TTLFDbyLdtow05RFbO1wEEhujyvQ5wK/wX/alk/aY1r4n6J8Bv2Y/Clz/wAIdPpT%2BC9R8T%2BIzYWfiuwuzKDf74NPuXtIT9nneAqk4uIjDJmJZflAO4/4Qf8A4KF/9HQfBn/ww%2Brf/NRR/wAIP/wUL/6Og%2BDP/hh9W/8AmorzXwJ%2B0v8AGf4j/s0XP7RPhv8AYy%2BFyRabrPiSHUk1H4ovb2D6dpN1Nbfbra7bRN0q3D28zxiSGFBEqSNKA4FXPHX7bfws0O8%2BC2n%2BCv2eE1ef4syaFdarb3yQ2UnhTS9VKx2txdL5Um6d52MaW3yeYLa7YSD7OQwB33/CD/8ABQv/AKOg%2BDP/AIYfVv8A5qKP%2BEH/AOChf/R0HwZ/8MPq3/zUV5hpX7efwi1rxF8UdS0n4b/Du78LfCzT/Ec%2BrW1l4zt5vF10dEkmgvJE0FbT5LZrm2uIY5nulaQojCMLIpq54O/avufEWieOtE8Q/Ar4RaF4y8D%2BEtC8W3tpqHxPX/hH49B1Q3fk3Vzqw0rdbOi6fes6fZnQBIWEpSYOoB6H/wAIP/wUL/6Og%2BDP/hh9W/8Amoqh4H8cftWeDv2rPDnwR%2BN3xH%2BHvibRvE3w98Q65DN4V%2BHl9ot1aXWm32iW6Kz3Gr3ySxumqSkqERg0SENjIMv7OHxe8IftM/sup8f9E%2BHWkaLLcf2tFaTaNdpeWk7WV1cWy31herFEbqznMAnt7gRx%2BbDLG%2B1d2KteOP8AlIX8L/8AsjPjz/07eEKAPZqKKKACvNv2sv2ldK/ZG%2BCOrfHrxH8L/FfivSdBhkudatPB8Nm9zZ2ccUk0124vLm3QxRpGchXLklQqMTivSa8Z/wCCgnwn%2BNXx8/Y/8efAb4CaN4Wu9e8b%2BG73QvO8X%2BI7nTLSyhuraWJrnzLeyu3kdCykReWoYE/vFwMgHYfHr46eH/gD4OtPE%2Br%2BGtY1691XW7TR/D/hzw9HA19q1/cvtit4ftEsMKnAeRnlljjSOJ3Z1Ck15P4j/wCCmvwg0PwPp3jPTfhT4/1maTSde1TxPoOkaZZPf%2BFLLRLz7Dq01%2Bkl2iE211uh8q1e4lnMbm3SdVLVsfGz4Y/tL/GbwV4S8UDwd4F0fxt4D8Y6Z4n0TSR40vLrTL%2BdIbi2vLOa7/syOWBDb3U6xzrbyHeUdogFKHxq9/YD/at8M%2BGtQ1/4c658P5/F3xA8NeNdI%2BIEer6tex2Gjya/rEmpxXVg6Wjveix8%2BaDyZUtvtQ2OZbYgqQD7U03UtP1nTrfV9JvYrm1u4EmtriFwySxsAyupHBBBBB96%2BePhN4q/bv8Ajro%2BveO/C/xv%2BEmgaXb/ABC8VaHpelX/AMH9Uv7iK10vXr/TIWluE8RQLLI8dmrsyxRrucgKABXs1v8ACPwxF8H7P4Jvf6xHpFnodvpSXGma5dafeiGGNY1ZLq0kimhfCD543U9eea8e/Yc8O6f4V/ZSvfB%2BmXN/LZ2nxp8cWKSalqtxe3MsP/CeatGRLcXDvNO7JkNJI7O5JLMSSaAOj/4Qf/goX/0dB8Gf/DD6t/8ANRR/wg//AAUL/wCjoPgz/wCGH1b/AOain6/%2B1B/wT98Ka7e%2BFvFP7RHwc03U9Nu5LXUdO1DxdpUM9rPGxSSKSN5QyOrAqysAQQQRkVU/4a//AOCcH/R0XwR/8LbR/wD47XK8dgU7OrD/AMDj/wDJHvQ4V4pqQU4ZfiGmk01QrtNPVNNUGmmmmmm00002mmWP%2BEH/AOChf/R0HwZ/8MPq3/zUUf8ACD/8FC/%2BjoPgz/4YfVv/AJqKfoH7UH/BP3xXrtl4W8LftEfBzUtT1K7jtdO07T/FulTT3U8jBI4o40lLO7MQqqoJJIAGTV79qv4l/Cr9lD9m/wAa/tJeKfhcuraf4K8PXGq3Wm6RogmuLlYlzsRY42IycZcjai5dyqqzDWlXoV03TmpW7NP8mzz8dleZ5XOMMbh6lJyV0qkJ021tdKcINq%2Bl0mr6XvoZ3/CD/wDBQv8A6Og%2BDP8A4YfVv/moo/4Qf/goX/0dB8Gf/DD6t/8ANRVDSf2s/wBj/XPG8vw10vw1r8viG28OLr2oaL/wprXVutPsHju3iluo208NatL9huVijmCSTPGI41d3RWdpn7Tn7MHiaTw7/wAIrplgh1nx1N4VvbDxL4S1HR9Rsb6PRrrVzC1lc2AmSU2tusyrcLbxvDJ5iysxijm1OEu/8IP/AMFC/wDo6D4M/wDhh9W/%2Baij/hB/%2BChf/R0HwZ/8MPq3/wA1FUPgp%2B1/%2Bwv%2B0Fo03iP4beJtL/s6Lw/p%2Bupf%2BIvCN3osFzpd8zLa3sEmo20C3NvI6lBLEXUPhCQxAq7%2B0b8RG%2BFev%2BD/AIafCD4AeGvF3jPxte3iaVpetaqukWMFrZ2rXFzcz3SWd06AfuYlVYXLSXEediB3UAd/wg//AAUL/wCjoPgz/wCGH1b/AOaij/hB/wDgoX/0dB8Gf/DD6t/81Fc9r/7Unwtg/Yt8Nftf%2BE/gpZXg8Xjw7b6N4d1QwWfkX%2BsX9pp8EF3ciORbeOK5vEWaVVk2rHIUWQ7VbirX9txfEV9ZfCzwT%2BzN4CvPiUni7xBoHiLRr7xyttoWnT6Pa293c7NUGmvJOzQXlo6Rm0jb5pvM8oQOaAPVv%2BEH/wCChf8A0dB8Gf8Aww%2Brf/NRR/wg/wDwUL/6Og%2BDP/hh9W/%2BaivLvFv7Y2r3fwf%2BE/7RnwL/AGWvAPinwT8XJPC0GgjVvGsmnayJ9ZmiUotpFpFzBIttBI1xI32lfkt58AbAW6rXvjD8VPDX7W%2Bh/s2X/wCyX8OrzTvEmia/rWma1pPjuWW%2Bg0/Thbok11Zy6PHFCZri8s4dq3T7TJIwMgibIB0//CD/APBQv/o6D4M/%2BGH1b/5qKP8AhB/%2BChf/AEdB8Gf/AAw%2Brf8AzUVS/Z/%2BJ%2BpfET4s%2BM/gP8Zv2d/CPhjxR4O0XRdXuP8AhF/EA1vT5rTU3v0hTz5bGzeO5RtOmMkJiwElgdXcSYX17wYNmhmBSdkN9dxRAnO1EuZFVfoFAA9hQB5d/wAIP/wUL/6Og%2BDP/hh9W/8Amoo/4Qf/AIKF/wDR0HwZ/wDDD6t/81FezUUAeM/8IP8A8FC/%2BjoPgz/4YfVv/moo/wCEH/4KF/8AR0HwZ/8ADD6t/wDNRXs1FAHjP/CD/wDBQv8A6Og%2BDP8A4YfVv/moo/4Qf/goX/0dB8Gf/DD6t/8ANRXs1FAHjP8Awg//AAUL/wCjoPgz/wCGH1b/AOaij/hB/wDgoX/0dB8Gf/DD6t/81FezUUAeM/8ACD/8FC/%2BjoPgz/4YfVv/AJqKP%2BEH/wCChf8A0dB8Gf8Aww%2Brf/NRXs1FAHjP/CD/APBQv/o6D4M/%2BGH1b/5qKP8AhB/%2BChf/AEdB8Gf/AAw%2Brf8AzUV7NRQB4z/wg/8AwUL/AOjoPgz/AOGH1b/5qKP%2BEH/4KF/9HQfBn/ww%2Brf/ADUV7NRQB4z/AMIP/wAFC/8Ao6D4M/8Ahh9W/wDmoo/4Qf8A4KF/9HQfBn/ww%2Brf/NRXs1FAHjP/AAg//BQv/o6D4M/%2BGH1b/wCaij/hB/8AgoX/ANHQfBn/AMMPq3/zUV7NWb4j8Y%2BEfB1r9u8XeKtN0qDGfO1K%2BjgXH1cgUnJRV27F06dStNQpxcm9kk236JJv8Dyv/hB/%2BChf/R0HwZ/8MPq3/wA1FH/CD/8ABQv/AKOg%2BDP/AIYfVv8A5qKXxt/wUQ/YT%2BHgceKv2ufh9FJH9%2B3tfFFvdTL9Y4Gdx%2BVeaXv/AAWq/YGubp9O%2BHnjfxN41u4zhrTwj4F1K5Yn0BeFFP4HFefVzfKqDtOvBPtzJv7k2/wPrsB4d8fZnT9phcqxMo/zexqKPzlONOKXm5JeZ6V/wg//AAUL/wCjoPgz/wCGH1b/AOaij/hB/wDgoX/0dB8Gf/DD6t/81FeYj/gqV4r8Rf8AJNf%2BCbP7Rmqq3%2BqudT8DR6dBL7q8sx498Uf8No/8FHPEvy%2BAv%2BCTOrRxt0uvE/xW0uw2e5iKFj9Aay/tvL38DlL/AA06j/8AbEd//EMOMKf%2B8Qo0f%2BvuKwdP8HipP8L%2BR6d/wg//AAUL/wCjoPgz/wCGH1b/AOairf7K3xG%2BNPjDWPih4E%2BOmv8AhfVtU8A/EKLQ7PVfCfhq50m3urWXQdH1NWe3uL28ZZFk1GVCwl2lY0O1TnPk/wDwun/gsTd/vLf9in4XWYbkR3fxHaRl9iUTBP0roP8AgnZq3xm1zXPjzqn7QXhPRtD8Xy/GaD%2B19K0C/a5tIMeEfDYi8uVgC2YRGx9GZh2rpw2Pp4qo4xhNaXvKEor7318jx874UxeRYVV62Jw1S75eWjiKVaS0bu4w1UdLOV7Xsup9J0UUV2ny4UUUUAFFFFABRRRQAUUUUAFFFFABRRRQAUUUUAFFFFABRRRQAUUUUAFfL/7QOsf2Z/wVl/Zpst2P7R%2BF/wATLfHriXwvL/7Sr6gr42/bE1c6V/wWN/YyhLYS98M/FC3c/Ww0ZwPzQVy4yfs6PN5x/GUV%2Bp7nDuH%2Bt5n7L/p3Wf8A4DQrS/8AbT7JooorqPDCiiigAooooAKKKKACiiigAooooAK4nxX8IvhP8aINX8LfGL4YeHfFmmW/iCK6g07xNosF/BHOtlCiyrHOjKHCu6hgMgOwzgmu2ryf47/tW/AL9j7w1qPxL/aL8e/8I7ol94rh0y1vf7LurvfdPp6SrHstYpHGUhlO4qF%2BXGckA44ieHp0JSrtKCWvNa1vO%2BlvUax8sqf1uNZ0nT151Jwcel1JSi477qS331E/4YH/AGFf%2BjLPhL/4bnTP/jFH/DA/7Cv/AEZZ8Jf/AA3Omf8AxivJP%2BH5v/BLL/o6L/yydc/%2BQqP%2BH5v/AASy/wCjov8Ayydc/wDkKvF%2BvcK/8/KH/lP/ACNP%2BIpYn/oez/8ACyr/APNB9JfDT4RfCf4L6FL4W%2BDvww8O%2BE9MuLtrqfTvDWiwWEEk7KqNK0cCKpcqiKWIyQijOAK8V/aV/YX8V/Hjxd8StT8P/GfTdC0f4q/C%2Bw8IeJdOvfCEl9cQtZS6nJbXdtOt7CqDOpyCSJ4pN4iTa8ZLE%2Bk/s0ftW/AL9sHwJd/Ev9nTx7/wkWiWOryaZdXv9l3VpsukiilaPZdRRucJNEdwUr82M5BAx/iV%2B2X8MPhX4s8S%2BBfEug68%2BseHJfDEcen2trA0mrf2/fvp2ntabplDg3cU0TlzHs8l2PyAMfaw88PUoRlQacGtOW1reVtLehm8fLNX9blWdV1Nedyc3LpdycpOW27k9t9Dyr9r7/gmPL%2B1Z8erf4y3PxS8O2cUMvhia3j1/wCHaaxqWjyaPqx1AjSb17uMaal3kRXG2F3cKCHGAo2PDv8AwTsXQdd1XWz8XxN/aeg/EzTfL/4R7b5X/CXeIodZ35%2B0HP2TyvI28efu35ixsPNfHr/grH8O/B3hv49%2BBvhppVvH8S/hH8JfFvi/SdM1vWtJ1C01A6LD85mh0vUprq2TzpbXMN0tpM6THYMpJ5feat%2B3hoPh/wCI/iT4U6b8OvFfjXxLp/xAufD%2Bl%2BGfCejWcF0YbbRNM1S6uTLeagkMsMS6jCDKzQOzzxwpA7KJJdhHqnwZ%2BH3iP4WeBNI%2BHep%2BKbLVLDQfD%2BnaZpskGkvbTH7PbLDJJKxnkV97IGVVVNgO0mT71eOfB39hXxz8H/Gtn4gsvjppmoaZ4K0LxFpvwi0a68GOo0IatdxXLNqEi3wOpi3EEVvEsYsz5HmB2eRhMvZfsQftI6p%2B09%2BzL8PPi74s0c2eueLfAOm%2BItRisdEvLewjN0hOyKSYMoYFWzCZGlQFS4AZSfO/BP7Y3xs17486DLq2m%2BFh8NvGPxi8SfDbQdPt9NuV1qzv9HtNUlfUZ7prkwywyz6JfxC3W3RkWW3cyv8AOoANzxR%2Bw34g8R/HS/8AG6/GS2g8D%2BIPiFonjzxT4M/4Rgtd3niDSrSzt7WSG/8AtQW3tSdN02Z4DbyO0lqSJlErir/wl/Zw/aX%2BG/xs%2BLfxc1T9oLwLqUPxG2XGjaZb/C69t20a8t7WK0spJpTrUgvIkhiHmxKlu0rkskkA%2BSuU/aa/bG%2BNvwr%2BKfjF/h5pnhZvBvwm0Xw3qfju21nTbmbUdYj1S%2BuIpo7GaO5jjtGtrW388NJFcCeSURYhCmQ%2Bb6n/AMFTfiv4F%2BMvjq18e%2BFNHl8LeEIvHs82jW/hTUbOZLbw7FLNFNb67NO2n6xPcxxBpLG1iE9n5rrNzay7gDvfAH7A37Q/g74O%2BEPBd/8AtSeELvxN8P8A4o6l4z8K61b/AAruodNke/XVFuLW%2BsH1mR7lQdXuWikjuYGjaK3JDlG8zD8Qf8EmHn%2BG3/CEeEPjbpVjfa/8O9d8FfELWNT8ALeHUNL1bUp9RuRp0Qu410x457u6ECubqKON4leKXyVaqvjP9ub9qv4L22s/Dr403fwztPEdraeC9WuPHttoF9D4d8MaVr11qVrLLf28l%2B0kotJtKlQz/abeOT7XbswgCSU3xH%2B3f%2B0P4v8A2CNb/ay%2BBvxA%2BG7at4Q1fXvD89reeANQ1Gx8Z6tbamdN0r%2BzSmr2zWkV9N5Gze10B9tQLI4j3ygHtHiz9l74mfEL43%2BDfGvjb4vaA/g74feJ/wC3vC%2BgaZ4Jlh1g3Y024sFW61SS/lWaLZdTMwjtYXfEas5UOJPN2/4JZ6F4ivvHfi7xn4o8FaZ4m8UaMbHQtV%2BGnwvi8PxaXP8A2hBqX9o3MLXdy2o3rXlnYSSSSSIjLZoqxpvkZui%2BOH7RX7RnwI%2BMvwv8JaxrPhjV7Hxprmk6NqmkWnwz1iCKOWciK7ul8QPetYWhV90kNjPEZ5wqwxs8kisOX/Z0/wCClOg/FLxD4q%2BIXxI%2BLXhfQPBOnWHiO80fw5L4A1e3vmsdJv8A7LLerrM032LUiqIXmtLS3aS3e5iiaRmjPmAGzq3/AATG8IfFXQfFOvftGfEnU9b%2BIPinWb7U5PF3gbUtY8KW%2BnzT6TaaSsUFrY6mZGgW1soA0U9xMHdpjlRKVE%2Bu/sDfEHUfgB4O/ZI0z496VH8ONB8P6Hp2vrqnhG81HxDqMmn3CTma21O51RhZ72jjCB7e4a3wfLcfJ5dP4H/tMftXfGv4TfFbxR4x1HwD8K9Y%2BH3xFktmPiLwneatDpug/wBhabqyxX0UWp2xN9EuobJpo5RCDAwWNgQ9cCP26/2w9B%2BGvwQ8ffGbUfCHgTSvG/w11LxV8QvGE/wS8Q6vpeiSC605rC0uPsmphNFBsryd5p7yeSJZLSQhlUEUAe2fEf8AZA8afHb4yaP4s%2BOnxS0DUfBvhi91m48O%2BGfDfg640rUWGo6Zd6ZLFeamNRlaaMW17OcQQ2xaVYJScwqDj/CL/gnP4e/Zx8QfFHxV%2Bz58YfFOj33jrwZY6F4ZPiPxNrPiCLwzJaW08UNwE1DUZPtIR5Y2WPMRRYjGjqsjYs/Gb9pH4z/CP9r74f8Awsh1XQ9U8K%2BPtZSzi0tvh1qtrJYW/wBgupXuG8RPdtpss4mtWK6eIUuXikBUEKZG8z1P/gpP8ab1/jx4z8GeAPDc/hHwZ8MNC8WfCi6ulmFzrFreX2s2MmoXP75Vmt5G0v7TawQhJJoHjw%2B%2B4VYgDvvjR%2BwR4u8Ufs8fDH9lf4HfGLQfDPgXwFbWVprvhzxT4Jn1q28V2dnbpFa2l35Go2T%2BR5iCaaPewuSqpJmIyxyu%2BOP/AATR%2BGfx88YaB8XPE3jjxJpPjW18S%2BHtZ8Vap4W8Ya/puna0%2Bl7cImmw6oILbcAwST95JEGPzSMWZuA8P/8ABRn4y337OXjvVbLSNA1z4j6b42vfDfgKG48G6p4cS/EGj2upTajqWiX876hpcVqk1wzxTyo9xHbwPEyfbrfPR/Fr9pP9r%2B0%2BC/wX%2BMHwn8YfDa3vvilN4S0xfB%2BtfD/ULyW5v9SKT380N3FrEAhgt7AXV0I2glYLZPl33AKAbPgn/gnxf%2BBPi/aeMdE%2BKWjxeGNB8aeK/GHhXQIvBW2%2Bh1rxALs3rXt99rIvbQSX906W6wQsALdWlcW6UvwK/YT8cfs6Q%2BMfHPwl8bfC3w9498XrpdpPdeG/gy2neG7bT7F7qSOFdIg1RZWmeS/vJHuGvNzNIgxsjVK0fGv7Qnxy%2BDv7U%2BifDrx54i8Fa/4W8S6dr2qnRPD3hq8t9Z8NaRp9v5qajdXL3ssV1E8vk2pAt7f97dx7GcI%2Bc3/gnl%2B2b4h/a70N/Fvizx94ZM2seF9M8RaT4L0zwJq2lXek2N4JGRjfX85i1yHgRC9s4YoDJE%2BNwZQADv8A4M/Aq9/Z6/Z817wZrHjNNe1PUtQ17XtY1G30z7Dateajc3F5Otta%2BZJ9ngWSZgkZkkbAy7u7M5o%2BOP8AlIX8L/8AsjPjz/07eEK9S8c/8iTrH/YKuP8A0W1eW%2BOP%2BUhfwv8A%2ByM%2BPP8A07eEKAPZqKKKACiiigAooooAK8F/Y/8A%2BTetX/7L345/9WBqte9V4L%2Bx/wD8m9av/wBl78c/%2BrA1WgDrNf8A2Jv2MvFeu3vinxT%2ByP8ADHUtT1K7kutR1HUPAOnTT3U8jF5JZJHhLO7MSzMxJJJJOTVT/hgf9hX/AKMs%2BEv/AIbnTP8A4xXnfj//AILKf8E3Phf471v4aeOv2jvsOt%2BHdXudM1iy/wCEQ1iX7PdW8rRSx747Rkfa6MNysVOMgkc1kf8AD83/AIJZf9HRf%2BWTrn/yFXgzxvDCm1KdG93e/s736303ve5p/wARNxND90s8nHl0t9bqq1tLW%2BsK1rWtZWtaytZezaB%2BxN%2Bxl4U12y8U%2BFv2R/hjpup6bdx3Wnajp/gHToZ7WeNg8csciQhkdWAZWUgggEHIrW/aa%2BCdl%2B0n%2Bzp47/Z71DX5dJh8b%2BEdQ0N9VggEr2f2q3eETBCQHKFw20kBtuMjOa8a8A/8FlP%2BCbnxQ8d6L8NPAv7R327W/EWr22maPZf8IhrEX2i6uJViij3yWiom53UbmYKM5JA5r3H46/GHw5%2Bz78HvEfxv8ZaZqN1o3hXSpdT1lNKhSSeKziG6eYK7oGWOMPKwznbG20M2FPoYGtltaEng5QaT15OW1/PlS1t3JlxJU4k/ezxrxPJpd1ZVeW%2BtryqVLX3smr726nkfiL9ib4heP9B%2BLsvj34%2B2sXiT4t/DvTfDN9rXhPwrNpsOmyWY1ELcxRSX08jI4vwGiMwOImxIPMGzhvgj/wAEpovhF4ih8TQ/EnwhYbfi4PHL6D4C%2BF8egaRAw8I3nhw2dtapeSmEN9qF20rPIzOjKR84dPRfjP8A8FEPg78FtL8Xa5qnhvU9QsfBXi2z8N6xqI8QaDpVo9/cabFqISG41fUrOGTZBPAGAffvmCor7JCnI2v/AAUd0nxT4%2Bjv/BNxaXHgLXPBnwk13wjqsWhST3l1/wAJh4g1bTSsyPdwrHGIrOzKsAXgaSZ2S5wsFdxJ1fwN/Yo8Q/AKPwJd%2BEfi5ZXN/wCBvgbpXw6t5dQ8Lu0N39jkgY3zRpdqy71hYCEOdhcHzG27W6z9o34BeOPip4g8H/Ez4P8AxP07wj4z8E3t4%2BlaprXhp9XsZ7W8tWt7m2ntUurV3B/cyqyzIVkt4870Lo3mHg3/AIKNH4mftFeD/BHhD4P%2BJrLwD4j8FeLNftPFmqaEs7eIYdJuNOhjn0uOyuZpzG/2qVvKnt0nmDQNChBOfSf2pPjR8QPh7o3gXwt8HE0iHxR8SfG9v4d0LUPE%2Blz3FlpubK81Ce5ntY5reWbba2FwFiEsRMjICyjNAFPw7%2ByxrHgL9l21/ZW8GeKfC%2BoaHpngew0Kx/4TvwS2sR3k8e4XdzqEC3kEd3HcJtzAgh2OZG3urqied2f/AATXi8N/s8v8F/CN78JHvNW8ZTeJPEc/ib4Hw6joyXbwJbxHTNJF/FHpxt4IbaKAvJcbUg%2BcSs7Oeh0r9rr4pv8AsE%2BNf2j3%2BHdlrHjjwL/wlemX2iaPDcCz1DU9D1K%2B02WaGMGSdbeWSyM4iBklWN9mXcZPJ/BH9sz4j/Hrwf8AEzR/BX7TXwgur/4YahZXeofFLS/A17feGdR0efTzdM0dsmsqySwyJPG8i3s0Y8g5UOzRxAHpHhX9ijwn4Kvfgbonh/xXcf8ACJ/AnQLm18P6BeWolmvdQOnx6ba6jLcbgN8VnJqKFfLPmPfl9yeXtfodN%2BAOq6Z%2B0B45/aLTxzBPrXiTwjpvh7wzBdaQWh0C1tGu5jkCYG4M11dvLJgxFkhgjz%2B7D18hfFH/AIKY/tl/Cj9m/wCG3xJ8XeE/CFn4k8T/AAe1Px3qtvD8OdYvraeSOS3e00yaK2v2bw9Gbe6jFxqt9LLZwSBtxAXB%2Bi/Hnxv/AGg/h3%2B098OvBN1r/gXWvDXxJ125s7Lwjpeg3a65plhBpc11Pqz3/wBteCeCK4jghdfskSj7dAolMjIkgBd/Yj/Zj%2BMH7MfhfW9G%2BL/xp8NePdU1/Uv7V1fxTpngS40fUtW1JwVnu76SXU7xJiUWCKKOJII7eKBIo18tURPXPB//ACCZv%2Bwrff8ApXLWpWX4P/5BM3/YVvv/AErloA1KKKKACiio7u7tbC1kvb65jhhiQvLNK4VUUckkngAetA0m3ZElFfPHxe/4KrfsIfBzU/8AhGtQ%2BPFh4h1x3McGgeCYZNZu5Zf%2BeYForoj%2Bzstcan7df7b3xkP/ABi9/wAE1/E9vp8n%2Br8Q/FzW4NAVR2b7Gd80inrlW6fWvMqZzl0JuEZ88l0gnN/%2BSp2%2BbR9xhPDfjPE4aOJrYX6vRlqqmJlDDQa7p15U3L/tynP/AD%2BuaK%2BRz8If%2BCxPxc48fftX/C/4WWkv37f4d%2BDZdWuFT%2B6ZNRYBXxwWXoeRSp/wSM8CeNT9s/aS/au%2BNHxJuJP9db6x46ltLEeojt7YJ5YPoGNR9fx1X%2BDhZes5RgvuvOX4I6P9UuFsB/yM89o3/lw1OtiX/wCB8uHo/wDk8kfSHj341/Br4VW73nxP%2BLXhnw5Egy8mva9b2aqPcyuteE%2BNP%2BCxX/BPbwnqP9g6P8c/%2BEr1ViRBpfgvRLvVJJiOyPBEYj/32KveA/8AgkV/wTg%2BHVwl3on7KHh28lU5L%2BIJLjVQ57llvJZVP5Yr3bwX8Ofh78N9O/sj4d%2BA9G0C0wB9l0XS4rWPA6fLEqii2eVetOn/AOBzf48iDm8K8Bqo43FvzeHwsP8AyVYmp%2BK9Uz5iH/BSf49eP%2Bf2ev8AgmF8Ytdjb/UXfjJLbw1BN6Mr3LPlT/ex%2BFKPib/wWf8AHfz%2BF/2Yvgt4CV%2BkfjTxpd6o8f1OnqAT9K%2BtaKP7Oxc/4uKm/wDCoQX4Rk/xF/rjw9hdMBkOFj51pYjEy%2BfPWpQf/gC%2B4%2BSx8Hv%2BCyHiL/SNa/bF%2BE/hx262/h/4fS3kafRrpgx/Gj/hk7/gqlqXOo/8FZLOwB%2B9HpvwM0p/wDSS5FfWlFH9j4d/FUqP/uLP9Gg/4iRnEP4ODwUPTA4V/wDpcKj%2B9s%2BS/wDhhL9u3U%2BPE/8AwVr8Zyg/e/sr4f6ZYn8ChOKP%2BHZnxd1LnxN/wVE/aBlJ%2B9/ZfiOCyH4bIjivrSij%2BxMvfxKT9alR/wDt4f8AET%2BMI/wp0af%2BDCYOP5YVnyUf%2BCQ/w61r5PiV%2B2P%2B0V4whP3rTxF8VpXix6bYokIH41peHP8AgjD/AME2/D91/aVx%2BznFrF4xzLd%2BIPEWo3rSH1ZZbgp/47X1HRTWR5Ond0It%2Ba5v/SnIip4peI04OEc1rQi91TkqK%2B6hCgvwPL/BP7En7HPw4KSeB/2WPh9psqfdubbwhZib8ZDGXP4mvS7GwsdMtUsdNs4reCMYjhgjCIo9ABwKlor0KVChQVqUFFeSS/JI%2BRx%2Ba5rmtTnxuIqVZd6k5zf3znP9AooorU4Arxn9l/8A5Lf%2B0d/2Wax/9QrwvXs1eM/sv/8AJb/2jv8Ass1j/wCoV4XoA9mooooAKKKKACiiigAooooAKKKKACiiigAooooAKKKKACiiigAooooA574r%2BPb74YfDzU/Hmm/DzXvFc%2BmwrInh7wyLU315l1UrF9rnghBAYsTJKihVY54weQj/AGt/hb/wyHpf7aV3Z6vb%2BFdY8F2HiSxsHs0fUZIr2CKW2tRDG7K1zI00UQjVypkcKGI%2Bauv%2BK4%2BILfDnWIvhX4d0bVvEEtm0em6f4g1yXTbOV2IU%2Bbcw2108QCliCsMmSAMAHcPnPwV%2Byl%2B05qn/AATl8Mfsb/EfTfAeieJPB/gXQbDSdb0PxXe6pZT6toklnJZSSJLp1q628sllG8gGXQOyKJMByAe4fAP4/wCjfHrTdeEfgbX/AArrnhTXzo3inwr4oW0%2B3aXefZre7RHazuLi3kWS2uraZXimkUrMASGDKvyf/wAFHNT/ALE/4KyfsQanuxm68b2uf%2Bu0eixY/wDHq%2Bkf2WfhF8UvA2sfET4q/G2DQLPxP8SPGEOr3ei%2BF9Vnv7HSre30ux02C3S6nt7aS4YrZGZnMEWGnKBSEDN8Wf8ABVDwJ4d%2BGn/BUr9jr4j6RqfiGW78Q/EDUk1KPVfFuo31pDuv9AiH2a1uZ5ILFT5p3LbpErfLuB2rjzc3lyZfOXZx/wDS6Z9t4dUPrXGOHo/zxrr78Li/8j9L6KKK9I%2BJCiiigAooooAKKKKACiiigAooooAKyvD/APyFtc/7Cif%2BklvWrWfe%2BGNIv7t7%2BQXMUsgAke1v5oN%2BBgFhG6hiBxk84oA0KKy/%2BEP0n/n71X/weXf/AMdo/wCEP0n/AJ%2B9V/8AB5d//HaANSvKfir%2Bx58KvjB%2B0b8Pf2nPFF/rMWufDkXn9n6fY3caWGqGaMrEb6Jo2af7MzSSwbXTy5JGb5uMehf8IfpP/P3qv/g8u/8A47R/wh%2Bk/wDP3qv/AIPLv/47QB81ah/wSS%2BCGsaX4h8M6x8aPiTc6Hrfw98Z%2BDNO0J9S01bbQdL8TzRTal9k2WIkeYSQoY5rl7hl5DmQYA7XxV%2BwT4B1nx9qvxZ8JfFjxv4S8Wap4zufER8ReHbuwM9s1zpNhpVzZRpdWc0RtZYNNtHZXjeRZYw6SIQoX2D/AIQ/Sf8An71X/wAHl3/8do/4Q/Sf%2BfvVf/B5d/8Ax2gDk/2cv2ePD/7MXwr8LfBXwH418QX3hvwh4TstB0ix1ua2mby7YMq3MkqQJJJO6lVclvLIjUqisWZuX0D9h74deHfjmvxqs/HviuS3tPEmo%2BJNE8FTXVodG0jXb%2B1ktbzVLdRbC58%2BWK4uwUkneFWvLhliVpCa9U/4Q/Sf%2BfvVf/B5d/8Ax2j/AIQ/Sf8An71X/wAHl3/8doA8h%2BJH7B/gT4q%2BNLPxr4t%2BLPjVnm0rRNP8b6fbT6fFa%2BNY9Ju3u7I6ki2eVKzyzM/2M2qyrK0UgaILGtC0/wCCcXwXbxVc33ifxp4t17wu%2BreJNU034davd2baNpl9ry3a6pPD5Vql25mXUNQUJNcSxxi9lEaINgT23/hD9J/5%2B9V/8Hl3/wDHaP8AhD9J/wCfvVf/AAeXf/x2gDyH4efsQx/DDw9r8Xhj9qD4mt4p1/T9I0w/EK/k0W51ey0vTGlNnp8Qk002jQp9puyWmt5Jna7ldpGcqy6dj%2BxX8KbP4eeDfhpLrfiC6sPCPj9fGlxLd3sTzeIdZFxcXpudQbysSZv7j7btiEQWaCHYFjTyj6X/AMIfpP8Az96r/wCDy7/%2BO0f8IfpP/P3qv/g8u/8A47QB598UP2V4PjF8QtP8UeO/jl43ufDem%2BINK1yD4cxtpkejNqGnTw3NnMzrY/bmCXVvBc%2BX9q8syRLlCuVPMaN/wTm%2BAdt4sm1Lxnc6r4v8MINbGi/Dbxbbafd%2BH9I/te5FzqAigFoss6ySbsJdSzrErskSxoQo9o/4Q/Sf%2BfvVf/B5d/8Ax2j/AIQ/Sf8An71X/wAHl3/8doA8N0P/AIJffsjeC/hb8W/g58L/AAFB4N0H41agk3jO08HaXYaaPsos7ezfT4BDbAJaPFDLuRg7Br67ZWQygr2v7Rv7MK/tI%2BG5/h/rHxy8a%2BGvCmp6NPpPiXwt4VOmRW2t2UylJYZpbixmuYA0TPHutZoHCucMGCsve/8ACH6T/wA/eq/%2BDy7/APjtH/CH6T/z96r/AODy7/8AjtAHm/i/9kTR/iD8StJ8YeOfjJ4y1Tw1oOs22q6L8NJhpaaHaXlvB5UMmYrFb2VUJMoiluni8wglCFVV4W6/4JHfsJWfiTxf4r%2BHPwO0PwJe%2BL/CGl6BLL4B8PadpJ0xbDUJtQgvLQwWwMdybmSB5GcvHJ9gtA0ZEWG%2Bgv8AhD9J/wCfvVf/AAeXf/x2j/hD9J/5%2B9V/8Hl3/wDHaAPEbv8A4Jn/ALLvjbwh4k0H9oXwrB8W9X8V6pPqOqeLviZ4f0i/1GO6ksbewEtssdlFbWZS2tLZFEECDMQdgzlmbpvAX7FXwW%2BGkXwk07wfbXdnpnwX0W7sPBuiW6W0Nn51xapaNfTRxQrm6EH2lA6bF/0%2B6LIxdSnpH/CH6T/z96r/AODy7/8AjtH/AAh%2Bk/8AP3qv/g8u/wD47QB5V8Pf2L7T4e/tDeMv2hU/aG8eazL47vPM8Q%2BF9et9Dn06S3SBobawjkGmLex2luHdooFuQokkld97TTGSb9nH9irwH%2Bzb4gi8Q6L8Q/FviN9M8J23hbwrB4nurR4/DuhQPvi0%2B1%2BzW0LSICIwZbkz3DiCMNK23n0//hD9J/5%2B9V/8Hl3/APHaP%2BEP0n/n71X/AMHl3/8AHaAE8c/8iTrH/YLuP/RbV5d44/5SF/C//sjPjz/07eEK9RPgzQ3ws7X0yZBMVxq1zIjezK0hVh7EEV5d44/5SF/C/wD7Iz48/wDTt4QoA9mooooAK4748fGzw1%2Bz98OpfiJ4m0jU9U3alY6Zpmi6JDHJe6pqF7dRWlpaQLLJHH5kk80a7pHSNAS7uiKzDsa8v/a3%2BDfjP4z/AAwsLH4a3mmReJvDXjDRfEugR63PJFZXVxp9/Dcm1nkijkeJJo0kh81Y5DEZBIEk2bGAM2H9tj4ZL%2Bzvqv7QureE/Eunromvt4f1XwfdWdu2sQa3/aCadHpmyKd4GmlupYY43WYwOJ45BL5bb6w73/goL4MttLstNt/gd48ufG9345n8JSfDKL%2Bx11i11SHS/wC13jlmk1FdPC/2c0V0HF2QyTRhcuSgy/B37MHxXX4E/EXwP8XPhn4C8T6n8Rtc1DxNquijxnf2%2BnpqM9wnkWKXSaf58UcFvb2hXUEjE32hGkW3iwuPIz/wS6%2BIFt4FFxrXw3%2BG3jmTXvi3d%2BNPG3wm%2BIXi/U9U0C/L6FDo9qsmrX1jd3V9Pbraw3Pm3NqwklllwsWyFkAPsX4IfGDwf%2B0D8HvDHxw%2BH7XR0TxZodtqul/brfyphBPGJFDpk7WAODgkZHBIwT5b%2Bx//AMm9av8A9l68c/8AqwNVrp/gH%2Bzxq/gP9kXwv%2BzZ8VfG%2Bo6pd6X4Xt9M1XV9B12%2BsJsoo%2BS3u4ZUuo1jAEaSeYspRAWOSa5n/gnv4P0TRf2Y9R8EQm9ubCy%2BLXxCtYW1TVLi9uXSPxprQVpLm4d5ppOATLI7SM3zFieaAPeqKyv%2BEP0n/n71T/weXf8A8dpf%2BEP0n/n71X/weXf/AMdoA1Kqa9oWj%2BKNDvfDPiLTYrzT9RtJLW%2Bs7hN0c8MilHjYd1ZSQR6Gq3/CH6T/AM/eq/8Ag8u//jtH/CH6T/z96r/4PLv/AOO0AfP3gn/gmD8KPhp8I/Afww%2BHnxq%2BI%2Blah8Ptb1PVNL8crqen3Ot3kt%2Bk0V0LqS5spIJN0U3lK6wpLGkMQjdNpJseBv8AgmJ8A/h/4a8PeFdE8W%2BMJLbw14a%2BHmh2DXepWzyPbeDdVu9U0tpG%2BzjdJLPeSrcNwHRUEYhYF295/wCEP0n/AJ%2B9V/8AB5d//HaP%2BEP0n/n71X/weXf/AMdoA8Q%2BG3/BO7wL8KfiJpfxA8JfHX4iKvhfw3ruheA9CuLzTZLDwtZ6rNbTTJaIbHfKYntIPJN09xsVNh3J8tekfHP4B6J8d/Bul%2BHNX8aa7omqaBrVrrHh7xZoD2q6jpmoQBlW5iE8EtuxaOSaJ0kheN45pFKYPHT/APCH6T/z96r/AODy7/8AjtH/AAh%2Bk/8AP3qv/g8u/wD47QBxfw2/ZtsPhF8MIfhX8Pfir4qsLVNO1dbjUSbCa8utU1K6a8uNakeW0ZTe/aZbiYAKLYvcyboHAjCczc/sK%2BANd%2BCvxB%2BDvjv4n%2BMvEc3xVbb4/wDF2qXNjHqmrW/kRWxtD9mtIraC3NrF9n8uGCMbJZWGJZHlPrX/AAh%2Bk/8AP3qv/g8u/wD47R/wh%2Bk/8/eq/wDg8u//AI7QB5X%2B0X%2BxH4I/aJ16XxDN8UfGXg%2BbUPB1z4T8Rp4OurKNNb0Od972M4urWcxAEybZrYwzoJpNsoyMQ%2BDf2JNM8BftM6n%2B0x4Z/aD8exTarY2OnSeEZ4dEm0q20y0h8uDTrd5NNa9t7UOXnKR3Sl5pGdicgD1r/hD9J/5%2B9V/8Hl3/APHaP%2BEP0n/n71X/AMHl3/8AHaANSsrwf/yCZv8AsKX3/pXLXlf7S/7Uv7KP7I%2Bkx33xz%2BLk%2Bm3l0o/s7QrfXLy51K/JOFENrFI0jgthd2AgJGWFePaf8Yf%2BCkP7W1rHpf7MnwYtfgN4FkGIvG/xNtBda7cRHnzLbSwSsTHOf9IJDZyHzXnYjNMLQq%2BxjedT%2BWC5pfPpH1lKPzPssn4Fz3NcCswrcmFwj/5f4iXsqTtuoXTqVmv5aFOq76NxPqr4lfFj4X/Bvw3J4x%2BLXxD0XwzpUZw2oa7qcVrFuxnaGkYAseyjk9hXzXqn/BXH4XeOtUm8M/sbfAv4g/GzUYZDHJeeFNBkttJgcfwzX10EWMZ6MFZT2Prp/DL/AIJPfs7aV4nj%2BJ/7SGsa78bPGgGW1/4mXpvYISeSsFkf3EUeQCEZX244Ir6Z0nSNJ0DTYdG0LS7eys7aMJb2lpAscUSjoqqoAUewFY2znFatxox7L35/e7QXyUj0nU8Nci92EK2ZVV1k3hcPfyjHnxNRecp0b9kfJpuf%2BCynx6G2DTvhd8BtJn6vPK3ibW7cH0C4s3wPXHNPs/8Agkb8PPiJdR6z%2B2X%2B0R8SfjPdhw76d4i8RyWOjo4OcxWNoyCMZ527yPavrein/Y2Eqa4lyqv%2B/Jtf%2BArlh/5KyX4l8QYRcuTU6OXx/wCoalGFT515%2B2xD9VVgzjPhD%2Bzp8BfgDpn9k/BP4OeG/C0JQLIdE0eG3klHrI6qHkPuxJrs6KK9OnTp0YKFOKSXRJJfckj4bGY3GZhiJYjFVZVKkt5TlKUn6ylKTfzYUUUVZzBRWbrfjPwf4ZYL4k8V6bp5IyBfX0cXH/AiK5jWP2nf2a/DsbTeIP2hfA1ii/ee88W2cQH1LSCs51qNP4pJerS/NoxniMPS%2BOaXq0vzaO5orxHXv%2BClH/BP/wAOMyaj%2B2P8OnK9RZeKra5/9Es1c4P%2BCvf/AATYN59h/wCGtfDm/wDveTc7P%2B%2B/K2/rXJLNcrg7SrwX/b8f/kjinneTU3aWJpr/ALiQ/wDkj6Rorwmz/wCCnf8AwT2voRPD%2B2L4BVT2m8QxRt%2BTkGluv%2BCnX/BPazj82X9sXwAR6ReIYnP5KSaf9p5ba/t4f%2BBx/wDkh/2xlFr/AFmn/wCBw/8Akj3WivmzVv8Agr//AME1tFUteftaeHnA6/ZLe6uP/RULZrn5f%2BC3v/BN6eQweG/jTqutyqcGLSPA2ryHPp81qoP51lLOsng7PEQ/8Dj%2BjZjPiHIIO0sXT/8AA4/o2fWdFfJX/D479nrUP%2BRQ%2BBfxt8Q5%2B7/Y3wuu33fTeUo/4e16Kn727/4J7/tTQW5%2B5dS/B9hGw9QRcE/pU/25lPSsn6KT/KDI/wBZMj6V0/RTf4qm1%2BJ9a0V8kt/wVhh14/Yvhl%2BwB%2B0br970ZH%2BHBtIIm/uyTSzYQ/gaVf23/wDgojqQ%2B0eHf%2BCQ/iGSB%2BYW1P4saTZyEf7SOhKH2NH9t5c/glKX%2BGFSX5QD/WLKpfBKU/8ADTqy/KmfWtFfJX/DWX/BVbUPlsf%2BCS9lYjtJf/HbSZB%2BUcWaP%2BFx/wDBZLxEduj/ALG3wn8Ok9G8QfEKW7A%2Bv2VRR/bGHfw06j/7hT/VIP7ewr%2BGlWfpRqfqon1rXjP7L/8AyW/9o7/ss1j/AOoV4XrzD/hKP%2BC3emfv774W/s4aop5EGm63rMDgehMwxn36V0X/AATr1j4y69rfx51X9oLwfpGgeL5fjNANX0nQdQa6tIceEfDaxGOVgC26IRuc9CxHaujDY6OJm4eznHr70HFffdq/kdWEzKOLqOCpVIO1/fg4r77tX8j6TooortPRCiiigAooooAKKKKACiiigAooooAKKKKACiiigAooooAKKKKACiiigAr85f8Agt3/AKD%2B1F%2BzF4s6f2Bqupahu/u7de8Jpn/yJX6NV%2Bcv/Be7/QJ/B3izp/YHgDXNQ3f3dvivwOmf/IleTnv/ACJq77Rb%2B5p/ofoHhTr4k5TD%2BetGH/gyNSn/AO5D9GqKKK9Y/PwooooAKKKKACiiigAooooAKKKKACiiigAooooAKKKKACiiigAooooAKKKKACiiigAooooAKKKKACiiigAooooAKKKKACvGfHH/ACkL%2BF//AGRnx5/6dvCFezV4z44/5SF/C/8A7Iz48/8ATt4QoA9mooooAKKKKACiiigArxn9g/8A5Ihrn/ZZviP/AOprrdezV4z%2Bwf8A8kQ1z/ss3xH/APU11ugD2aiiigAooooAKKKKACiiigAoqvq2raVoOl3Gt65qdvZWVpC013d3cyxxQxqMs7uxAVQASSTgAV8g%2BK/26Pjn%2B2B4ovPg/wD8Ex/DdtcadaXBtvEXxy8SWjf2HpjDh0sI2GdQnHbgxg7SQyMHHHi8fh8Gkp3cpfDFK8pei/Nu0V1aPpeHeFM34llUnh1GFClZ1a1SXJRpJ7OdRq139mEVOpN6Qpyeq98/aW/a8/Z6/ZG8KJ4r%2BO/xGtNIFwSum6YgM19qL9Nlvbx5klOSBkDauRuKjmvn8fEH/gpF%2B3YfK%2BEnhZ/2dvhvc/8AM0%2BK7NbnxXqcJ729lnZZBhxmQ7xwyOelei/s0f8ABOL4N/Ajxa3xo8faxqfxM%2BKN1hr/AOIvjaT7Tdo/paRsSlnGMkKqfMqnbvIwK9U%2BKP7Q/wABvglYy6j8XvjL4Y8NRwxl3Gta5BbuQBn5UdgzE9goJPQA1586WMxUefGVPY0/5YySf/b9TT7oWX95n0FXP%2BCuDYf8JNKOLxEd8ViYpUYvvQws3yu3SpinOT3VCOx55%2BzP/wAE7P2aP2YdXk8eaD4cu/E3je7YvqXxC8a3h1LWbqUjDP58g/dZ6ERBMjrnrXulfIE3/BTH4m/tD3z6B/wTm/ZW1z4hW4kMcnxD8V79E8NxYOC0ckwEt0QRgoio3IIzTz%2ByX/wUp%2BPX739pf9veDwPps3%2Bv8L/A/Q/sjKD2XU7rNwpA4%2B6R3pYfG4OlT9nl1Bzj3ilGF%2B/PKyfm1z37s/Ms445zTijHPF1Z1cbVenO37llsoznywUVso04ciWkYo%2BlfiZ8a/g58F9NXWPi/8VvDfha1cHy7jxDrcFmr47KZXXcfYc14F4q/4LL/APBPbQNTPh/w58ZrnxbqYzt07wZ4bvtRdx6h44vLP/fdaHwx/wCCSH7CXw61U%2BKdc%2BD48da/KQbrxB8SL%2BTW7m4YfxOtyTDn3WMV9AeFPBHgzwHpo0bwP4R0vRrNcbbTSbCO3iH/AAGNQP0rf/hbrdadNf8Ab1R/%2B2R/M8u3EdfW9KkvSVWX33pw%2B6/zPlxv%2BCqPiHxaPs/wT/4J1ftBeJJX4t7vUvBa6VYyHt/pE8p2j3K8Ui/Fr/gst8UT5/gf9lL4RfDK3flV%2BIvjS41efb640wABu%2BCOOhr64op/2fjan8XFT9IqEPxSk/xH/ZeYVf4%2BNn6QjCn%2BKjOX4nyT/wAKU/4LG%2BK/m1/9tr4X%2BEy3VfC/w3a/CfT7Ywz%2BNL/wwr%2B3zr//ACP3/BW/xdOG%2B%2Bvh34c6XpX5GNmxX1rRR/Y%2BFfxzqS9ak/0cUH9gYKX8SdWXrWqfkpRX4HyV/wAOrvEOtfP46/4KU/tLagx%2B/Fp/xESxhb6pHAePxoP/AARq/Zn1T5PHfxZ%2BMXiiM/6yLxB8T7yRZPr5eyvrWij%2Bw8pfxUk/Vyf5zYf6uZG/ioKX%2BJzl/wClVH%2BR8uaH/wAEXP8AgmZoKkw/su2N1Ixy82p6/qV0zn1JluWrp9H/AOCWn/BO7Q5Flsv2PvA7legvNIFwPxEpYGvfKK0hlGU0/hw8F/25H/I2hkOR0vgwtNf9w4f/ACLPONB/Y6/ZG8KqqeGf2Wvhzp4Xp9i8E2EX/oMQroz8HPhEbL%2Bzj8K/Df2f/nh/Ydvs/wC%2BdmK6SiuuOGw0FaMIr0il%2BSO2GEwlNWhTil5RivyijgLv9lD9lrUJjc3/AOzV4AnkPWSbwbYsx/ExUWv7J/7LNjJ51l%2BzV8P4X/vReDbFT%2BYirv6KX1XC3v7OP/gMf/kRfUsFe/so/wDgMf8A5E53SPhB8JtAYNoXwv8ADtkR0NpokEeP%2B%2BUFdBFFFBGIYIlRFGFVFwB%2BFOorWMIQVopL0SRtCnTpq0Ul6JL8kgoooqiwooooAKKKKACvGf2X/wDkt/7R3/ZZrH/1CvC9ezV4z%2By//wAlv/aO/wCyzWP/AKhXhegD2aiiigAooooAKKKKACiiigAooooAKKKKACiiigAooooAKKKKACiiigCO9vbPTrOXUNQu4oLeCJpJ55pAqRooyzMx4AABJJ6Vz3wy%2BM3wf%2BNXhD/hYPwb%2BK3hrxboAmkiOueGddt7%2Bz8yP76edA7JuXIyM5HeuH/b7%2BH3jT4rfsUfFP4cfDzRpdT1nWfA2o2tlpEDhX1MtA26zUsQoM67oRuIX95yQMmvFPDlxrnxFsv2lvGvgH4A%2BK5NN%2BJPhcWngvwl4q8IapoB8Q39l4f%2Bz3BnWeGGSwSYyWtisk3ktJ9jYxbkRXIB9O/Cj47fBD48aZd618DvjJ4U8Z2en3X2a/u/CniK21GK2m2hvLka3dwj7SDtJBwQa%2BJ/%2BC5%2Bj/254Xnstm7Z8A/GFxj/AK4%2BJvA0uf8Axyu8/wCCX/gXxl4b%2BJPjnxBqtz8Rtd0if4f%2BC9Ks/GPxV8Bv4b1V7qyXVVn0iK0NpaLJaWizQSJP5LM0l/MjXNz5Y8rjP%2BCofhX4r6j4x8Xjxt4y8PaloUv7L3xJufDWm6V4Yns7uwSHUPCcsgubiS9mS7J2IQyQ24Xachsjb5%2Bbw9plWIj3hP8A9JkfYeHmJ%2Bp8f5RX/lxWHf8A5Xpf5n3H8P8AWP8AhIfAeia/v3fbtItrjd674lbP61r159%2ByXrH/AAkP7Kvwz1/fu%2B3fD7Rbjd677GFs/rXoNddCftKEJ90n96T/AFPn82w31PNsRh/5KlSP/gNScf8A20KKKK1PPCiiigAooooAKKKKACiiigAooooAKKKKACiiigAooooAKKKKACiiigAooooAKKKKACiiigAooooAKKKKACiiigArxnxx/wApC/hf/wBkZ8ef%2BnbwhXs1eM%2BOP%2BUhfwv/AOyM%2BPP/AE7eEKAPZqKKKACuO%2BPHxs8Nfs/fDqX4ieJtI1PVN2pWOmaZouiQxyXuqahe3UVpaWkCyyRx%2BZJPNGu6R0jQEu7oisw7GvL/ANrf4N%2BM/jP8MLCx%2BGt5pkXibw14w0XxLoEetzyRWV1caffw3JtZ5Io5HiSaNJIfNWOQxGQSBJNmxgDNh/bY%2BGS/s76r%2B0Lq3hPxLp66Jr7eH9V8H3VnbtrEGt/2gmnR6ZsineBppbqWGON1mMDieOQS%2BW2%2Bs/8A4bw8Enwv5ifB/wAbP40/4ThvCB%2BFiR6Y2uLrA08aobcuL77Aq/2cyXvnG7EXkuvz72EZ5/wd%2BzB8V1%2BBPxF8D/Fz4Z%2BAvE%2Bp/EbXNQ8Taroo8Z39vp6ajPcJ5Fil0mn%2BfFHBb29oV1BIxN9oRpFt4sLjyNP%2BCUWux%2BE7Pxnrnw98DeK/Esnxku/HOufDrxl411TU9Bv4Z/DyaCLKfVb20uLu9dI7e1vDcXNq%2B%2BeN18uNTG8YB9u%2BEtbv/EvhfT/EGq%2BFNR0G5vbOOa40XV2ga6sXZQTDKbeWWEup%2BUmOR0JHyswwT5V%2Bwf8A8kQ1z/ss3xH/APU11ur/AOz9%2BztrPgL9kjw7%2Bzj8VvGd/qN3Y6ELLUtR8P8AiC/sZIhvLrBa3kUsd2kcKlYY5A6yGOJScEkVhf8ABOnw9YeEv2br7wtpVxfS22nfFv4h21vLqeqT3ty6J4z1pQZbi4d5p3IHMkjs7HJZiSTQB7pRRRQAUUUUAFFFFABXnH7T37VvwT/ZD%2BHT/Ej41eKRZwSSeTpemWqebfarcn7tvawA7pZCSPRVzlioya8e/wCCjP8AwVT%2BDX7Buhf8IrbCLxP8R9RhB0XwfaTZMO77k92y5MUXooHmSdFGMuvyH%2Bzp%2Bwb/AMFEf28fiev7VP7WHjrUfh59uQfYtXuLYLrtraHn7PpNq2V0ePBx57f6QSN4yJHDfOZlnkoYh4LAQ9rX621jDzk9Ffsm159n9FgcNw/ldNYzPpykmr08LRa%2Bs1%2Bzbd4Yag%2BuIrWurrD0a8rSjv8A7QX7QUH7QHiiwv8A/gol4i1bw14VuLmOXwb%2Byn8Py994n8RNkPDJrCwENHuADLbu0Y4A%2BVlJf3bwh8Rv%2BClvxS8N2Pgj9lf9jfwZ8BPBVnAsGm6h8R7kSXcNuOnkaXZAC3cf3Jcr155r3X9mP9h39mX9kTT5Y/gt8Nba21S7B/tTxNqLm71XUGY5ZprqTMh3NlioKpknCivWqnB5NjE3UxFZqUvi5bcz8nUavZdIwjCK6X3fk8RcQcT8XRp0MVVjhMHSv7LCYW8aVNPdupJOdSrJfHWkvaTf2lG0I/Ig/wCCZHxX%2BLZ%2B1/tj/wDBQb4n%2BNVk5m0DwpNF4a0l8/wPb2oYyAdAdynv3rsvhp/wSb/4J3fCm5jv/D37LHh2%2BukcSfa/Egl1aRpM53n7a8o3Z54A56V9E0V6VPJsrhLmdJSl3leb%2B%2Bbl%2Bh83S4fyanPndFTl/NO9SX3zc391iO0s7TT7WKxsLWOCCGMJDDCgVI1AwFUDgADjAqSiivT2PY2CiiigAooooAKKKKACiiigAooooAKKKKACiiigAooooAKKKKACiiigAooooAK8Z/Zf/wCS3/tHf9lmsf8A1CvC9ezV4z%2By/wD8lv8A2jv%2ByzWP/qFeF6APZqKKKACiiigAooooAKKKKACiiigAooooAKKKKACiiigAooooAKKKKACiiigAr5Q/4KCaP/wkPxLm0HZu%2B2/sofFmAD13zeFl/rX1fXz1%2B0fo/wDwkX7XPhTw/t3fbv2eviRb7fXff%2BE1/rWOJh7TDTh3jJfemv1PTyXE/U86wuI/kq0pf%2BA1Kcv/AG02v%2BCb2sf25%2BwH8G73du2fDfSLfP8A1ytY4v8A2Sva6%2Ba/%2BCPmsf25/wAE1fhNe792zQJrfP8A1xu54sf%2BOV9KVzZVP2mV0Jd4Q/8ASYntcf4b6nx5m1D%2BXFYhf%2BV6v%2BYUUUV3nyQUUUUAFFFFABRRRQAUUUUAFFFFABRRRQAUUUUAFFFFABRRRQAUUUUAFFFFABRRRQAUUUUAFFFFABRRRQAUUUUAFeM%2BOP8AlIX8L/8AsjPjz/07eEK9mrxnxx/ykL%2BF/wD2Rnx5/wCnbwhQB7NRRRQAUUUUAFFFFABXjP7B/wDyRDXP%2ByzfEf8A9TXW69mrxn9g/wD5Ihrn/ZZviP8A%2BprrdAHs1FFFABRRUOo6jp%2Bj6fPq%2Br38NraWsLTXNzcyhI4Y1BZnZmwFUAEkngAUNpIG0ldialqWnaNp1xrGsahBaWlpC011dXMojjhjUFmd2YgKoAJJPAAr4M%2BM/wDwVM%2BIv7U3xWk/Y8/4JU6RDr/iKYMuu/FTUIv%2BJRoFuDte4i3KRNtJ4lZShIAjSYsMeF/tm/tj/G//AIK3/HRP2Df2EvOTwElxnxN4nO%2BOHU4o3Ae5nccx2CNjan3p328HKqP0M/Ym/Ym%2BD37C/wAHoPhb8LLDzrqbbN4h8Q3MQF1q90BgyyEfdUZISMHainAySzN8p9fxefYqVDAy5MPF2nVW8n1jTfTznrbprY7Y5ROrk8cyxlV0qVVXoQjpVrxu06zb/g4a6ahPldXEyUvYqFGMq8uG/Y6/4JYfs%2B/sq6w3xV8RzXfxE%2BJ17MbnVviL4v8A9Iu3uW5eS3Rywt8nPzZaXBIaRhxX03RRX0WEweFwNFUqEFGPl%2Bbe7b6ttt9zy6GGoYaLVONru7erbb3cm25Sb6uTb89kiiiiuk3CiiigAooooAKKKKACiiigAooooAKKKKACiiigAooooAKKKKACiiigAooooAKKKKACiiigArxn9l//AJLf%2B0d/2Wax/wDUK8L17NXjP7L/APyW/wDaO/7LNY/%2BoV4XoA9mooooAKKKKACiiigAooooAKKKKACiiigAooooAKKKKACiiigAooooAKK8w/bT%2BL3ir4B/smfEP4x%2BBo7U634f8KXl1o730Re3huhGRFLKoILRI5V3XIyqsMjOR5l4K%2BO3xZ%2BA%2Bk/tBeGPib4/1L4mSfB7w9B4j0fW9W0%2Bxs76/gm0mS6axnGn28FuXWa1lKukKnyriJWDshdwD6crxjx4iS/8FB/hhHIoKt8GPHoYHuP7W8IVx3/BPP45eOfiVbaj4d%2BM/j34hX3jKbwroniWfSPHHhzRNPtYrG/FyI7rS10tC4tJJYJ0EN7LJeQiBBKFL5fRv/id4b8Y/wDBTbwX4M0nTfEMN54e%2BD3jiO/m1XwjqNjaSl9W8JYNtdXMEcF6BtOWt3kC5G4jcuQDk/8AgiI723/BOLwd4alYl9E1fXbB89QV1e7bB/BxX1nXyX/wRy/0H9nfxv4T6f2B8avFGn7f7u27D4/8iV9aV5ORf8ibDrtBL7rr9D9A8VtfEvN5/wA9ec//AAZyVP8A3IFFFFesfn4UUUUAFFFFABRRRQAUUUUAFFFFABRRRQAUUUUAFFFFABRRRQAUUUUAFFFFABRRRQAUUUUAFFFFABRRRQAUUUUAFeM%2BOP8AlIX8L/8AsjPjz/07eEK9mrxnxx/ykL%2BF/wD2Rnx5/wCnbwhQB7NRRRQAVzvxX%2BK/gH4I%2BAr34mfE3XG0/R7B4I5porOa5lklmmSCCCKCBHlnmlmljijijRpJJJERFZmAPRV5B%2B2v8N/H3xD%2BE%2BkX3wy8MtruseE/H/h3xPD4dS7hgfVotP1O3uJ7aOSd0iWYwpIYvNdIzKsYd0Ul1ANuy/at%2BAl98C7r9pFPHTQ%2BELGSeG%2BvbzSLu3uba5huTaSWkllLEt0l0LlTB9laITGXEYQuQprj9sD9nmP4G%2BIP2jNS8cXGm%2BFfCnnr4km1nw/f2N7pssIUtbzWFxAl4k5Dx7IDD5svnReWr%2BYm7xvwr8CfHfif9nb4oeHvjJ%2Bz94ztrvx343vPHGn6B4c1/Rl1LS7hL%2BCTTreGdr37MupRGwtb0lnNoJZNnnSgNnzCD/gnv%2B2H45%2BFHjfxZ/wtqTStb8W/EnUPGcnhL4saDaa/eajKnhzT9F09b1tH1CxsYLiNrBrqNYGktoXktTtZ7VXoA%2B7fBni/w78QvB%2Bk%2BPvCGo/bNJ1zTINQ0u78l4/Ptpo1kjfa4DLlGU4YAjOCAeK8r/YP/wCSIa5/2Wb4j/8Aqa63V39nP4VfF3w3%2Bxb4G%2BDfxE8dy%2BH/ABjpngTTdM1PW/CmnWqSafcxW8aEQx3ZvoGdAuws/mo5DMAAwAxP%2BCdOk3%2Bg/s3X2iar4nvtbubP4t/EOG41jU44Eub518Z60DNKtvFFCHcjcRHGiZJ2qowAAe6UUUUAVdc1vRvDOi3fiPxFqtvY6fp9rJc317dzCOK3hRSzyOzYCqqgkk8ACvya/b0/bK%2BOn/BSjxhov7LX7KNje2PgbxbqT2mgowe3ufGgicifUZ%2BN1to8BRyWIzM8ZABKOIPTf%2BCm37XmkfHi58VfBrQtXuk%2BDfwzuIv%2BFuazpU5SXxXrBf8A0TwrYyLklnlC%2Be652KrE4EeJPf8A/gm1%2BxprXwV8N3X7Q3x00u0HxS8b2EC39pa24jt/C2lIqi10O0TpDFCixqwXqyAEtsVj8dmFevn%2BMeX4aTjSXxyXVXs0n2unFfzNSfwQfN7nDOV5fjsHV4izeHPl9Cbp0qTuljsVFJum2mn9Uw94yxLi17aXJhoySnUZ3X7C/wCw98J/2FPg1b/DT4e2q3WqXSxzeJ/Ek0IW41a7C4Ltj7kS5KxxD5UX1Ysze00UV9Xh8PQwlCNGjFRjFWSX9f8AD7nDmeZY7OMfUxmMm51Ju7ei6JJJJJRjFJRjGKjGMYxjGMYxSRRRRWxwhRRRQAUUUUAFFFFABRRRQAUUUUAFFFFABRRRQAUUUUAFFFFABRRRQAUUUUAFFFFABRRRQAUUUUAFeM/sv/8AJb/2jv8Ass1j/wCoV4Xr2avGf2X/APkt/wC0d/2Wax/9QrwvQB7NRRRQAUUUUAFFFFABRRRQAUUUUAFFFFABRRRQAUUUUAFFFFABRRRQBmeNPBvhX4i%2BDtW%2BH3jrQLXVdE13TZ9P1jS72IPDeWs0bRywyKeGR0ZlI7gmuL%2BFP7J/wQ%2BC1nc2PgTRNa239zNPq0mt%2BMdU1WXVZJbeG2JvZL65me92wW8MUYnMgiSMLHsGQfR6KAPO/gV%2Byr8Df2bptQu/hH4XvrS41OztLK5utV8SahqkyWVr5v2Wyikvp5ngtYfOm8q2iKwxmVyqLuOed8cf8pC/hf8A9kZ8ef8Ap28IV7NXjPjj/lIX8L/%2ByM%2BPP/Tt4QoA8x/4JVf8SvVP2kvCTcfYf2nfE00S/wB2KZbZ0H6GvrSvkv8A4J6f8Sn9rD9q3wn08n4qWmobf%2BvqxV8/jtr60ryck0y2MezmvuqVD9A8Ufe42r1f%2BfkMNP8A8DwmEf6BRRRXrH5%2BFFFFABRRRQAUUUUAFFFFABRRRQAUUUUAFFFFABRRRQAUUUUAFFFFABRRRQAUUUUAFFFFABRRRQAUUUUAFFFFABXjPjj/AJSF/C//ALIz48/9O3hCvZq8Z8cf8pC/hf8A9kZ8ef8Ap28IUAezUUUUAFFFFABRRRQAV4z%2Bwf8A8kQ1z/ss3xH/APU11uvZq8Z/YP8A%2BSIa5/2Wb4j/APqa63QB7NXzT/wUe/aO8e%2BA/Cug/swfs5ziT4tfFy8fSPCvluc6RaY/0zVZMcokEW4huu75gG8thX0B488b%2BGfhp4I1j4i%2BM9TSy0jQdMn1DVLuTpDbwxtJI5%2BiqTX5f6n4z%2BMnxF0GT9peG2aD44ftX3J8K/BjR5HLN4M8FKd0t5kcoTATO8i95EkXGZFrwc%2Bx7w9D2MG%2BaSd7bqN0nb%2B9JtQh/elf7LHgsnzDizPsNw7gJ8lTEt89R6Ro0IJyrVpPooQU9e6bWqV%2B%2B/Yk/Zq%2BHfxy%2BOGjeHPh7aC5%2BBX7N%2BoNbaDdyIMeN/G%2BAbvWJSMiVYW%2B4ckBimw7CyD9GK4r9nX4EeBf2ZPgl4b%2BBPw4shDpPhvTEtYXKAPcSfelnfHBkkkLyMf7zmu1rqyjL1l%2BEUZJc8tZW2TtZRX92KtGPo3vJn1PFmcZfmGLpYLKoOnl%2BDgqOGhs1Ti9ZyS09pWnzVqr/mnGN2qaCiiivUPlQooooAKKKKACiiigAooooAKKKKACiiigAooooAKKKKACiiigAooooAKKKKACiiigAooooAKKKKACiiigArxn9l//AJLf%2B0d/2Wax/wDUK8L17NXjP7L/APyW/wDaO/7LNY/%2BoV4XoA9mooooAKKKKACiiigAooooAKKKKACiiigAooooAKKKKACiiigAooooAKK479oP4zaF%2Bzv8DvFnxz8SaZdX1n4U0C51KTT7Hb5940UZZLeLcQvmSMFjXcQNzjJAya5r9nv9obxf8SNX8afD/wCNXw40vwZ4u8CXVp/bVhpXidtW0%2BSzurVbi3uobuS1tWZT%2B%2BidXhQpJbSY3JsdgD1avD/iHrWm2X/BR74SaPdXSx3F98GPiB9lRjjzCmq%2BDyyj1ODnHoCe1Sfscftjxfte3vxBn034bT6DpXhLxTb6f4f1C61HzX1/TrjTbS/ttS8ry0%2BzJNFdK6RFnbyyjMUZmiT5w/4KrfE3VfgP/wAFDv2R/jvbs66VoH/CW2viiUNhINMv7rw5YTTP6qjXEZ/3tvpXNjMTHCYaVaW0bX9LpN/JO/yOPH4uOAwksRLaNr%2BjlFN/JSv8mej/ALIP/En/AOCoP7Wvh88Jdf8ACE6hbr67tJlWQ/8AfWK%2BtK%2BS/gz/AMSb/gsb8aNN6f218K/DuoY/veS7wZ/XFfWlcWT6YapHtUqr/wAnb/U/TPEj386wlb%2BfBYGX3YWEPzphRRRXrH5%2BFFFFABRRRQAUUUUAFFFFABRRRQAUUUUAFFFFABRRRQAUUUUAFFFFABRRRQAUUUUAFFFFABRRRQAUUUUAFFFFABXjPjj/AJSF/C//ALIz48/9O3hCvZq8Z8cf8pC/hf8A9kZ8ef8Ap28IUAezUUUUAFc78V/iv4B%2BCPgK9%2BJnxN1xtP0eweCOaaKzmuZZJZpkgggiggR5Z5pZpY4o4o0aSSSRERWZgD0VeQftr/Dfx98Q/hPpF98MvDLa7rHhPx/4d8Tw%2BHUu4YH1aLT9Tt7ie2jkndIlmMKSGLzXSMyrGHdFJdQDbsv2rfgJffAu6/aRTx00PhCxknhvr280i7t7m2uYbk2klpJZSxLdJdC5UwfZWiExlxGELkKcqX9tv9n9PAMXxGtbvxhe2UmrzaXNp2mfDDX7vVbK7iQSSRXWmw2LXtoVjKOTPCg2SRtnEiFvKPCvwJ8d%2BJ/2dvih4e%2BMn7P3jO2u/Hfje88cafoHhzX9GXUtLuEv4JNOt4Z2vfsy6lEbC1vSWc2glk2edKA2eF8PfDf9vj4E/BPx9rHwz%2BGXxA8QeMvjd8XhqmsajqWv%2BGJvEHg7Rl0TTtMe%2BkQ3Vppc9%2By6WDDBbMbeE3MO8SrbukoB9q%2BBfHHhH4m%2BCtI%2BI/w/8Q2ur6Fr%2BmQajo2q2MoeG8tZo1kimRh1VkZWB9DXl37B/wDyRDXP%2ByzfEf8A9TXW66L4W/Cqy8N/sweG/gz8NbXxL8MrXS/CdlpejW4l0%2B71XQYoYUjjjZ5PttpNMioFZz56McnLZ3Vx/wDwTq0q%2B8P/ALNt9oureKL7Wrmz%2BLXxDhudZ1SOBLi9dfGetBp5RbxRQh2ILMI40QEnaqjAAB5j/wAFVvFdx8VJ/AP/AAT98N62bKb4o6wb3xzfxy7DpnhXTyLm%2BmZv%2BWe/YEUnAbY6d6pf8E4fB6ftIfFvxJ/wUU13w/8AYdAntD4R%2BBuiyQ7F0vwzaOY2uVQ/ce4kQ%2B6qrqCUcV82fFP4j%2BKfj74W%2BKX7WnhJ2fX/ANoLxbbfBj4EK%2Bcw%2BHluDHe3a91jnKTsx/gcHnBr9QPhH8MvDXwX%2BFnh34R%2BDrfy9K8M6LbaZYKQATFDEsYZvVjtyT3JJr5DAL%2B1s4liZawjaS/8mVP8Oer6zg%2BiPqeGJPJeAcVny0xGb1JYek%2BscDh3H2rj2%2BsV3GDfWnCUdmzoqKKK%2BvPlgooooAKKKKACiiigAooooAKKKKACiiigAooooAKKKKACiiigAooooAKKKKACiiigAooooAKKKKACiiigAooooAK8Z/Zf/wCS3/tHf9lmsf8A1CvC9ezV4z%2By/wD8lv8A2jv%2ByzWP/qFeF6APZqKKKACiiigAooooAKKKKACiiigAooooAKKKKACiiigAooooAKKKKAOO/aE%2BDOh/tE/A3xZ8DPEmqXVhZ%2BK9AudNk1Cx2%2BfZtLGVS4j3Ar5kbFZF3AjcgyCMivNPBf7GninUbL4hQftJ/E/RfG7fFrT30v4hR6N4Xu9DiuNMXT1srezs/L1KWWzUK11JJIZZZHku2KNAERR75RQB4l%2Byr%2Bw/4I/ZM%2BI3xJ8deDPHfizVYfiDq2n3cdh4m8Y6xq502O1063sxH5uo3tyZnZoWfzcI4R44eUhjx4Z%2B31%2BxV8JvjD8eL7wb4F%2BE3h3TfFHxC/Z68fy3%2BraXokEF3q2pW2q%2BEZ7F7qaNA85SdVwXJIDNjGTX3BXjPjj/AJSF/C//ALIz48/9O3hCsq9GniaE6U/hkmn6NNfqYYnD0sXhp0KivGacX6NNP8z488AftC3nhXVP2eP%2BCqWoX7TeHfHHg23%2BGnxmml6addJOyRag2eY1F7FIJCeibQMl81%2BlIIIyDXwh%2Bzd8EPBniHxT%2B1T/AMEtviTb7fD95r7eJfDCFQTDp2sRCZWtwf8An1uUQqe0hHWvV/8Agl/8b/GfjX4N6n%2Bzx8a7n/i5Hwa1Y%2BFvFquxLXcUQIsr8Z5ZJ4FGHPLtG7dCK%2BbySvUoVFSqv%2BJf5VYe7UX/AG8oxqL1kfcYSvPjHwxwmYz1xmWKOFxHeVHnnGhV/wC4dTnoTf8ALUoN73f0xRRRX1J8cFFFFABRRRQAUUUUAFFFFABRRRQAUUUUAFFFFABRRRQAUUUUAFFFFABRRRQAUUUUAFFFFABRRRQAUUUUAFFFFABXjPjj/lIX8L/%2ByM%2BPP/Tt4Qr2avGfHH/KQv4X/wDZGfHn/p28IUAezUUUUAFFFFABRRRQAV8oeFviP/wqH/gm98Zvialx5UuieLvi1dWrZwTOvizX/KA9zJsH419X1%2Bcf7ZHip9I/4JJeOPBFre/Z7rxx%2B0R4u8O2s2eQZviHq0kn1zFDIPoTXBmtd4XLK1VbxhK3rZpfi0edm9aph8qr1KavJQlbu5NWil5uUopedjN/4Jp/Dj/haPx7%2BFHhB7ff4c/Zt%2BDVjczxEZQeLPEEP2qYejGOCRgepSROxNfpdXyT/wAEVvAq6V%2BxLZfGPVrZV174oeIdS8T64wXgNJcvDDGhPIjWCGMqvQbmx1r62rh4cw/scphN7zSl8rJRXyhGP3s/SePqdLK84p8PUH%2B6yulTwcbbOVGNq81/18xMq879UofIooor3T4cKKKKACiiigAooooAKKKKACiiigAooooAKKKKACiiigAooooAKKKKACiiigAooooAKKKKACiiigAooooAKKKKACvGf2X/APkt/wC0d/2Wax/9QrwvXs1eM/sv/wDJb/2jv%2ByzWP8A6hXhegD2aiiigAooooAKKKKACiiigAooooAKKKKACiiigAooooAKKKKACiiigAorN8Z%2BMfCvw78H6t8QPHOv2ulaJoWmz6hrGqXsoSGztYY2klmkY8KiIrMT2ANcj8MP2oPgv8YfA%2Bu/EHwPruqNY%2BGJZIvENpq3hbUdN1DT3S2jutstheW8V0haCWKVAYv3iSIybgwJAPQK8Z8cf8pC/hf/ANkZ8ef%2BnbwhXWfBX9pD4S/tANq9t8ONU1db3QZYU1nR/EfhXUdE1Cz85C8LyWeo28E6xyKGKSbNj7HCsSjAcn44/wCUhfwv/wCyM%2BPP/Tt4QoA5X9t39jnxr8S/EWk/tU/sseJIvDXxq8FWpj0W/lbFp4gsdxd9JvlyA8LkttY/cZs5H3l8H0bUPFP7XGvXf7aP7Ft23w9/aS8EQppHxX%2BE3iOUrb62IOPsN5GxXIO0i3uxjgBWKMu6P9CK%2Bfv2qv8Agnt8OP2hvFtv8b/Ani7Vvhx8VtMhCaR8RvCcvl3JVRhYruLIS8hwACj4JUbQwXIPz%2BZZVKcnVw6vd3lFPlbktpwl9mou792a0l3DJ81zvg3Onm2SqM%2BdONehNJ0q8JJKUZRl7rckkpJ2UrRfNCpCnVjr/sd/tvfDj9rfQr3S4NOufC/jvw7Ibbxr8PNcPl6jo1ypwwKEAywk/dlAwQQCFbKj2qvy%2B/aasfF/hbXbPXP%2BCjvwo17wX4x0ArH4X/a1%2BB9nI8AUDEbalbwgSRrjho2UhsssYRSWPqHwZ/4Kc/FL4L%2BFLfUP2ttPsPiJ8Pd4isf2gvhNGL7T2TjB1WyhzJYSgY34UDcdqocFjz4PP40pexxujX2rNP8A7fhvB95LmpPdTjey%2B6w%2BVcN8ezlU4RqcmK3nl9aSjiIPr9XlNxWKp3vypS9ulZONa3M/vGiuc%2BFfxf8Ahd8cfB1t8Qfg/wCP9K8SaLdD9zqOkXqTR7sAlG2nKOM8o2GU8EA10dfTQnCpBSg7p7Nap/NHxeIw2IwdeVDEQcJxbUoyTjJNbpxkk011TSYUUUVRiFFFFABRRRQAUUUUAFFFFABRRRQAUUUUAFFFFABRRRQAUUUUAFFFFABRRRQAUUUUAFFFFABRRRQAV4z44/5SF/C//sjPjz/07eEK9mrxnxx/ykL%2BF/8A2Rnx5/6dvCFAHs1FFFABXO/Ff4r%2BAfgj4CvfiZ8TdcbT9HsHgjmmis5rmWSWaZIIIIoIEeWeaWaWOKOKNGkkkkREVmYA9FXkH7a/w38ffEP4T6RffDLwy2u6x4T8f%2BHfE8Ph1LuGB9Wi0/U7e4nto5J3SJZjCkhi810jMqxh3RSXUA27L9q34CX3wLuv2kU8dND4QsZJ4b69vNIu7e5trmG5NpJaSWUsS3SXQuVMH2VohMZcRhC5CnHv/wBuX9mvTfh1a/E268U679kvPET6Db6PF4E1mTXG1RIXuHszpC2h1BZlt43uChtwRAvnHEfz15X4V%2BBPjvxP%2Bzt8UPD3xk/Z%2B8Z213478b3njjT9A8Oa/oy6lpdwl/BJp1vDO179mXUojYWt6Szm0EsmzzpQGz598LP2Xf2pvg54xtv2utT%2BHHjXx1reo/GTVfEmr%2BCNZ8Q6B/wkaadc%2BFbLQopnlimttJ%2B1LJpkMjQwSpFHb3TIjO8W2QA%2B3PAvjfwj8TPBWkfEbwB4gttW0LXtMg1HRtUs5N0V3azRrJFKh7qyMrD2Nfkn/wAFJfHSQfsyeDPheLoo0vxy%2BM3icbT/AKubTPEGv/ZnPp%2B%2BulA9TxX6OfstfAX4h/DH9ivwn8C/EnjO68M%2BKLXw6qalqnhk2tw%2Bk3krmaWO2N3BNBKsTyNErSQsrKgOwZAH5EftLWerfEHx3ffAe48Wahrk2ja14m8NDWtQSBLu51fVfinqhaSRbaKKFZJbS2YsI40TkhUVcAfM8X1XTyKpGO83GP3u/wCh63DWAp5vxnk2XVPgrY3Cxl/gjWjWqP0VPDzb8rn7G/sTeBP%2BFZfsefC7wE8Ply6X4A0mG5XGP3/2SMyn8XLH8a9PqO0tbextYrK0hWOKGNUijUcKoGAB%2BFSV9DQpKhQhSW0Ul9yS/QwzXH1M1zTEY2p8VWpOo/Wc5zf/AKX%2BAUUUVqcAUUUUAFFFFABRRRQAUUUUAFFFFABRRRQAUUUUAFFFFABRRRQAUUUUAFFFFABRRRQAUUUUAFFFFABRRRQAUUUUAFeM/sv/APJb/wBo7/ss1j/6hXhevZq8Z/Zf/wCS3/tHf9lmsf8A1CvC9AHs1FFFABRRRQAUUUUAFFFFABRRRQAUUUUAFFFFABRRRQAUUUUAFFFFAHmH7anwh8VfHz9kz4h/B3wK9qNb8QeFLy10eO%2BlKW810YyYopWAJWJ3Co7YOFZjg4weB%2BBMfx40v4nfFT9o3xf%2By94n0a48aW9kuh%2BDp9d0SW8VdK07C/aJIb97dJru4nmhi2SyKqW8bzPDu2r9G0UAfOv7Anh/43Xj%2BMvjP%2B1F8DfEvg/4k%2BM7mym14axqOj3FjBawpKtppWmnTr%2B6ZrazV5N0s4ieea6mmCKJPKhff%2BC/Enh7/gpt4L8Rat8XPEOu2erfB7xw9hoOq22nJaaKF1bwllLZra0incPuGftEs5%2BQbSvzZ%2Bh68Z8cf8pC/hf/ANkZ8ef%2BnbwhQB7NRRRQAyeCC6ge1uoUkikQrJHIoKspGCCD1BHavmH4r/8ABJj9mnxV4nuviX8C9R8QfB3xhcqfO134Z6mbCK5Jz8s9mMwSxkk7lCoXydxOa%2BoaK5cVgsJjYqNeClba%2B69GrNP0aOPGZfgsfFRxFNStqn1T7xkmpRfnGSZ%2BT3xJ/wCCXv8AwUc/Zw8X3XxV/Zo1nRda1YEs3iL4ZagvhbUr7HQ3ulyZ025Qfe8uMK0jZ3MSau%2BA/wDguf8AtRfsw6tB4B/4KEfss64ypKYh4gg0N9G1CRVH%2Bsa2m/0Wdm5I8maNcDgV%2BqlVda0PRfEmmTaJ4i0e1v7K4TbcWl7brLFKvoyMCGH1FfP/AOrVXCTc8txMqT/ldpwfqnb79/Nn1MeLOKJYWOFx1aOOpRSUY4yHtqkEtEoYqEqWLiktEpVq8Vp7ttH4T%2Bzn/wAFRf2GP2oY7e1%2BG/x90i21W4wB4f8AEUv9nX28/wACxz7RM3/XIuPevoAEEZBr5o%2BMH/BH7/gnR8anmu/EH7M2jaTeSkn7b4VeXSmVj1bZbMkTH/eRhXm%2Bmf8ABJD41/AcQn9ib/gpL8TPBlpZo5tPDniuOHXdMViOFWB/KijXtkxOQPXFdlPEcQYZWxFGNVd6cuV/%2BAT/AEkfPYvGuUualg3HyjWjUj8vaQpVF5czl5s%2B36K%2BENX8ef8ABe79n22RdW%2BFXwn%2BNGnwAtPfaDO9jqDqO5R3t03f7McL%2B1cfqH/Bfjxn8Hb9NH/a1/4J3eP/AANMH2PMLolZD6ot1Bbgg9sOwPqaU%2BJMuw%2BmKU6X%2BOEkv/AkpR/E1w1DNcYr0cFXn/gpSq/P9y60resEfo/RXxH8P/8Ag4C/4J9%2BNrX7bq15438OQr/r5dY8ISzJF67jZNOK9Y8Gf8FXf%2BCc3jwIdD/a98Hwb/u/21eNpuPr9rWPH411Uc8ybEW9niIP/t5L87Hm1M3yyhiHQrVo06i3jO9OS9Y1FTkvnFH0JRXI%2BEf2gPgP8QNn/CB/Gzwjrfmfc/sjxJa3O76eXIc11wIIyDXpQqU6ivBpryaf5NndTq0qseanJNeTT/JsKKKKssKKKKACiiigAooooAKKKKACiiigAooooAKKKKACiiigAooooAKKKKACvGfHH/KQv4X/APZGfHn/AKdvCFezV4z44/5SF/C//sjPjz/07eEKAPZqKKKACiiigAooooAK/En9nfwdP4%2B/4KLavYXIMya5%2B3V4iltUbkLH4bvtWvZlHtu1FGYeuK/bavy5/YT%2BHELf8FQrfTVMcj6R4t%2BMvjucR8iKS/8AGuoaKpP%2B0YrRPwr57iGg8RTw8entYfi/8kz7Lw/wrfFUcxe2Dw%2BNr%2Bklg61KD/8AA8SvvP1Gooor6E%2BNCiiigAooooAKKKKACiiigAooooAKKKKACiiigAooooAKKKKACiiigAooooAKKKKACiiigAooooAKKKKACiiigAooooAK8Z/Zf/5Lf%2B0d/wBlmsf/AFCvC9ezV4z%2By/8A8lv/AGjv%2ByzWP/qFeF6APZqKKKACiiigAooooAKKKKACiiigAooooAKKKKACiiigAooooAKKKKACiiigArxnxx/ykL%2BF/wD2Rnx5/wCnbwhXs1eM%2BOP%2BUhfwv/7Iz48/9O3hCgD2aiiigAooooAKKKKACiiigAqHUNO0/VrKXTdVsYbm2mQrNb3EQdJFPUMp4I9jU1FDSaGpOLTTs0eCfFX/AIJd/wDBP74yvJc%2BM/2V/CsVzIdz3ug2jaVOX/vmSyaJmbPck14r46/4IT/BDUi0/wANP2gPH2i4GIdL8RS2niHTIx2H2W%2BhbP4ueK%2B5aK8rEZHk%2BJbdShG76pcr%2B%2BPL%2Bp9jh/ELjXD4ZYaWOnVpLanW5cRT/wDAMTDERXyUfU/MHxd/wRD%2BO2jbjo1h%2Bzz8RoR1TxN4Cu/C8rr6A6JKihsdD0z1rkv%2BGBvjN8JDsuP%2BCaXjXTreP72rfBT9o6cbMf8APO0vXklPtzX610V5k%2BEcrvek3F/9uy/9Kjf/AMmOapnnDWPlfNOHcurPrKOHeGn/AOBYSrRV/wDuHbyPyU/4SfQ/hv8AL4v%2BOX/BQj4W%2BX9%2BTxhbNqmmxf8AXNkjbcg9cV0fgr9pzQ9fZYfhh/wcOXGmuDjyPH3wntMqf7rtfJCPYnNfqRXO%2BNfg/wDCX4ko0XxF%2BF3hzX1YYZda0SC6BHofNRqj/V3E0v4VZP19pH8YVv0M/qfg/iv4mU4rDPvh8fUkl6RxEG/lznxv4L1z9vrxUE/4VP8A8FbfgN483Y8vf4YsgZP/AACnb9K7Uab/AMFxNGAay8Ufsya5GOpvrPXbaRh7eV8uf0rtfGn/AASt/wCCdnj3f/bn7IXgyDf946Npx078vsjR4/CuLP8AwRb/AGNNE5%2BFWp/EbwGR/qz4Q%2BI%2BoQ%2BX/u%2BdJLR/Z2b09rv/AA4ia/CpTl%2BYf6p%2BFOI/gZxmOHfapThVS9ZUq9/ugJ/wsL/gtTpI/wCJh%2Bzx8CdXx1/srxZqEG76ecvFA/aJ/wCCu2m/8f3/AATn8F6njr/Z3xdtoc/TzY6X/h2X8XfDA/4td/wVA%2BPtjt/1aeJfEEGsovttliTI9qT/AIZT/wCCp/hbnwl/wVH07Wol/wBXaeKPg9p649jNDJvb64o5M0h8Srr0nRn%2BcYv8A/4h1w5W/wB04tivKrSxFN/jhqy%2B%2BVg/4bC/4Kh2PGqf8EhXkUdZLH466M%2Bf%2BAmLNH/Ddf7etp/yFf8Agkf4wTHX7J8RtLn/APQVFL/YH/Bbnwx/yDPH/wCzl4ojXr/bGlaxZSuPbyCVB%2BvFH/C4/wDgsf4b/wCQ1%2Bxp8KfEm3r/AMI78Q5LPf8AT7Upx%2BNHtsVH4qmIXrSpy/8ASUw/4hTm1T/deI8JU/7mcPF/dVw1G3zYn/Dwv9rO3/5CP/BKL4pr6/ZtYsJv5MKP%2BHknx/h/4/f%2BCWHxvX18iztZP5SUv/Da3/BRnQ%2BPGf8AwSQ1kKvWXQfi1pV/uHqEVAR9DR/w8y%2BMGjf8jp/wS6%2BP8GPv/wBh%2BHrfUvy8uVc0fXWvixdSP%2BKhb/3GH/EH/EOX8DGU6v8Agr5dP8sTET/h5x8Vov8Aj7/4Jd/tDL6%2BT4Wgk/lNR/w9H8cJ/r/%2BCYn7Sw/65%2BAo3/8Aa9L/AMPefhnYf8jf%2Bx9%2B0V4ex97%2B2fhNMm367JXo/wCH1n7C9j/yNer%2BNtBx97%2B1/h5qabfrshaj%2B0aK3zJL1pwX5qIf8Qa8X3/DoV5/4KOHqf8ApqtU/AQf8FT/ABOv%2Bs/4JkftPj/d%2BGyH/wBuKX/h6j4i7f8ABMr9qL/w2Sf/ACRV3S/%2BC13/AATD1dtlv%2B1LaRNnBW78NarBg%2B/mWq10el/8FXP%2BCc%2Br4%2Byftd%2BEEz0%2B1Xbwf%2BjFXFaRxtOfw5nB/wDbtH/5M5K/hN4vYX%2BNhMXH1wMv/kGcd/w9O8VH7n/BMj9p78fhug/9uKP%2BHpPjRvuf8Exf2mP%2BBfD%2BMf8AtevUtN/4KH/sF6rj7J%2B2Z8MFz0Fx44sYj%2BTyit7T/wBsH9krV8f2V%2B1H8OrrPT7P43sHz%2BUprojKtP4cwi/SNH/5M8itwL4hYf8AixxEfXBSX50v1PEP%2BHo/jjv/AMExP2lv/CCj/wDj9H/D07xTHzP/AMEyP2ngO/l/DdH/AJXFfRVh8dPglquP7L%2BMXhW5z0%2Bz%2BIbZ8/k9bVj4t8Kapj%2BzPE2n3GenkXsb5/I1tGhjpfDjb/8AblN/%2B3Hl1ch4nofxcROPrh4r80j5a/4ewPCcXv8AwTX/AGrovVh8INy/mLmj/h7h4Vj/AOPz9g39p239pvhC4/lOa%2BtQQRkHIPcUVp9UzX/oK/8AKUP/AJI5fqOdr/mN/wDKNP8A%2BSPksf8ABXr4bA4l/Y3/AGjYz6P8JZv/AI7Qf%2BCvXw06J%2Bx5%2B0Wx9F%2BEs2f/AEbX1pRR9Vzb/oKX/gqP/wAkH1LPP%2Bgxf%2BCYf/JnyV/w9z8Gvxa/sM/tMznsIvhFIc/nOKqfBP8Aa0tv2pP%2BChfgw2v7OvxV8ArofwZ8ZfN8TfBx0kah52reFf8Aj1zK/m7PK%2Bfpt8yPru4%2BwK8Z8cf8pC/hf/2Rnx5/6dvCFa0MPmEKqlVxHNHt7OMb/NSbRvhsLmtOspVsVzx6x9lCN/mpNrvt5Hs1FFFegeoFc78V/iv4B%2BCPgK9%2BJnxN1xtP0eweCOaaKzmuZZJZpkgggiggR5Z5pZpY4o4o0aSSSRERWZgD0VeQftr/AA38ffEP4T6RffDLwy2u6x4T8f8Ah3xPD4dS7hgfVotP1O3uJ7aOSd0iWYwpIYvNdIzKsYd0Ul1ANyy/as%2BAt/8AAq7/AGkk8cvF4Q09riO/vbzSLuC5triC4a1ltZLKSJbpLpbhTB9maITebiMIWIU86/7fn7LyeE4vFieKfEUrTeI5tAHh62%2BHeuS66mpRWovJbd9ISyOoRstsyXBLQACKSOTOyRGPi%2BvfAH9ojxr%2ByD8XfA938B72z134l%2BNrjxWPDV7rWmb7ewk1O2V9NjuYrp44NVawtGnSdSbeC6uY2W4YxFx50f2L/jgmk2%2Brar%2BzZ8S7rwd/wuLV/EFn4S0z4tW8HxDs7S48OWthHPP4gGsRvNuvEvS6f2pJL9lks4i7xwm2UA%2B%2Bvh94%2B8G/FXwJo3xN%2BHfiK31fQPEOlwajouqWjExXdrNGJIpVJwcMrA84PPNfn/8A8Ei7efxp/wAFAP2ofGlzEdng3xnrvhuzkYdVuvF2u38ir9G259yK%2Buf2ZPg58U/BP7EfgT4GeNvFjeFfFej%2BBNO0q%2B1PwhbWBbTJ4YETFusts9oxQKEz9nMRIJVFBAHzx/wQ%2B%2BG%2Bo%2BEdK/aS8T69r97q9/qH7U/jbT5NZ1OOBLnUY7LVJoxcSi3iiiDvI8xYRxogOdqKMKPNx1N1cThl0U3J/KErfiz7ThfGU8BkmdTfxTw0aUf%2B4mJoc33wptPyPuaiiivSPiwooooAKKKKACiiigAooooAKKKKACiiigAooooAKKKKACiiigAooooAKKKKACiiigAooooAKKKKACiiigAooooAKKKKACvGf2X/APkt/wC0d/2Wax/9QrwvXs1eM/sv/wDJb/2jv%2ByzWP8A6hXhegD2aiiigAooooAKKKKACiiigAooooAKKKKACiiigAooooAKKKKACiiigDx7/goOfHI/Yc%2BLB%2BG/9p/2x/wgWp/Z/wCxN/27Z9nfzfs3l/P5/leZ5ez59%2B3b82K%2BbPhF4l%2BHmnfDH9p7w1/wTk1/w1B4d1LwtM/wVsPAt1brYXXiWLw7m8OkpCfLcJK%2BmmUwAqty0u/Eplr70ooA%2BN/%2BCZZ/Z8Pxj8e/8MWnSP8AhU//AArfwV5n/CObfsP/AAlW/Wf7S8zZx/aP2P8Asj7Xu/e7vJ8z95vr0G/1L4r3f/BTbwXZ%2BNvBfh7T9Ct/g944HhrUdK8Tz3l3fodW8JeY1zbSWUKWhGEwEmuA245K7Ru%2Bh6%2BcP2j9X%2BNej/t4fCef4HfD/wALeItSb4R%2BO1u7TxX4wudFgjg/tTwkS6S2%2Bn3rO%2B7aNhjUYJO/ICkA%2Bj6K8Z/4Tj/goX/0a/8ABn/w/Grf/MvR/wAJx/wUL/6Nf%2BDP/h%2BNW/8AmXoA9morxn/hOP8AgoX/ANGv/Bn/AMPxq3/zL0f8Jx/wUL/6Nf8Agz/4fjVv/mXoA9mor5x0n9o79u3WPjPr/wADrf8AZQ%2BEi6p4d8L6Rrt5cv8AHXVPIkg1G51K3hRCPDG4uraXOWBUAB48FiWC9R/wnH/BQv8A6Nf%2BDP8A4fjVv/mXoA9morxn/hOP%2BChf/Rr/AMGf/D8at/8AMvR/wnH/AAUL/wCjX/gz/wCH41b/AOZegD2aivGf%2BE4/4KF/9Gv/AAZ/8Pxq3/zL1y/gH9o79u34ieK/G/hDR/2UPhJDceA/FEWharJc/HXVAk88mlafqYeLb4YJKeTqMKksFO9HGMAMwB9HUV4z/wAJx/wUL/6Nf%2BDP/h%2BNW/8AmXo/4Tj/AIKF/wDRr/wZ/wDD8at/8y9AHs1FeM/8Jx/wUL/6Nf8Agz/4fjVv/mXo/wCE4/4KF/8ARr/wZ/8AD8at/wDMvQB7NRXzj8Iv2jv27fjL4Uu/F/hz9lD4SW1vZ%2BKNb0KSO9%2BOuqK5n0vVbrTJ3G3www2NNaSMhzkoykhTlR1H/Ccf8FC/%2BjX/AIM/%2BH41b/5l6APZqK8Z/wCE4/4KF/8ARr/wZ/8AD8at/wDMvR/wnH/BQv8A6Nf%2BDP8A4fjVv/mXoA9morxn/hOP%2BChf/Rr/AMGf/D8at/8AMvXL/BH9o79u348fBjwh8cfCv7KHwktdL8Z%2BF9P13TbbUPjrqizwwXdtHcRpIE8MMocLIAwVmGQcEjmgD6Oorxn/AITj/goX/wBGv/Bn/wAPxq3/AMy9H/Ccf8FC/wDo1/4M/wDh%2BNW/%2BZegD2aivGf%2BE4/4KF/9Gv8AwZ/8Pxq3/wAy9cv8bv2jv27fgP8ABjxf8cfFX7KHwkutL8GeF9Q13UrbT/jrqjTzQWltJcSJGH8MKpcrGQoZlGSMkDmgD6Oorxn/AITj/goX/wBGv/Bn/wAPxq3/AMy9H/Ccf8FC/wDo1/4M/wDh%2BNW/%2BZegD1nVPDfh3XBt1rQbK8B6i6tUk/8AQga5zVP2evgFref7a%2BB3g%2B8z1%2B1eGbWTP/fUZrif%2BE4/4KF/9Gv/AAZ/8Pxq3/zL0f8ACcf8FC/%2BjX/gz/4fjVv/AJl6zlSpT%2BKKfqk/zTOuhj8fhf4FacP8M5x/9JlE1tS/Yg/Yu1jJ1b9kT4YXJPUz%2BAdOc/mYawdR/wCCa3/BP/U8/af2OPh0uf8An38K20P/AKLUVz/xd/aO/bt%2BDXhS08X%2BI/2UPhJc2954o0TQo47L466ozifVNVtdMgc7vDCjYs13GznOQisQGOFPUf8ACcf8FC/%2BjX/gz/4fjVv/AJl655Zfl8/iowf/AG5H/wCRPXo8X8XYf%2BFmWIj6Yiuv/cxzeof8Elf%2BCcOpZ%2B0fsj%2BFlz/z7pNF/wCgSCsa%2B/4Is/8ABMXUc/aP2VdPXP8Azw8QanF/6BdCu9/4Tj/goX/0a/8ABn/w/Grf/MvR/wAJx/wUL/6Nf%2BDP/h%2BNW/8AmXrGWTZPLfD0/wDwCP8AkepS8SvEah/DznFr0xNb/wCWM8yP/BD3/gmjAc6T8Br%2BwPrZ%2BOdZX%2Bd2aQ/8EVv2H4ONJs/HVh6fY/iJqQx/31Ka9O/4Tj/goX/0a/8ABn/w/Grf/MvXL%2BPv2jv27fh34r8EeENY/ZQ%2BEk1x488US6FpUlt8ddUKQTx6VqGpl5d3hgEJ5OnTKCoY73QYwSy5/wBhZL0w0F6RS/Kx1f8AEV/E5/FnOJf%2BKtKX/pXMcz/w5u/Zpg/5Bfxb%2BMVjjp9k%2BJ94Mfnml/4dCfC2H/kG/tcftD2Xp9l%2BLE4x%2BcZr03/hOP8AgoX/ANGv/Bn/AMPxq3/zL0f8Jx/wUL/6Nf8Agz/4fjVv/mXo/sLKOlFf%2BTL8poP%2BIq%2BIr%2BLM6j9VSl/6VQkeY/8ADpjSof8AkHf8FDf2p7T0Fv8AGBgB%2Bdsap/BX9lS7/Zj/AOChfgtbj9pj4qfEVda%2BDPjLYPib4qGqHT/J1bwrn7OfLTy/M80b%2Bu7yo%2BmOfWv%2BE4/4KF/9Gv8AwZ/8Pxq3/wAy9UPA/gf9qzxj%2B1Z4c%2BN3xu%2BHHw98M6N4Z%2BHviHQ4YfCvxDvtauru61K%2B0S4RmS40ixSKNE0uUFg7sWlQBcZI2oZVl%2BGqqpShaS85/k5tfgefmnH3F%2Bd4GeDx2K9pTna6dOgr2aa96GGpzWqW012d1dP3WiiivQPjwooooAKKKKACvBv%2BCdnhTS/DHwV8XT6aG36r8efiVfXbNj5pW8Z6wnbsFRR%2BFe818lfsleLP2ztP%2BHviiz%2BGPwD%2BGGr6Enxp%2BIv9n6jr3xd1HTbuZf8AhM9ZLGS2i0C5SIhtwAEz5AByCdoTim030LjUqQhKCekrXXezuvuep9a0V4z/AMJx/wAFC/8Ao1/4M/8Ah%2BNW/wDmXo/4Tj/goX/0a/8ABn/w/Grf/MvTIPZqK8Z/4Tj/AIKF/wDRr/wZ/wDD8at/8y9H/Ccf8FC/%2BjX/AIM/%2BH41b/5l6APZqK%2Bcfgj%2B0d%2B3b8ePgx4Q%2BOPhX9lD4SWul%2BM/C%2Bn67pttqHx11RZ4YLu2juI0kCeGGUOFkAYKzDIOCRzXUf8ACcf8FC/%2BjX/gz/4fjVv/AJl6APZqK8Z/4Tj/AIKF/wDRr/wZ/wDD8at/8y9H/Ccf8FC/%2BjX/AIM/%2BH41b/5l6APZqK%2Bcfjd%2B0d%2B3b8B/gx4v%2BOPir9lD4SXWl%2BDPC%2Boa7qVtp/x11Rp5oLS2kuJEjD%2BGFUuVjIUMyjJGSBzXUf8ACcf8FC/%2BjX/gz/4fjVv/AJl6APZqK8Z/4Tj/AIKF/wDRr/wZ/wDD8at/8y9H/Ccf8FC/%2BjX/AIM/%2BH41b/5l6APZqK8Z/wCE4/4KF/8ARr/wZ/8AD8at/wDMvXL/ABd/aO/bt%2BDXhS08X%2BI/2UPhJc2954o0TQo47L466ozifVNVtdMgc7vDCjYs13GznOQisQGOFIB9HUV4z/wnH/BQv/o1/wCDP/h%2BNW/%2BZej/AITj/goX/wBGv/Bn/wAPxq3/AMy9AHs1FeM/8Jx/wUL/AOjX/gz/AOH41b/5l6P%2BE4/4KF/9Gv8AwZ/8Pxq3/wAy9AHs1FfOPj79o79u34d%2BK/BHhDWP2UPhJNcePPFEuhaVJbfHXVCkE8elahqZeXd4YBCeTp0ygqGO90GMEsvUf8Jx/wAFC/8Ao1/4M/8Ah%2BNW/wDmXoA9morxn/hOP%2BChf/Rr/wAGf/D8at/8y9H/AAnH/BQv/o1/4M/%2BH41b/wCZegD2aivGf%2BE4/wCChf8A0a/8Gf8Aw/Grf/MvXL6t%2B0d%2B3bo/xn0D4HXH7KHwkbVPEXhfV9ds7lPjrqnkRwadc6bbzI5PhjcHZtUgKgKQQkmSpChgD6Oorxn/AITj/goX/wBGv/Bn/wAPxq3/AMy9H/Ccf8FC/wDo1/4M/wDh%2BNW/%2BZegD2aivGf%2BE4/4KF/9Gv8AwZ/8Pxq3/wAy9H/Ccf8ABQv/AKNf%2BDP/AIfjVv8A5l6APZqK%2BcdJ/aO/bt1j4z6/8Drf9lD4SLqnh3wvpGu3ly/x11TyJINRudSt4UQjwxuLq2lzlgVAAePBYlgvUf8ACcf8FC/%2BjX/gz/4fjVv/AJl6APZqK8Z/4Tj/AIKF/wDRr/wZ/wDD8at/8y9H/Ccf8FC/%2BjX/AIM/%2BH41b/5l6APZqK8Z/wCE4/4KF/8ARr/wZ/8AD8at/wDMvXL%2BAf2jv27fiJ4r8b%2BENH/ZQ%2BEkNx4D8URaFqslz8ddUCTzyaVp%2Bph4tvhgkp5OowqSwU70cYwAzAH0dRXjP/Ccf8FC/wDo1/4M/wDh%2BNW/%2BZej/hOP%2BChf/Rr/AMGf/D8at/8AMvQB7NXjP7L/APyW/wDaO/7LNY/%2BoV4Xo/4Tj/goX/0a/wDBn/w/Grf/ADL1b/ZW%2BHPxp8H6x8UPHfx00DwvpOqePviFFrlnpXhPxLc6tb2trFoOj6YqvcXFlZs0jSadK5URbQsiDcxzgA9booooAKKKKACiiigAooooAKKKKACiiigAooooAKKKKACiiigAooooAKKKKACvlf8Aae/a0%2BLnww%2BMfizWvAPh3wfJ4Y%2BD/h/w/e%2BNTrWkXE2q6pb6vfypcwWFxHcRpZeRbWcdxmSKcXMhSMiHy/NP1RXjPxn/AGIfhx8bvikfiZrnjnxVpcWo2ukWvi/w1o11app3imDS72S9sYr5ZbeSYLHNNLn7PLAZY5DFMZYwqAA9mooooAKKKKAPmPw5%2B0r8TIf2/wDxR8H/AIjax4e8J%2BG18QWmieDItR%2BEWspdeMYBoEGo4g8RtdrpzSx3dzqAFoIXk8u0mAUFmkX6cryvxZ%2By1B4/%2BMmkfFPx78b/ABrq%2BleHtdj1rQPAFwdMi0ax1CO3eCOcNDZJey7PMkkVJrqSMSPu2fIgX1SgAooooA8X/wCCgvxd%2BOH7P37I/jT49fAK98KR6x4J0K71y6g8YaLc31td2lrbSzPboltdWzJK7IiiQuVQFiUfgV5/48/a0%2BLngv48eLdT8KeHfCEXw88IfGPwj8PvGVnNpFwdb1XVddg0VI9Qhu0uFhjjg/tzSYzFJbyvIkM%2BJY9qCvYf2sf2cbL9rT4Ea9%2Bz7rXxV8U%2BEdJ8T2Utjrl/4QXTvtdzZSxPFNbbr%2B0uo0R1flkRZAVG115zxcH7APg6f4i2fxF8VfHHx9rrHWdJ1zxNo2oS6VFY%2BJ9c0xI0sdWvY7awiZbiIQWmFtmggY2NsXiYx5IB73RRRQAV4v8Atk/F344fBK18A%2BMfhZe%2BFP7G1D4meHPD3i%2Bx8QaLc3N1c2uq6zY6aDZyw3UKW0ka3Msm%2BRJ1JRF2ck17RXlX7V37Lb/tVeG9C8Lz/H3xv4Gt9C8SWGuo3guHR2e7vbG8gvLNpTqWn3g2xXFvG4WMIG5WTep2gA84/Z5/aV%2BJmt/tVeLfgj8UNX8PeE9Oh8U63b%2BCfCUnwi1nTLnXraF0lN/b61cXf2DUHYyTSyxW0BfkuxXDE/TleS6T%2ByiH%2BMmi/GX4j/tAeO/Gs3he7vLvwnoXiEaTDYaPdXNvJayXES2Gn20sr/Z5p4V8%2BSVUWd9oBII9aoAKKKKAPD/27vi58eP2fvg1q/x1%2BFHjHwLY6f4W0W5vL3RfFnhm9v7nxDe5RbPTLOS2vYPs81xKRbo3lXTNLPEFhY/K3n/wR/a%2B%2BM%2BufEvwV/a3gzwlpHw08b/E/wAUfDbwr4a07S5o9X0S/wBAh1bfPPci4a3mgkbw/qaLDHbxGNWtj5kmWA9P/aV/ZBg/aS8eeCPiBN%2B0D478IXPgG7ub3RbHwxFo09nJeyoI1vJoNT068R54Y/MWGQBTGJ5SPmbIq%2BA/2Gvh74D%2BMtv8XYfiL4u1KDTtd1PXtE8Ialc2X9k6VreoxvHqGqQJFapP584nuyyvM8KNfXJjij8zgA9rooooAK%2BX/wBrn48ftL/Bb4iaf4U0qHwB410fxzDrVtovw5i8H30msJa2mh3V3Jf3E4vXiurYXUVvbSQi1iB%2B3woJjIyJJ9QV4dN%2BxNcR/tH%2BK/2mtE/ar%2BJenav4t02HTrnS4YPD89pp9nDA0cNtZtc6TLc28Syu91sWba87l3Dg7aAGfsIftB%2BN/j38Pby6%2BK/j7Rr7xdpws21/w3ZfC7V/CN5oDz2yyiC5stXup7hwW3%2BXcAJHIqHaG2k17pXm/wADv2btO%2BDPifxJ8Q9Y%2BKXinxx4q8VxWNvrHifxc1gty9pZib7LapFp9ra20cUbXNy42whma4kLM2Rj0igAooooA%2BOf%2BCgn7cfxU/Yw8c/2nrmi6B4x8Ivo2o63b%2BFZfhzqdlLbppujX2pJJ/wkU10%2BmT3f2vTRssVgS6EcyygbYWkb179mj4u/HPVvip43/Z6/aOufCmoeJ/COk6HrUeteCtIubCxubHVBeRpEYLm5uXWWK4067Uv5uJEMTbIySorfHX9hLwR%2B05rV1a/H/wCLfjXxR4LuZLiRfhleSabDosUk1jNZM2%2B3so76QCO4mYJLdOgd9235EC9P%2Bz5%2BzNpHwDvNe8RXfxQ8WeOPEfiQ2cereKvGtxZvfS21pEYrW1H2O2t4ViiDysMR72eeV3Z2cmgD0qiiigAr4j/an/bK/az%2BDfxq8QfCjwd4b8OeNdTsNFuNd8MBPgf4gjk0UDUdMtUMLfbnHiaQWOqXHnf2X5TwtCVlEYmEdfbleH69%2BxbqfiXx6fidrX7XPxRm1vT4LyLwbeFNAA8KrdTQyT/ZIxpOydmjgW33Xq3TLEzhSruzkA6r9lj4sP8AGT4RweLL34maN4qv4dRurLVL7RvBl94dFtcRSsrWs2m6hcT3VnPGMK8czh8/NtUMBXo1cN8A/gL4e%2BAHhnU9G0rxTrfiDUdf1641vxJ4k8RzQNe6rfzBEaeUW8UMCYjihiVIYo41SJAFGCT3NABRRRQAUUUUAFFFFABRRRQBR8UeIbDwl4a1HxXqoc2umWM13ciJct5caF2wO5wpr5z/AGJv2k/jX4/8U6P4M%2BNnh7wZZjx18LbL4jeGYfBmlXFoNMjvLgm70%2B7M1xKLuaN7m2f7YggE7SzEwR7QX%2Blru0tb%2B1lsb23SaGaNo5opVDK6kYKkHggjjFeQ/szfsV%2BAv2YNVfV9A%2BIPi3xLLbeGLHwz4dHiy9tZhoGhWbyPb6bam3t4S0amT5pZzNcSCOLzJn8tcAHsVFFFABXC/tQePPiL8LP2aPiJ8Tvg/wCFF17xb4c8C6vqnhbQ2sZroajqNvZyy21sYYGWWYSSoieXGwdt2FIJBruqzvFuiX/iXwxqHh/S/Feo6Fc3tpJDb61pCwNdWLspAmiFxFLEXU8gSRumR8ysMggHl37FPxan%2BKHwzvrLVviF4f1nU/Duqrp15pmifDDU/Bz6GgtoJIrO40rVLme5hcI4kV28tHili2Jgb39irzz4D/s7aT8DrzxL4jufiJ4k8Y%2BJPF%2Bow3niLxT4rezF3dGG3S3giEdjbW1tFFHGgCrHCmSzsxZmZj6HQAUUUUAfLn7VH7WPxQ/Zw%2BL3jiy%2BJWjeEvEXwvsP2d/F/j220K30S4TVXbRBpaz21xcyXL280U6304CC2QqETLvlhXb/ALM/xf8Aj5qnxc8Zfs6/tLP4SvPFHhjwx4e8Sx6r4K0m5sbKSy1Z9St1tjDc3Ny5lhuNIuwZRIFkR4m8uM7lqD4x/sK%2BHfjp8dW%2BMvjz47eOZdNm8Fan4Rvvh7DBov8AYl3o2pLbfb7SQvprXpE7WkDs4ug6lCEZEZkPSfs7/su6H%2Bz7fa14jn%2BKHi3xv4h1%2B1sLK/8AE/ja5tJL02Fiki2dmPsltbx%2BVEZ7hwShkd7mV3d2bNAHp9FFFABXyJ8a/wBpf9rbwZrv7QHgS38K%2BDPFl74C8P8AhTxJ8NrHSfh/qd/Oseo6rqUIS8tYrx5dRngXTY51NsLclyQq/KrV9d14XL%2BxR4hi%2BOnjb4/6F%2B2h8VtK1bxvpFjplzY2Vn4Ya0022sri5ns0thLoryfujeXSgzPKXWciTzCqFQDq/wBlT4tzfGX4UjxNqPxO0bxTqNrqtzY6tdaP4Iv/AA2bO4ib5rWfTNRuJ7q0nRSu5JmDEMrbVVhXpNcJ8A/gHoHwB0LWbHT/ABbrniPVfE3iCXXPE/ibxJLbte6rfyQwwebILaGGCMLBb28KpFFGipCgC5yT3dABRRRQB8bftLftd/tLfs8fGaD4baynwz8a32twQTeEYdO8LXtpL4LvNS8Q6Z4e0ibU5XvphdRTtq84LRLZyOLG6WMMvmGL3H9lX4v/ABI%2BIw8f/D74xHRJ/FXw08eN4a1nVfDWnTWdhqfmaXp2rW9xDbzTzyW%2BbXVLdHjaaXEkcmGIIxwtt/wTV8JNdfEN/EP7S/xO1m3%2BJOvHXNYt9SOheZZ6lFcQz6fc211FpaXSmwe3txaRvNJFEsKBkfnPrHwD%2BAuh/APw9q2m2Xi/XPEmreItem1rxP4o8SvbG/1e%2Bkjih86YWsEEC7IILeBEiijRY4I1C8EkA7qiiigBlz9p%2BzSfY9nnbD5Xm527scZxzjNfEHxW/a5/bT%2BGnxE1z4bW9t4D8Z694YvfDVvq3jrwR8Fdf1aPw5b6s1497YS6VZ6lPd3M0cNlY3RMU6fu7qFpYEBiaT7eu4ZLi1lt4bqSB5I2VZ4gpeMkYDLuBXI6jII9Qa%2Be/gx%2BwF4g%2BAnw2uPhp8O/26vjFFHdas%2BpzazeWXhOfUJbuV5ZLmeaZ9CP2mSd5d0kk4kfMabCgGCAes/AT4h2XxW%2BDvh/4hWHxA0bxUmp6eJH1/w/pM1haXcgJWQpazzTS2xV1ZGhkkd42VlY7lIHX1yXwL%2BC/hL9n34X6d8KfBVzf3FlYS3VxNfarcia6vru6uZbq6upnCqGlmuJ5pX2qq7pDtVVwo62gAqj4nh8SXPhvULfwbqdjZavJZSrpd5qdg91bQXBQiOSWGOWJpo1bBZFkjLAEB1J3C9Wb4x0G/8AFHha/wDDul%2BLdS0G5vLV4oNa0cQG6sXI4miFxFLEXU8gSRuhx8ysMigD4e%2BG/wC3Z%2B1r8YPinrfwS%2BFmm/D5PGem2uu30njPxX8Lta0NdU0zSLXRZUsZdEvL5NQ0%2BV7vxDsSaeZ4/KhkuEhdZ0B%2BxvgF8WtN%2BPnwJ8FfHXRtNls7Pxr4S03XrSzmfc8EV5ax3CxsQBkqJACfUV4tq/8AwTI8D61rl98Rbv8AaU%2BKafEDVkvLXWviTbXukQ6tf6ZdW1rbTaYUTTRZw2xSytGHkW0UqyQLKsocsx%2Bg/Bfg/wANfDzwdpPgDwZpMWn6PoemQafpNhDnZbW0MaxxRrnnCoqqPpQBp0UUUAcv8adR8caN8Lda1v4c%2BIbHS9WsLM3UN9qHg%2B98QIkcZDygadYzwXN5I0SuqRQyBy7LhXPyN8W/CX/goj8fvEnjTQ9T8b3HhHwJ4M1KedfEHji8%2BBniKa21i/h1%2B60hEuZVvo08MzyWtpa/uNUaSWB5VjfOwJX238TPBmu%2BPfCU3hzw38Utf8G3kksbxa/4ZisXu4NrAlVW/trmBgwBUh4m4Jxg4I8Vuv8AgnN4U1DwfcfDbVv2kPibd%2BGNc1Ca/wDHmgTXGjiLxhdz3jXVxNfSrpouIvNLLC0dnLaxCGJI1RRu3AH0TRRRQAUUUUAFFFFABRRRQAUUUUAFFFFABRRRQAUUUUAFFFFABRRRQAUUUUAFFFFABRRRQAUUUUAFFFFABRRRQAUUUUAFFFFABRRRQAUUUUAFFFFABRRRQAUUUUAFFFFABRRRQAUUUUAFFFFABRRRQAUUUUAFFFFABRRRQAUUUUAFFFFABRRRQAUUUUAFFFFABRRRQAUUUUAFFFFABRRRQAUUUUAFFFFABRRRQAUUUUAFFFFABRRRQAUUUUAFFFFABRRRQAUUUUAFFFFABRRRQAUUUUAFFFFABRRRQAUUUUAFFFFABRRRQAUUUUAFFFFABRRRQB//2Q%3D%3D\">"
            ]
          },
          "metadata": {
            "tags": []
          }
        }
      ]
    },
    {
      "cell_type": "markdown",
      "metadata": {
        "id": "tDggSAreWbC8",
        "colab_type": "text"
      },
      "source": [
        "# Submit the MLP with 2 hidden layers\n",
        "Run these cells after training the MLP with 2 hidden layers"
      ]
    },
    {
      "cell_type": "code",
      "metadata": {
        "id": "q_M3FDqSWbC9",
        "colab_type": "code",
        "colab": {}
      },
      "source": [
        "## GRADED PART, DO NOT CHANGE!\n",
        "# Validation loss for MLP\n",
        "grader.set_answer(\"i8bgs\", s.run(loss, {input_X: X_val_flat, input_y: y_val_oh}))\n",
        "# Validation accuracy for MLP\n",
        "grader.set_answer(\"rE763\", accuracy_score(y_val, s.run(classes, {input_X: X_val_flat})))"
      ],
      "execution_count": 0,
      "outputs": []
    },
    {
      "cell_type": "code",
      "metadata": {
        "id": "XBRYxc8MWbC-",
        "colab_type": "code",
        "colab": {
          "base_uri": "https://localhost:8080/",
          "height": 33
        },
        "outputId": "67f47e20-c606-4d0b-edd4-b1729174fcf9"
      },
      "source": [
        "# you can make submission with answers so far to check yourself at this stage\n",
        "grader.submit(COURSERA_EMAIL, COURSERA_TOKEN)"
      ],
      "execution_count": 21,
      "outputs": [
        {
          "output_type": "stream",
          "text": [
            "Submitted to Coursera platform. See results on assignment page!\n"
          ],
          "name": "stdout"
        }
      ]
    },
    {
      "cell_type": "code",
      "metadata": {
        "id": "xzSVVqyaWbDA",
        "colab_type": "code",
        "colab": {}
      },
      "source": [
        ""
      ],
      "execution_count": 0,
      "outputs": []
    }
  ]
}